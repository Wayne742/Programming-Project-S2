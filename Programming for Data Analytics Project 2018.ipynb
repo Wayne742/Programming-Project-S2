{
 "cells": [
  {
   "cell_type": "markdown",
   "metadata": {},
   "source": [
    "# Programming for Data Analysis Project 2018."
   ]
  },
  {
   "cell_type": "markdown",
   "metadata": {},
   "source": [
    "# Introduction."
   ]
  },
  {
   "cell_type": "markdown",
   "metadata": {},
   "source": [
    "### Importing Libraries."
   ]
  },
  {
   "cell_type": "code",
   "execution_count": 1,
   "metadata": {},
   "outputs": [],
   "source": [
    "import numpy as np\n",
    "import pandas as pd\n",
    "import matplotlib.pyplot as plt\n",
    "import random"
   ]
  },
  {
   "cell_type": "markdown",
   "metadata": {
    "collapsed": true
   },
   "source": [
    "# 1. Choose a phenomenon.\n",
    "Choose a real world phenomenon that can be measured and for which you could collect at least one-hundred data points across at least four different variables."
   ]
  },
  {
   "cell_type": "markdown",
   "metadata": {},
   "source": [
    "### 1.1 What  & Why? "
   ]
  },
  {
   "cell_type": "markdown",
   "metadata": {},
   "source": [
    "### 1.2 The use of evidence."
   ]
  },
  {
   "cell_type": "markdown",
   "metadata": {
    "collapsed": true
   },
   "source": [
    "# 2. Investigation of variables.\n",
    "Investigate the types of variables involved, their likely distribution and their relationship with each other."
   ]
  },
  {
   "cell_type": "markdown",
   "metadata": {},
   "source": [
    "### 2.1 Beats Per MInute.\n",
    "The speed a player can play 16th notes.\n",
    "\n",
    "This variable is a non negative number. "
   ]
  },
  {
   "cell_type": "markdown",
   "metadata": {},
   "source": [
    "### 2.2 Average Daily Practice Time.\n",
    "The average time spent per day practicing the instrument.\n",
    "\n",
    "Variable is time in minutes and is a non negative number."
   ]
  },
  {
   "cell_type": "markdown",
   "metadata": {},
   "source": [
    "### 2.3 Technical Practice.\n",
    "How much time (in minutes) do players spend on focused technical practice only.\n",
    "\n",
    "Variable in time. A non negative number, in minutes.\n",
    "The is a high correlation between this variable and BPM."
   ]
  },
  {
   "cell_type": "markdown",
   "metadata": {},
   "source": [
    "### 2.4 Length of Time Playing.\n",
    "Number of years playing.\n",
    "Variable is a non negative number in years."
   ]
  },
  {
   "cell_type": "markdown",
   "metadata": {},
   "source": [
    "### 2.5 The Sample Dataset. "
   ]
  },
  {
   "cell_type": "code",
   "execution_count": 2,
   "metadata": {},
   "outputs": [],
   "source": [
    "# List of Guitar Players. Some famous, some not so famous!\n",
    "player = ['Guthrie Govan', 'Steve Vai', 'Jess Lewis', 'Al Joseph', 'Martin Miller', 'Jake Wilson', 'Jennifer Batten'\n",
    "          ,'Joe Satriani', 'Andy James', 'Me', 'Pat Sheil', 'Aidan Conlon', 'Declan Collins', 'Adrian Connaire', \n",
    "          'Phillip Joyce', 'John McNamee', 'Michael Kelly', 'Sean Dunne', 'Glenn Burke', 'Nick Morahan']"
   ]
  },
  {
   "cell_type": "code",
   "execution_count": 3,
   "metadata": {},
   "outputs": [],
   "source": [
    "# Series of values for 'bpmp' which stands for Beats Per Minute Players.\n",
    "bpmp = pd.Series([200, 200, 160, 180, 200, 160, 180, 170, 170, 110, 86, 144, 98, 90, 130, 72, 98, 80, 140, 138])"
   ]
  },
  {
   "cell_type": "code",
   "execution_count": 4,
   "metadata": {},
   "outputs": [],
   "source": [
    "# Series of values for 'tp'. This variable is Technical Practice. Time spent in minutes.\n",
    "tp = pd.Series([90, 90, 50, 60, 60, 50, 50, 60, 60, 15, 15, 20, 10, 10, 20, 10, 10, 10, 15, 30])"
   ]
  },
  {
   "cell_type": "code",
   "execution_count": 5,
   "metadata": {},
   "outputs": [],
   "source": [
    "# Series of values for 'daily'. This is the amount of time in minutes spent practicing each day.\n",
    "daily = pd.Series([300, 600, 240, 300, 300, 300, 180, 180, 180, 30, 90, 120, 70, 60, 60, 30, 30, 45, 60, 70])"
   ]
  },
  {
   "cell_type": "code",
   "execution_count": 6,
   "metadata": {},
   "outputs": [],
   "source": [
    "# Series of values for 'years'. The number of years playing the instrument.\n",
    "years = pd.Series([43, 45, 10, 10, 8, 9, 40, 48, 18, 30, 15, 26, 25, 34, 16, 4, 7, 8, 20, 8])"
   ]
  },
  {
   "cell_type": "code",
   "execution_count": 7,
   "metadata": {},
   "outputs": [],
   "source": [
    "# Create a dictonary called 'sample'. Contains all the list created above.\n",
    "sample = {'Players':player, 'BPM':bpmp, 'Technical Practice':tp, 'Daily Practice':daily, 'Years':years}"
   ]
  },
  {
   "cell_type": "code",
   "execution_count": 8,
   "metadata": {},
   "outputs": [],
   "source": [
    "# Created a DataFrame called 'baseline'. Populated it with the data in the dictonary called 'samples'.\n",
    "baseline = pd.DataFrame(sample)"
   ]
  },
  {
   "cell_type": "code",
   "execution_count": 9,
   "metadata": {},
   "outputs": [
    {
     "data": {
      "text/html": [
       "<div>\n",
       "<style scoped>\n",
       "    .dataframe tbody tr th:only-of-type {\n",
       "        vertical-align: middle;\n",
       "    }\n",
       "\n",
       "    .dataframe tbody tr th {\n",
       "        vertical-align: top;\n",
       "    }\n",
       "\n",
       "    .dataframe thead th {\n",
       "        text-align: right;\n",
       "    }\n",
       "</style>\n",
       "<table border=\"1\" class=\"dataframe\">\n",
       "  <thead>\n",
       "    <tr style=\"text-align: right;\">\n",
       "      <th></th>\n",
       "      <th>Players</th>\n",
       "      <th>BPM</th>\n",
       "      <th>Technical Practice</th>\n",
       "      <th>Daily Practice</th>\n",
       "      <th>Years</th>\n",
       "    </tr>\n",
       "  </thead>\n",
       "  <tbody>\n",
       "    <tr>\n",
       "      <th>0</th>\n",
       "      <td>Guthrie Govan</td>\n",
       "      <td>200</td>\n",
       "      <td>90</td>\n",
       "      <td>300</td>\n",
       "      <td>43</td>\n",
       "    </tr>\n",
       "    <tr>\n",
       "      <th>1</th>\n",
       "      <td>Steve Vai</td>\n",
       "      <td>200</td>\n",
       "      <td>90</td>\n",
       "      <td>600</td>\n",
       "      <td>45</td>\n",
       "    </tr>\n",
       "    <tr>\n",
       "      <th>2</th>\n",
       "      <td>Jess Lewis</td>\n",
       "      <td>160</td>\n",
       "      <td>50</td>\n",
       "      <td>240</td>\n",
       "      <td>10</td>\n",
       "    </tr>\n",
       "    <tr>\n",
       "      <th>3</th>\n",
       "      <td>Al Joseph</td>\n",
       "      <td>180</td>\n",
       "      <td>60</td>\n",
       "      <td>300</td>\n",
       "      <td>10</td>\n",
       "    </tr>\n",
       "    <tr>\n",
       "      <th>4</th>\n",
       "      <td>Martin Miller</td>\n",
       "      <td>200</td>\n",
       "      <td>60</td>\n",
       "      <td>300</td>\n",
       "      <td>8</td>\n",
       "    </tr>\n",
       "    <tr>\n",
       "      <th>5</th>\n",
       "      <td>Jake Wilson</td>\n",
       "      <td>160</td>\n",
       "      <td>50</td>\n",
       "      <td>300</td>\n",
       "      <td>9</td>\n",
       "    </tr>\n",
       "    <tr>\n",
       "      <th>6</th>\n",
       "      <td>Jennifer Batten</td>\n",
       "      <td>180</td>\n",
       "      <td>50</td>\n",
       "      <td>180</td>\n",
       "      <td>40</td>\n",
       "    </tr>\n",
       "    <tr>\n",
       "      <th>7</th>\n",
       "      <td>Joe Satriani</td>\n",
       "      <td>170</td>\n",
       "      <td>60</td>\n",
       "      <td>180</td>\n",
       "      <td>48</td>\n",
       "    </tr>\n",
       "    <tr>\n",
       "      <th>8</th>\n",
       "      <td>Andy James</td>\n",
       "      <td>170</td>\n",
       "      <td>60</td>\n",
       "      <td>180</td>\n",
       "      <td>18</td>\n",
       "    </tr>\n",
       "    <tr>\n",
       "      <th>9</th>\n",
       "      <td>Me</td>\n",
       "      <td>110</td>\n",
       "      <td>15</td>\n",
       "      <td>30</td>\n",
       "      <td>30</td>\n",
       "    </tr>\n",
       "    <tr>\n",
       "      <th>10</th>\n",
       "      <td>Pat Sheil</td>\n",
       "      <td>86</td>\n",
       "      <td>15</td>\n",
       "      <td>90</td>\n",
       "      <td>15</td>\n",
       "    </tr>\n",
       "    <tr>\n",
       "      <th>11</th>\n",
       "      <td>Aidan Conlon</td>\n",
       "      <td>144</td>\n",
       "      <td>20</td>\n",
       "      <td>120</td>\n",
       "      <td>26</td>\n",
       "    </tr>\n",
       "    <tr>\n",
       "      <th>12</th>\n",
       "      <td>Declan Collins</td>\n",
       "      <td>98</td>\n",
       "      <td>10</td>\n",
       "      <td>70</td>\n",
       "      <td>25</td>\n",
       "    </tr>\n",
       "    <tr>\n",
       "      <th>13</th>\n",
       "      <td>Adrian Connaire</td>\n",
       "      <td>90</td>\n",
       "      <td>10</td>\n",
       "      <td>60</td>\n",
       "      <td>34</td>\n",
       "    </tr>\n",
       "    <tr>\n",
       "      <th>14</th>\n",
       "      <td>Phillip Joyce</td>\n",
       "      <td>130</td>\n",
       "      <td>20</td>\n",
       "      <td>60</td>\n",
       "      <td>16</td>\n",
       "    </tr>\n",
       "    <tr>\n",
       "      <th>15</th>\n",
       "      <td>John McNamee</td>\n",
       "      <td>72</td>\n",
       "      <td>10</td>\n",
       "      <td>30</td>\n",
       "      <td>4</td>\n",
       "    </tr>\n",
       "    <tr>\n",
       "      <th>16</th>\n",
       "      <td>Michael Kelly</td>\n",
       "      <td>98</td>\n",
       "      <td>10</td>\n",
       "      <td>30</td>\n",
       "      <td>7</td>\n",
       "    </tr>\n",
       "    <tr>\n",
       "      <th>17</th>\n",
       "      <td>Sean Dunne</td>\n",
       "      <td>80</td>\n",
       "      <td>10</td>\n",
       "      <td>45</td>\n",
       "      <td>8</td>\n",
       "    </tr>\n",
       "    <tr>\n",
       "      <th>18</th>\n",
       "      <td>Glenn Burke</td>\n",
       "      <td>140</td>\n",
       "      <td>15</td>\n",
       "      <td>60</td>\n",
       "      <td>20</td>\n",
       "    </tr>\n",
       "    <tr>\n",
       "      <th>19</th>\n",
       "      <td>Nick Morahan</td>\n",
       "      <td>138</td>\n",
       "      <td>30</td>\n",
       "      <td>70</td>\n",
       "      <td>8</td>\n",
       "    </tr>\n",
       "  </tbody>\n",
       "</table>\n",
       "</div>"
      ],
      "text/plain": [
       "            Players  BPM  Technical Practice  Daily Practice  Years\n",
       "0     Guthrie Govan  200                  90             300     43\n",
       "1         Steve Vai  200                  90             600     45\n",
       "2        Jess Lewis  160                  50             240     10\n",
       "3         Al Joseph  180                  60             300     10\n",
       "4     Martin Miller  200                  60             300      8\n",
       "5       Jake Wilson  160                  50             300      9\n",
       "6   Jennifer Batten  180                  50             180     40\n",
       "7      Joe Satriani  170                  60             180     48\n",
       "8        Andy James  170                  60             180     18\n",
       "9                Me  110                  15              30     30\n",
       "10        Pat Sheil   86                  15              90     15\n",
       "11     Aidan Conlon  144                  20             120     26\n",
       "12   Declan Collins   98                  10              70     25\n",
       "13  Adrian Connaire   90                  10              60     34\n",
       "14    Phillip Joyce  130                  20              60     16\n",
       "15     John McNamee   72                  10              30      4\n",
       "16    Michael Kelly   98                  10              30      7\n",
       "17       Sean Dunne   80                  10              45      8\n",
       "18      Glenn Burke  140                  15              60     20\n",
       "19     Nick Morahan  138                  30              70      8"
      ]
     },
     "execution_count": 9,
     "metadata": {},
     "output_type": "execute_result"
    }
   ],
   "source": [
    "# Displaying the 'baseline' DataFrame.\n",
    "baseline"
   ]
  },
  {
   "cell_type": "code",
   "execution_count": 10,
   "metadata": {},
   "outputs": [
    {
     "data": {
      "text/html": [
       "<div>\n",
       "<style scoped>\n",
       "    .dataframe tbody tr th:only-of-type {\n",
       "        vertical-align: middle;\n",
       "    }\n",
       "\n",
       "    .dataframe tbody tr th {\n",
       "        vertical-align: top;\n",
       "    }\n",
       "\n",
       "    .dataframe thead th {\n",
       "        text-align: right;\n",
       "    }\n",
       "</style>\n",
       "<table border=\"1\" class=\"dataframe\">\n",
       "  <thead>\n",
       "    <tr style=\"text-align: right;\">\n",
       "      <th></th>\n",
       "      <th>BPM</th>\n",
       "      <th>Technical Practice</th>\n",
       "      <th>Daily Practice</th>\n",
       "      <th>Years</th>\n",
       "    </tr>\n",
       "  </thead>\n",
       "  <tbody>\n",
       "    <tr>\n",
       "      <th>count</th>\n",
       "      <td>20.000000</td>\n",
       "      <td>20.00000</td>\n",
       "      <td>20.000000</td>\n",
       "      <td>20.000000</td>\n",
       "    </tr>\n",
       "    <tr>\n",
       "      <th>mean</th>\n",
       "      <td>140.300000</td>\n",
       "      <td>36.75000</td>\n",
       "      <td>162.250000</td>\n",
       "      <td>21.200000</td>\n",
       "    </tr>\n",
       "    <tr>\n",
       "      <th>std</th>\n",
       "      <td>42.788464</td>\n",
       "      <td>27.10967</td>\n",
       "      <td>144.390507</td>\n",
       "      <td>14.307157</td>\n",
       "    </tr>\n",
       "    <tr>\n",
       "      <th>min</th>\n",
       "      <td>72.000000</td>\n",
       "      <td>10.00000</td>\n",
       "      <td>30.000000</td>\n",
       "      <td>4.000000</td>\n",
       "    </tr>\n",
       "    <tr>\n",
       "      <th>25%</th>\n",
       "      <td>98.000000</td>\n",
       "      <td>13.75000</td>\n",
       "      <td>60.000000</td>\n",
       "      <td>8.750000</td>\n",
       "    </tr>\n",
       "    <tr>\n",
       "      <th>50%</th>\n",
       "      <td>142.000000</td>\n",
       "      <td>25.00000</td>\n",
       "      <td>105.000000</td>\n",
       "      <td>17.000000</td>\n",
       "    </tr>\n",
       "    <tr>\n",
       "      <th>75%</th>\n",
       "      <td>172.500000</td>\n",
       "      <td>60.00000</td>\n",
       "      <td>255.000000</td>\n",
       "      <td>31.000000</td>\n",
       "    </tr>\n",
       "    <tr>\n",
       "      <th>max</th>\n",
       "      <td>200.000000</td>\n",
       "      <td>90.00000</td>\n",
       "      <td>600.000000</td>\n",
       "      <td>48.000000</td>\n",
       "    </tr>\n",
       "  </tbody>\n",
       "</table>\n",
       "</div>"
      ],
      "text/plain": [
       "              BPM  Technical Practice  Daily Practice      Years\n",
       "count   20.000000            20.00000       20.000000  20.000000\n",
       "mean   140.300000            36.75000      162.250000  21.200000\n",
       "std     42.788464            27.10967      144.390507  14.307157\n",
       "min     72.000000            10.00000       30.000000   4.000000\n",
       "25%     98.000000            13.75000       60.000000   8.750000\n",
       "50%    142.000000            25.00000      105.000000  17.000000\n",
       "75%    172.500000            60.00000      255.000000  31.000000\n",
       "max    200.000000            90.00000      600.000000  48.000000"
      ]
     },
     "execution_count": 10,
     "metadata": {},
     "output_type": "execute_result"
    }
   ],
   "source": [
    "# Run the pandas command 'describe' on the 'baseline' DataFrame.\n",
    "baseline.describe()"
   ]
  },
  {
   "cell_type": "markdown",
   "metadata": {},
   "source": [
    "#### What is Correlation.\n",
    "The correlation is a statistical measure of the strength of the relationship between two variables. It determines the degree to which two or more random vaiables move in tandem. For example a movement in one variable is reciprocated by a movement, either positive or negative, in another variable then the two variables are said to be correlated (keydifferences.com,2018).\n",
    "\n",
    "Variables can have either a Positive Correlation or a Negative Correlation. When a positive change in one variable results in a positive change in a second variable they are said to be Positively Correlated. When a change in one variable results in a movement in the opposite direction of the other variable they are said to be Negatively Correlated. Correlation values are between +1 and -1. A correlation close to +1 indicates a strong positive relationship and a correlation close to -1 indicates a strong negative relationship (keydifferences.com,2018).   "
   ]
  },
  {
   "cell_type": "code",
   "execution_count": 11,
   "metadata": {},
   "outputs": [
    {
     "data": {
      "text/plain": [
       "0.9128778225354373"
      ]
     },
     "execution_count": 11,
     "metadata": {},
     "output_type": "execute_result"
    }
   ],
   "source": [
    "baseline['BPM'].corr(baseline['Technical Practice'])"
   ]
  },
  {
   "cell_type": "code",
   "execution_count": 12,
   "metadata": {},
   "outputs": [
    {
     "data": {
      "text/plain": [
       "0.7996348049300531"
      ]
     },
     "execution_count": 12,
     "metadata": {},
     "output_type": "execute_result"
    }
   ],
   "source": [
    "baseline['BPM'].corr(baseline['Daily Practice'])"
   ]
  },
  {
   "cell_type": "code",
   "execution_count": 13,
   "metadata": {},
   "outputs": [
    {
     "data": {
      "text/plain": [
       "0.3795573454091754"
      ]
     },
     "execution_count": 13,
     "metadata": {},
     "output_type": "execute_result"
    }
   ],
   "source": [
    "baseline['BPM'].corr(baseline['Years'])"
   ]
  },
  {
   "cell_type": "code",
   "execution_count": 14,
   "metadata": {},
   "outputs": [
    {
     "data": {
      "text/html": [
       "<div>\n",
       "<style scoped>\n",
       "    .dataframe tbody tr th:only-of-type {\n",
       "        vertical-align: middle;\n",
       "    }\n",
       "\n",
       "    .dataframe tbody tr th {\n",
       "        vertical-align: top;\n",
       "    }\n",
       "\n",
       "    .dataframe thead th {\n",
       "        text-align: right;\n",
       "    }\n",
       "</style>\n",
       "<table border=\"1\" class=\"dataframe\">\n",
       "  <thead>\n",
       "    <tr style=\"text-align: right;\">\n",
       "      <th></th>\n",
       "      <th>BPM</th>\n",
       "      <th>Technical Practice</th>\n",
       "      <th>Daily Practice</th>\n",
       "      <th>Years</th>\n",
       "    </tr>\n",
       "  </thead>\n",
       "  <tbody>\n",
       "    <tr>\n",
       "      <th>BPM</th>\n",
       "      <td>1.000000</td>\n",
       "      <td>0.912878</td>\n",
       "      <td>0.799635</td>\n",
       "      <td>0.379557</td>\n",
       "    </tr>\n",
       "    <tr>\n",
       "      <th>Technical Practice</th>\n",
       "      <td>0.912878</td>\n",
       "      <td>1.000000</td>\n",
       "      <td>0.888711</td>\n",
       "      <td>0.429208</td>\n",
       "    </tr>\n",
       "    <tr>\n",
       "      <th>Daily Practice</th>\n",
       "      <td>0.799635</td>\n",
       "      <td>0.888711</td>\n",
       "      <td>1.000000</td>\n",
       "      <td>0.337728</td>\n",
       "    </tr>\n",
       "    <tr>\n",
       "      <th>Years</th>\n",
       "      <td>0.379557</td>\n",
       "      <td>0.429208</td>\n",
       "      <td>0.337728</td>\n",
       "      <td>1.000000</td>\n",
       "    </tr>\n",
       "  </tbody>\n",
       "</table>\n",
       "</div>"
      ],
      "text/plain": [
       "                         BPM  Technical Practice  Daily Practice     Years\n",
       "BPM                 1.000000            0.912878        0.799635  0.379557\n",
       "Technical Practice  0.912878            1.000000        0.888711  0.429208\n",
       "Daily Practice      0.799635            0.888711        1.000000  0.337728\n",
       "Years               0.379557            0.429208        0.337728  1.000000"
      ]
     },
     "execution_count": 14,
     "metadata": {},
     "output_type": "execute_result"
    }
   ],
   "source": [
    "baseline.corr()"
   ]
  },
  {
   "cell_type": "markdown",
   "metadata": {},
   "source": [
    "#### What is Covariance.\n",
    "The covariance is a statistical measure of a systematic relationship between two variables. A change in one variable is reciprocated by an equivalent change in the other variable. It ascertains the linear relationship between the variables. The covariance can be either positive or negative. Where the covariance is 0 there is no relationsip between the variables (keydifferences.com,2018). Closely related to covariance is correlation."
   ]
  },
  {
   "cell_type": "code",
   "execution_count": 15,
   "metadata": {},
   "outputs": [
    {
     "data": {
      "text/plain": [
       "1058.921052631579"
      ]
     },
     "execution_count": 15,
     "metadata": {},
     "output_type": "execute_result"
    }
   ],
   "source": [
    "baseline['BPM'].cov(baseline['Technical Practice'])"
   ]
  },
  {
   "cell_type": "code",
   "execution_count": 16,
   "metadata": {},
   "outputs": [
    {
     "data": {
      "text/plain": [
       "4940.3421052631575"
      ]
     },
     "execution_count": 16,
     "metadata": {},
     "output_type": "execute_result"
    }
   ],
   "source": [
    "baseline['BPM'].cov(baseline['Daily Practice'])"
   ]
  },
  {
   "cell_type": "code",
   "execution_count": 17,
   "metadata": {},
   "outputs": [
    {
     "data": {
      "text/plain": [
       "232.3578947368421"
      ]
     },
     "execution_count": 17,
     "metadata": {},
     "output_type": "execute_result"
    }
   ],
   "source": [
    "baseline['BPM'].cov(baseline['Years'])"
   ]
  },
  {
   "cell_type": "code",
   "execution_count": 18,
   "metadata": {},
   "outputs": [
    {
     "data": {
      "text/html": [
       "<div>\n",
       "<style scoped>\n",
       "    .dataframe tbody tr th:only-of-type {\n",
       "        vertical-align: middle;\n",
       "    }\n",
       "\n",
       "    .dataframe tbody tr th {\n",
       "        vertical-align: top;\n",
       "    }\n",
       "\n",
       "    .dataframe thead th {\n",
       "        text-align: right;\n",
       "    }\n",
       "</style>\n",
       "<table border=\"1\" class=\"dataframe\">\n",
       "  <thead>\n",
       "    <tr style=\"text-align: right;\">\n",
       "      <th></th>\n",
       "      <th>BPM</th>\n",
       "      <th>Technical Practice</th>\n",
       "      <th>Daily Practice</th>\n",
       "      <th>Years</th>\n",
       "    </tr>\n",
       "  </thead>\n",
       "  <tbody>\n",
       "    <tr>\n",
       "      <th>BPM</th>\n",
       "      <td>1830.852632</td>\n",
       "      <td>1058.921053</td>\n",
       "      <td>4940.342105</td>\n",
       "      <td>232.357895</td>\n",
       "    </tr>\n",
       "    <tr>\n",
       "      <th>Technical Practice</th>\n",
       "      <td>1058.921053</td>\n",
       "      <td>734.934211</td>\n",
       "      <td>3478.750000</td>\n",
       "      <td>166.473684</td>\n",
       "    </tr>\n",
       "    <tr>\n",
       "      <th>Daily Practice</th>\n",
       "      <td>4940.342105</td>\n",
       "      <td>3478.750000</td>\n",
       "      <td>20848.618421</td>\n",
       "      <td>697.684211</td>\n",
       "    </tr>\n",
       "    <tr>\n",
       "      <th>Years</th>\n",
       "      <td>232.357895</td>\n",
       "      <td>166.473684</td>\n",
       "      <td>697.684211</td>\n",
       "      <td>204.694737</td>\n",
       "    </tr>\n",
       "  </tbody>\n",
       "</table>\n",
       "</div>"
      ],
      "text/plain": [
       "                            BPM  Technical Practice  Daily Practice  \\\n",
       "BPM                 1830.852632         1058.921053     4940.342105   \n",
       "Technical Practice  1058.921053          734.934211     3478.750000   \n",
       "Daily Practice      4940.342105         3478.750000    20848.618421   \n",
       "Years                232.357895          166.473684      697.684211   \n",
       "\n",
       "                         Years  \n",
       "BPM                 232.357895  \n",
       "Technical Practice  166.473684  \n",
       "Daily Practice      697.684211  \n",
       "Years               204.694737  "
      ]
     },
     "execution_count": 18,
     "metadata": {},
     "output_type": "execute_result"
    }
   ],
   "source": [
    "baseline.cov()"
   ]
  },
  {
   "cell_type": "code",
   "execution_count": null,
   "metadata": {},
   "outputs": [],
   "source": []
  },
  {
   "cell_type": "markdown",
   "metadata": {},
   "source": [
    "Add a graphic corr matrix. ideas here.\n",
    "https://stackoverflow.com/questions/29432629/correlation-matrix-using-pandas\n",
    "\n",
    "Idea for display\n",
    "http://benalexkeen.com/correlation-in-python/"
   ]
  },
  {
   "cell_type": "markdown",
   "metadata": {},
   "source": [
    "Add commentary on the correnaltion matrix, is this what I expected? \n",
    "\n",
    "This is the place for \"my thoughts\". "
   ]
  },
  {
   "cell_type": "markdown",
   "metadata": {},
   "source": [
    "### Mistake!\n",
    "One mistake I made when completing the DataFrame was outting the intergers into lists instead of Series. Using the list method like I did with the players names. When I tried to carry out any calculations on the DataFrame I kept getting errors. It took at lot of head scratching and trying diferent thing before I realised my mistake!!!"
   ]
  },
  {
   "cell_type": "markdown",
   "metadata": {},
   "source": [
    "# 3. Synthesise a data set.\n",
    "Synthesise / simulate a date set as closely matching their properties as possible."
   ]
  },
  {
   "cell_type": "markdown",
   "metadata": {},
   "source": [
    "Problem with this approach - Not convinced that the data is correctly correlated."
   ]
  },
  {
   "cell_type": "code",
   "execution_count": 29,
   "metadata": {},
   "outputs": [
    {
     "name": "stderr",
     "output_type": "stream",
     "text": [
      "/Applications/anaconda3/lib/python3.7/site-packages/ipykernel_launcher.py:16: RuntimeWarning: covariance is not symmetric positive-semidefinite.\n",
      "  app.launch_new_instance()\n"
     ]
    },
    {
     "data": {
      "text/plain": [
       "array([[ 63.89885896,   4.03507329,  42.21320833,   3.13455185],\n",
       "       [108.62741696,  45.86343389, 279.19825581,  30.08985592],\n",
       "       [163.34066816,  76.99352692, 395.06604996,  24.81721333],\n",
       "       [139.49923059,  51.73171093, 375.00818057,  33.48729382],\n",
       "       [151.22907676,  87.23897829, 498.06505711,  37.63484576]])"
      ]
     },
     "execution_count": 29,
     "metadata": {},
     "output_type": "execute_result"
    }
   ],
   "source": [
    "np.random.seed(80)\n",
    "\n",
    "a1 = np.array([72, 200])\n",
    "b1 = np.array([10, 90])\n",
    "c1 = np.array([30, 600])\n",
    "d1 = np.array([4, 48])\n",
    "\n",
    "means = [a1.mean(), b1.mean(), c1.mean(), d1.mean()]  \n",
    "stds = [42.788 / 3, 27.109 / 3, 144.390 / 3, 14.307 / 3]\n",
    "\n",
    "covs = ([[1830.852, 1058.921, 4940.342,  232.357],\n",
    "         [1085.921, 734.934,  3478.750,  166.473],\n",
    "         [4940.342, 3748.750, 20848.618, 697.684],\n",
    "         [232.357,  166.473,  697.684,   204.694]])\n",
    "\n",
    "m = np.random.multivariate_normal(means, covs, 5)\n",
    "m"
   ]
  },
  {
   "cell_type": "code",
   "execution_count": 44,
   "metadata": {},
   "outputs": [],
   "source": [
    "np.random.seed(80)\n",
    "\n",
    "a1 = np.array([72, 200])\n",
    "b1 = np.array([10, 90])\n",
    "c1 = np.array([30, 600])\n",
    "d1 = np.array([4, 48])\n",
    "\n",
    "means = [a1.mean(), b1.mean()]  \n",
    "stds = [a1.std() / 3, b1.std() / 3]\n",
    "corr = 0.912878         # correlation\n",
    "covs = [[stds[0]**2          , stds[0]*stds[1]*corr], \n",
    "        [stds[0]*stds[1]*corr,           stds[1]**2]] \n",
    "\n",
    "m = np.random.multivariate_normal(means, covs, 5)\n",
    "\n",
    "means2 = [a1.mean(), c1.mean()]  \n",
    "stds2 = [a1.std() / 3, c1.std() / 3]\n",
    "corr2 = 0.799635         # correlation\n",
    "covs2 = [[stds[0]**2          , stds[0]*stds[1]*corr2], \n",
    "        [stds[0]*stds[1]*corr2,           stds[1]**2]] \n",
    "\n",
    "n = np.random.multivariate_normal(means2, covs2, 5)\n",
    "\n",
    "means3 = [a1.mean(), d1.mean()]  \n",
    "stds3 = [a1.std() / 3, d1.std() / 3]\n",
    "corr3 = 0.379557         # correlation\n",
    "covs3 = [[stds[0]**2          , stds[0]*stds[1]*corr3], \n",
    "        [stds[0]*stds[1]*corr3,           stds[1]**2]] \n",
    "\n",
    "o = np.random.multivariate_normal(means3, covs3, 5)"
   ]
  },
  {
   "cell_type": "code",
   "execution_count": 71,
   "metadata": {},
   "outputs": [
    {
     "data": {
      "text/plain": [
       "array([[ 95.22608788,  26.69448008],\n",
       "       [119.87796029,  33.86423115],\n",
       "       [128.74552493,  48.95269001],\n",
       "       [152.53998224,  54.20066629],\n",
       "       [149.17909763,  55.95040551]])"
      ]
     },
     "execution_count": 71,
     "metadata": {},
     "output_type": "execute_result"
    }
   ],
   "source": [
    "m"
   ]
  },
  {
   "cell_type": "code",
   "execution_count": 38,
   "metadata": {},
   "outputs": [
    {
     "data": {
      "text/plain": [
       "[136.0, 26.0]"
      ]
     },
     "execution_count": 38,
     "metadata": {},
     "output_type": "execute_result"
    }
   ],
   "source": [
    "means3"
   ]
  },
  {
   "cell_type": "code",
   "execution_count": 39,
   "metadata": {},
   "outputs": [
    {
     "data": {
      "text/plain": [
       "[136.0, 315.0]"
      ]
     },
     "execution_count": 39,
     "metadata": {},
     "output_type": "execute_result"
    }
   ],
   "source": [
    "means2"
   ]
  },
  {
   "cell_type": "code",
   "execution_count": 72,
   "metadata": {},
   "outputs": [],
   "source": [
    "np.random.seed(80)\n",
    "\n",
    "bpm = np.array([72, 200])\n",
    "tech = np.array([10, 90])\n",
    "dai = np.array([30, 600])\n",
    "yea = np.array([4, 48])\n",
    "\n",
    "mean1 = [bpm.mean(), tech.mean()]  \n",
    "std1 = [bpm.std() / 3, tech.std() / 3]\n",
    "corr1 = 0.912878         # correlation\n",
    "covs1 = [[stds[0]**2          , stds[0]*stds[1]*corr], \n",
    "        [stds[0]*stds[1]*corr,           stds[1]**2]] \n",
    "\n",
    "tp = np.random.multivariate_normal(means, covs, 10)\n",
    "\n",
    "means2 = [bpm.mean(), dai.mean()]  \n",
    "stds2 = [bpm.std() / 3, dai.std() / 3]\n",
    "corr2 = 0.799635         # correlation\n",
    "covs2 = [[stds[0]**2          , stds[0]*stds[1]*corr2], \n",
    "        [stds[0]*stds[1]*corr2,           stds[1]**2]] \n",
    "\n",
    "dp = np.random.multivariate_normal(means2, covs2, 10)\n",
    "\n",
    "means3 = [bpm.mean(), yea.mean()]  \n",
    "stds3 = [bpm.std() / 3, yea.std() / 3]\n",
    "corr3 = 0.379557         # correlation\n",
    "covs3 = [[stds[0]**2          , stds[0]*stds[1]*corr3], \n",
    "        [stds[0]*stds[1]*corr3,           stds[1]**2]] \n",
    "\n",
    "yr = np.random.multivariate_normal(means3, covs3, 10)"
   ]
  },
  {
   "cell_type": "code",
   "execution_count": 73,
   "metadata": {},
   "outputs": [
    {
     "data": {
      "text/plain": [
       "array([[ 95.22608788,  26.69448008],\n",
       "       [119.87796029,  33.86423115],\n",
       "       [128.74552493,  48.95269001],\n",
       "       [152.53998224,  54.20066629],\n",
       "       [149.17909763,  55.95040551],\n",
       "       [134.10867911,  39.02146391],\n",
       "       [143.17043141,  56.76018465],\n",
       "       [143.23277467,  60.71276623],\n",
       "       [159.68303646,  69.60674354],\n",
       "       [157.54659878,  53.2881205 ]])"
      ]
     },
     "execution_count": 73,
     "metadata": {},
     "output_type": "execute_result"
    }
   ],
   "source": [
    "tp"
   ]
  },
  {
   "cell_type": "code",
   "execution_count": 79,
   "metadata": {},
   "outputs": [],
   "source": [
    "df1 = pd.DataFrame(tp)"
   ]
  },
  {
   "cell_type": "code",
   "execution_count": 82,
   "metadata": {},
   "outputs": [],
   "source": [
    "df2 = pd.DataFrame(dp)"
   ]
  },
  {
   "cell_type": "code",
   "execution_count": 84,
   "metadata": {},
   "outputs": [],
   "source": [
    "df3 = pd.DataFrame(yr)"
   ]
  },
  {
   "cell_type": "code",
   "execution_count": 85,
   "metadata": {},
   "outputs": [
    {
     "ename": "ValueError",
     "evalue": "columns overlap but no suffix specified: RangeIndex(start=0, stop=2, step=1)",
     "output_type": "error",
     "traceback": [
      "\u001b[0;31m---------------------------------------------------------------------------\u001b[0m",
      "\u001b[0;31mValueError\u001b[0m                                Traceback (most recent call last)",
      "\u001b[0;32m<ipython-input-85-f8069890b6d0>\u001b[0m in \u001b[0;36m<module>\u001b[0;34m()\u001b[0m\n\u001b[0;32m----> 1\u001b[0;31m \u001b[0mdf1\u001b[0m\u001b[0;34m.\u001b[0m\u001b[0mjoin\u001b[0m\u001b[0;34m(\u001b[0m\u001b[0mdf2\u001b[0m\u001b[0;34m)\u001b[0m\u001b[0;34m\u001b[0m\u001b[0m\n\u001b[0m",
      "\u001b[0;32m/Applications/anaconda3/lib/python3.7/site-packages/pandas/core/frame.py\u001b[0m in \u001b[0;36mjoin\u001b[0;34m(self, other, on, how, lsuffix, rsuffix, sort)\u001b[0m\n\u001b[1;32m   6334\u001b[0m         \u001b[0;31m# For SparseDataFrame's benefit\u001b[0m\u001b[0;34m\u001b[0m\u001b[0;34m\u001b[0m\u001b[0m\n\u001b[1;32m   6335\u001b[0m         return self._join_compat(other, on=on, how=how, lsuffix=lsuffix,\n\u001b[0;32m-> 6336\u001b[0;31m                                  rsuffix=rsuffix, sort=sort)\n\u001b[0m\u001b[1;32m   6337\u001b[0m \u001b[0;34m\u001b[0m\u001b[0m\n\u001b[1;32m   6338\u001b[0m     def _join_compat(self, other, on=None, how='left', lsuffix='', rsuffix='',\n",
      "\u001b[0;32m/Applications/anaconda3/lib/python3.7/site-packages/pandas/core/frame.py\u001b[0m in \u001b[0;36m_join_compat\u001b[0;34m(self, other, on, how, lsuffix, rsuffix, sort)\u001b[0m\n\u001b[1;32m   6349\u001b[0m             return merge(self, other, left_on=on, how=how,\n\u001b[1;32m   6350\u001b[0m                          \u001b[0mleft_index\u001b[0m\u001b[0;34m=\u001b[0m\u001b[0mon\u001b[0m \u001b[0;32mis\u001b[0m \u001b[0;32mNone\u001b[0m\u001b[0;34m,\u001b[0m \u001b[0mright_index\u001b[0m\u001b[0;34m=\u001b[0m\u001b[0;32mTrue\u001b[0m\u001b[0;34m,\u001b[0m\u001b[0;34m\u001b[0m\u001b[0m\n\u001b[0;32m-> 6351\u001b[0;31m                          suffixes=(lsuffix, rsuffix), sort=sort)\n\u001b[0m\u001b[1;32m   6352\u001b[0m         \u001b[0;32melse\u001b[0m\u001b[0;34m:\u001b[0m\u001b[0;34m\u001b[0m\u001b[0m\n\u001b[1;32m   6353\u001b[0m             \u001b[0;32mif\u001b[0m \u001b[0mon\u001b[0m \u001b[0;32mis\u001b[0m \u001b[0;32mnot\u001b[0m \u001b[0;32mNone\u001b[0m\u001b[0;34m:\u001b[0m\u001b[0;34m\u001b[0m\u001b[0m\n",
      "\u001b[0;32m/Applications/anaconda3/lib/python3.7/site-packages/pandas/core/reshape/merge.py\u001b[0m in \u001b[0;36mmerge\u001b[0;34m(left, right, how, on, left_on, right_on, left_index, right_index, sort, suffixes, copy, indicator, validate)\u001b[0m\n\u001b[1;32m     60\u001b[0m                          \u001b[0mcopy\u001b[0m\u001b[0;34m=\u001b[0m\u001b[0mcopy\u001b[0m\u001b[0;34m,\u001b[0m \u001b[0mindicator\u001b[0m\u001b[0;34m=\u001b[0m\u001b[0mindicator\u001b[0m\u001b[0;34m,\u001b[0m\u001b[0;34m\u001b[0m\u001b[0m\n\u001b[1;32m     61\u001b[0m                          validate=validate)\n\u001b[0;32m---> 62\u001b[0;31m     \u001b[0;32mreturn\u001b[0m \u001b[0mop\u001b[0m\u001b[0;34m.\u001b[0m\u001b[0mget_result\u001b[0m\u001b[0;34m(\u001b[0m\u001b[0;34m)\u001b[0m\u001b[0;34m\u001b[0m\u001b[0m\n\u001b[0m\u001b[1;32m     63\u001b[0m \u001b[0;34m\u001b[0m\u001b[0m\n\u001b[1;32m     64\u001b[0m \u001b[0;34m\u001b[0m\u001b[0m\n",
      "\u001b[0;32m/Applications/anaconda3/lib/python3.7/site-packages/pandas/core/reshape/merge.py\u001b[0m in \u001b[0;36mget_result\u001b[0;34m(self)\u001b[0m\n\u001b[1;32m    572\u001b[0m \u001b[0;34m\u001b[0m\u001b[0m\n\u001b[1;32m    573\u001b[0m         llabels, rlabels = items_overlap_with_suffix(ldata.items, lsuf,\n\u001b[0;32m--> 574\u001b[0;31m                                                      rdata.items, rsuf)\n\u001b[0m\u001b[1;32m    575\u001b[0m \u001b[0;34m\u001b[0m\u001b[0m\n\u001b[1;32m    576\u001b[0m         \u001b[0mlindexers\u001b[0m \u001b[0;34m=\u001b[0m \u001b[0;34m{\u001b[0m\u001b[0;36m1\u001b[0m\u001b[0;34m:\u001b[0m \u001b[0mleft_indexer\u001b[0m\u001b[0;34m}\u001b[0m \u001b[0;32mif\u001b[0m \u001b[0mleft_indexer\u001b[0m \u001b[0;32mis\u001b[0m \u001b[0;32mnot\u001b[0m \u001b[0;32mNone\u001b[0m \u001b[0;32melse\u001b[0m \u001b[0;34m{\u001b[0m\u001b[0;34m}\u001b[0m\u001b[0;34m\u001b[0m\u001b[0m\n",
      "\u001b[0;32m/Applications/anaconda3/lib/python3.7/site-packages/pandas/core/internals.py\u001b[0m in \u001b[0;36mitems_overlap_with_suffix\u001b[0;34m(left, lsuffix, right, rsuffix)\u001b[0m\n\u001b[1;32m   5242\u001b[0m         \u001b[0;32mif\u001b[0m \u001b[0;32mnot\u001b[0m \u001b[0mlsuffix\u001b[0m \u001b[0;32mand\u001b[0m \u001b[0;32mnot\u001b[0m \u001b[0mrsuffix\u001b[0m\u001b[0;34m:\u001b[0m\u001b[0;34m\u001b[0m\u001b[0m\n\u001b[1;32m   5243\u001b[0m             raise ValueError('columns overlap but no suffix specified: '\n\u001b[0;32m-> 5244\u001b[0;31m                              '{rename}'.format(rename=to_rename))\n\u001b[0m\u001b[1;32m   5245\u001b[0m \u001b[0;34m\u001b[0m\u001b[0m\n\u001b[1;32m   5246\u001b[0m         \u001b[0;32mdef\u001b[0m \u001b[0mlrenamer\u001b[0m\u001b[0;34m(\u001b[0m\u001b[0mx\u001b[0m\u001b[0;34m)\u001b[0m\u001b[0;34m:\u001b[0m\u001b[0;34m\u001b[0m\u001b[0m\n",
      "\u001b[0;31mValueError\u001b[0m: columns overlap but no suffix specified: RangeIndex(start=0, stop=2, step=1)"
     ]
    }
   ],
   "source": [
    "df1.join(df2,)"
   ]
  },
  {
   "cell_type": "markdown",
   "metadata": {},
   "source": [
    "#### Names\n",
    "Started by faking up 250 names, I didn't need to add in hte names but I felt it added an air of authenticity to the data set. For the first names I used 50 male and 50 female names, in the spirit of equality!"
   ]
  },
  {
   "cell_type": "code",
   "execution_count": 20,
   "metadata": {},
   "outputs": [],
   "source": [
    "# Created two lists. One of first names and one of second names. There are 100 names in each list.\n",
    "first_names = ['John', 'Mary', 'James', 'Patricia', 'Robert', 'Jennifer', 'Michael', 'Linda', 'William', \n",
    "               'Elizabeth', 'David', 'Barbara', 'Richard', 'Susan', 'Joseph', 'Jessica', 'Thomas', 'Sarah', \n",
    "               'Charles', 'Margaret', 'Christopher', 'Karen', 'Daniel', 'Nancy', 'Matthew', 'Lisa', 'Anthony',\n",
    "               'Betty', 'Donald', 'Dorothy', 'Mark', 'Sandra', 'Paul', 'Ashley', 'Steven', 'Kimberly', 'Andrew', \n",
    "               'Donna', 'Kenneth', 'Emily', 'George', 'Carol', 'Joshua', 'Michelle', 'Kevin', 'Amanda', 'Brian', \n",
    "               'Melissa', 'Edward', 'Deborah', 'Ronald', 'Stephanie', 'Timothy', 'Rebecca', 'Jason', 'Laura', \n",
    "               'Jeffrey', 'Helen', 'Ryan', 'Sharon', 'Jacob', 'Cynthia', 'Gary', 'Kathleen', 'Nicholas', 'Amy', \n",
    "               'Eric', 'Shirley', 'Stephen', 'Angela', 'Jonathan', 'Anna', 'Larry', 'Ruth', 'Justin', 'Brenda', \n",
    "               'Scott', 'Pamela', 'Brandon', 'Nicole', 'Frank', 'Katherine', 'Benjamin', 'Samantha', 'Gregory', \n",
    "               'Christine', 'Raymond', 'Catherine', 'Samuel', 'Virginia', 'Patrick', 'Debra', 'Alexander', 'Rachel',\n",
    "               'Jack', 'Janet', 'Dennis', 'Emma', 'Jerry', 'Carolyn']\n",
    "\n",
    "last_names = ['Smith', 'Jones', 'Taylor', 'Williams', 'Brown', 'Davies', 'Evans', 'Wilson', 'Thomas', 'Roberts', \n",
    "              'Johnson', 'Lewis', 'Walker', 'Robinson', 'Wood', 'Thompson', 'White', 'Watson', 'Jackson', 'Wright', \n",
    "              'Green', 'Harris', 'Cooper', 'King', 'Lee', 'Martin', 'Clarke', 'James', 'Morgan', 'Hughes', 'Edwards', \n",
    "              'Hill', 'Moore', 'Clark', 'Harrison', 'Bailey', 'Parker', 'Miller', 'Davis', 'Murphy', 'Price', 'Bell', \n",
    "              'Baker', 'Griffiths', 'Kelly', 'Simpson', 'Marshall', 'Collins', 'Bennett', 'Cox', 'Richardson', 'Fox', \n",
    "              'Gray', 'Rose', 'Chapman', 'Hunt', 'Robertson', 'Shaw', 'Reynolds', 'Lloyd', 'Ellis', 'Richards', \n",
    "              'Russell', 'Wilkinson', 'Khan', 'Graham', 'Stewart', 'Reid', 'Murray', 'Powell', 'Scott', 'Young', \n",
    "              'Morris', 'Hall', 'Ward', 'Turner', 'Carter', 'Phillips', 'Mitchell', 'Patel', 'Adams', 'Campbell', \n",
    "              'Anderson', 'Allen', 'Cook', 'Palmer', 'Holmes', 'Rogers', 'Stevens', 'Walsh', 'Hunter', 'Thomson', \n",
    "              'Matthews', 'Owen', 'Mason', 'Knight', 'Kennedy', 'Butler', 'Saunders', 'Cole']"
   ]
  },
  {
   "cell_type": "code",
   "execution_count": 21,
   "metadata": {},
   "outputs": [],
   "source": [
    "# Creating a list of full names. Randomly selected first names and surnames are joined to make the full names. \n",
    "names = [] # An empty list called names. \n",
    "\n",
    "for i in range(250): # A 'for' loop. This will loop 250 times.\n",
    "    full_name=random.choice(first_names)+\" \"+random.choice(last_names) # Using random.choice to randomly select names from both lists. \n",
    "    names.append(full_name) # Appends the randomly generated full names to the emply list created earlier."
   ]
  },
  {
   "cell_type": "code",
   "execution_count": 22,
   "metadata": {},
   "outputs": [
    {
     "data": {
      "text/plain": [
       "['Nancy Carter',\n",
       " 'Larry Powell',\n",
       " 'Jennifer Hunt',\n",
       " 'Jennifer Adams',\n",
       " 'Lisa Clark',\n",
       " 'Richard Marshall',\n",
       " 'Robert Turner',\n",
       " 'Rachel Murphy',\n",
       " 'Christine Kennedy',\n",
       " 'Thomas Scott',\n",
       " 'Emily Williams',\n",
       " 'Benjamin Lloyd',\n",
       " 'Rebecca Kennedy',\n",
       " 'Carol Murphy',\n",
       " 'Cynthia Knight',\n",
       " 'Andrew Carter',\n",
       " 'Jacob Clark',\n",
       " 'Betty Green',\n",
       " 'Scott Cole',\n",
       " 'Richard Stewart',\n",
       " 'Barbara Mason',\n",
       " 'Jonathan Matthews',\n",
       " 'Barbara White',\n",
       " 'Anna Stewart',\n",
       " 'Shirley Murray',\n",
       " 'Jonathan Bell',\n",
       " 'Samantha Graham',\n",
       " 'Edward Reynolds',\n",
       " 'Lisa King',\n",
       " 'Donna Morris',\n",
       " 'David Thompson',\n",
       " 'Brian Taylor',\n",
       " 'David Patel',\n",
       " 'Rachel Williams',\n",
       " 'Thomas Collins',\n",
       " 'Emily Russell',\n",
       " 'Rebecca Taylor',\n",
       " 'Carol Palmer',\n",
       " 'Joshua Graham',\n",
       " 'Andrew Patel',\n",
       " 'Sandra Cox',\n",
       " 'Jennifer Mitchell',\n",
       " 'Dorothy Morgan',\n",
       " 'Jennifer Hill',\n",
       " 'Rebecca Smith',\n",
       " 'Debra Palmer',\n",
       " 'Andrew Stevens',\n",
       " 'Brenda Wilson',\n",
       " 'Andrew Thomson',\n",
       " 'Anthony Richards',\n",
       " 'Frank Price',\n",
       " 'Raymond Bennett',\n",
       " 'Benjamin Wright',\n",
       " 'Janet Shaw',\n",
       " 'Carolyn Bell',\n",
       " 'Catherine Robinson',\n",
       " 'Rebecca Watson',\n",
       " 'Anna Morris',\n",
       " 'Pamela Wilkinson',\n",
       " 'Debra Rose',\n",
       " 'Amanda Richardson',\n",
       " 'Rachel Cooper',\n",
       " 'Cynthia Hunter',\n",
       " 'Kevin Parker',\n",
       " 'Deborah Fox',\n",
       " 'Amanda Cooper',\n",
       " 'Anthony Martin',\n",
       " 'Sandra Lee',\n",
       " 'Timothy Brown',\n",
       " 'James Bailey',\n",
       " 'Melissa Carter',\n",
       " 'Donald Thomas',\n",
       " 'Jack Watson',\n",
       " 'Helen Harrison',\n",
       " 'Jerry Simpson',\n",
       " 'Catherine Knight',\n",
       " 'Joseph Baker',\n",
       " 'Samantha Brown',\n",
       " 'Ryan Cole',\n",
       " 'Barbara Chapman',\n",
       " 'Nancy Rose',\n",
       " 'Brian Marshall',\n",
       " 'Stephanie Knight',\n",
       " 'Lisa Clark',\n",
       " 'Daniel Wilkinson',\n",
       " 'Helen Phillips',\n",
       " 'Susan Marshall',\n",
       " 'James Kelly',\n",
       " 'Ruth Smith',\n",
       " 'Stephanie Phillips',\n",
       " 'Richard Khan',\n",
       " 'Ashley Evans',\n",
       " 'Justin Saunders',\n",
       " 'Carol Williams',\n",
       " 'Brenda Young',\n",
       " 'Timothy Adams',\n",
       " 'David Martin',\n",
       " 'George Harris',\n",
       " 'Eric Adams',\n",
       " 'John Fox',\n",
       " 'Anthony Hill',\n",
       " 'Rachel Carter',\n",
       " 'Charles Walsh',\n",
       " 'Karen Holmes',\n",
       " 'Steven Cook',\n",
       " 'Larry Griffiths',\n",
       " 'Daniel Griffiths',\n",
       " 'Jason Robertson',\n",
       " 'Nicole Rogers',\n",
       " 'Jeffrey Cook',\n",
       " 'Shirley Carter',\n",
       " 'Andrew Murray',\n",
       " 'Sharon Collins',\n",
       " 'Patricia Martin',\n",
       " 'Mark Murray',\n",
       " 'Rachel Scott',\n",
       " 'Eric Cole',\n",
       " 'Ryan Owen',\n",
       " 'Daniel Williams',\n",
       " 'Jonathan Watson',\n",
       " 'Ashley Kennedy',\n",
       " 'Michelle Roberts',\n",
       " 'Brandon White',\n",
       " 'Stephanie Griffiths',\n",
       " 'Samuel Khan',\n",
       " 'Emily Brown',\n",
       " 'Jennifer Chapman',\n",
       " 'Daniel Thompson',\n",
       " 'Amanda James',\n",
       " 'George Young',\n",
       " 'Jason Cole',\n",
       " 'David Morris',\n",
       " 'Angela Harris',\n",
       " 'Alexander King',\n",
       " 'Elizabeth Hill',\n",
       " 'Alexander Khan',\n",
       " 'Gregory Davis',\n",
       " 'Jacob Cooper',\n",
       " 'Joshua Lewis',\n",
       " 'Elizabeth Murphy',\n",
       " 'Daniel Anderson',\n",
       " 'Jeffrey Hall',\n",
       " 'Ruth Young',\n",
       " 'Deborah Davies',\n",
       " 'Christine Griffiths',\n",
       " 'Cynthia Thompson',\n",
       " 'John Green',\n",
       " 'Mark Marshall',\n",
       " 'Lisa Bailey',\n",
       " 'Katherine Johnson',\n",
       " 'Steven Lewis',\n",
       " 'Daniel Lewis',\n",
       " 'Gary Hunt',\n",
       " 'Edward Anderson',\n",
       " 'Shirley Harris',\n",
       " 'Amy Morris',\n",
       " 'Charles Collins',\n",
       " 'Anthony Hunter',\n",
       " 'Donald Jackson',\n",
       " 'Ronald Adams',\n",
       " 'Kathleen Powell',\n",
       " 'Katherine Bailey',\n",
       " 'Christine Cooper',\n",
       " 'Frank Lloyd',\n",
       " 'Samantha Davies',\n",
       " 'Larry Martin',\n",
       " 'Dorothy Thomson',\n",
       " 'Stephanie White',\n",
       " 'Janet Davis',\n",
       " 'Debra King',\n",
       " 'Robert Ward',\n",
       " 'Donna Baker',\n",
       " 'Sharon Holmes',\n",
       " 'Nicole Robinson',\n",
       " 'Carolyn Thomson',\n",
       " 'Stephanie Simpson',\n",
       " 'Brenda White',\n",
       " 'Katherine Hunt',\n",
       " 'Debra Thompson',\n",
       " 'Elizabeth Phillips',\n",
       " 'Brian Carter',\n",
       " 'Alexander Green',\n",
       " 'Carol Miller',\n",
       " 'William Richardson',\n",
       " 'Eric Owen',\n",
       " 'Brandon Saunders',\n",
       " 'Carol Fox',\n",
       " 'Samuel Hunt',\n",
       " 'Brenda Harrison',\n",
       " 'Carol Simpson',\n",
       " 'Alexander Richards',\n",
       " 'Donald Cole',\n",
       " 'Emily Jackson',\n",
       " 'Stephen Edwards',\n",
       " 'Sarah Cox',\n",
       " 'Robert Price',\n",
       " 'Christine Khan',\n",
       " 'Samantha Bell',\n",
       " 'Jennifer Thomas',\n",
       " 'Steven Murphy',\n",
       " 'Amanda Walsh',\n",
       " 'Katherine Wright',\n",
       " 'Kimberly Parker',\n",
       " 'Sandra Baker',\n",
       " 'Shirley White',\n",
       " 'Shirley Collins',\n",
       " 'Raymond Gray',\n",
       " 'James Richardson',\n",
       " 'Emily Walker',\n",
       " 'Nicholas Hughes',\n",
       " 'Sarah Evans',\n",
       " 'Ruth Lee',\n",
       " 'Donna Saunders',\n",
       " 'Timothy Cooper',\n",
       " 'Helen Adams',\n",
       " 'Rebecca Reynolds',\n",
       " 'Betty Ellis',\n",
       " 'Andrew Anderson',\n",
       " 'Daniel Cox',\n",
       " 'Nicole Cooper',\n",
       " 'Karen Baker',\n",
       " 'Larry Morris',\n",
       " 'Joshua Matthews',\n",
       " 'Kimberly White',\n",
       " 'Larry Davies',\n",
       " 'Sharon Kennedy',\n",
       " 'Linda Shaw',\n",
       " 'Jennifer Thomas',\n",
       " 'Brian Powell',\n",
       " 'Larry Lloyd',\n",
       " 'Edward Lee',\n",
       " 'Donna King',\n",
       " 'Nancy Miller',\n",
       " 'Cynthia Cox',\n",
       " 'Ruth King',\n",
       " 'Jacob Green',\n",
       " 'John Thompson',\n",
       " 'Catherine Bennett',\n",
       " 'Brenda Hughes',\n",
       " 'Raymond Shaw',\n",
       " 'Donald Thomas',\n",
       " 'Linda Marshall',\n",
       " 'Nicole Bell',\n",
       " 'Amy Davies',\n",
       " 'Joshua Davis',\n",
       " 'Justin Reynolds',\n",
       " 'Jack Holmes',\n",
       " 'Kathleen Williams',\n",
       " 'Karen Bennett',\n",
       " 'Frank Bennett']"
      ]
     },
     "execution_count": 22,
     "metadata": {},
     "output_type": "execute_result"
    }
   ],
   "source": [
    "names"
   ]
  },
  {
   "cell_type": "markdown",
   "metadata": {},
   "source": [
    "#### Beats Per Minute."
   ]
  },
  {
   "cell_type": "markdown",
   "metadata": {},
   "source": [
    "## Data Frame."
   ]
  },
  {
   "cell_type": "markdown",
   "metadata": {},
   "source": [
    "# 4. Detail my research.\n",
    "Detail my research and implement the simulation in a Jupyter Notebook - the data itself can simply be displayed in an output cell within the notebook."
   ]
  },
  {
   "cell_type": "markdown",
   "metadata": {},
   "source": [
    "### Reflection & Lessons.\n",
    "Had some trouble creating the dataframe. Getting lists into it as well as joining or merging took some trial and error.\n",
    "\n",
    "Distribution of bpm, normal didn't look right. tried s different one to skew the bpm results."
   ]
  },
  {
   "cell_type": "markdown",
   "metadata": {},
   "source": [
    "# Notes.\n",
    "Cognitive bias - have I introduced bias into the data? How would I know? Will that make a difference to the data or the results?\n",
    "\n",
    "Can I use SK Learn?\n"
   ]
  },
  {
   "cell_type": "markdown",
   "metadata": {},
   "source": [
    "# References.\n",
    "\n",
    "Source for the list of first names. \n",
    "https://www.ssa.gov/oact/babynames/decades/century.html\n",
    "\n",
    "Source for the list of surnames.\n",
    "https://surname.sofeminine.co.uk/w/surnames/most-common-surnames-in-great-britain.html\n",
    "\n",
    "keydifferences.com https://keydifferences.com/difference-between-covariance-and-correlation.html\n",
    "\n",
    "Creating df from lists.\n",
    "https://cmdlinetips.com/2018/01/how-to-create-pandas-dataframe-from-multiple-lists/\n",
    "\n",
    "Generating randon correlated variables.\n",
    "https://stackoverflow.com/questions/18683821/generating-random-correlated-x-and-y-points-using-numpy\n",
    "\n",
    "I used the documentation for all of the libraries several times during this project. Too many to list individually, or else the reference section would be longer than my project. By way of acknowledgement I have provided links to the documentation pages for the libraries I used. \n",
    "\n",
    "matplotlib.org https://matplotlib.org/index.html\n",
    "\n",
    "numpy.org http://www.numpy.org\n",
    "\n",
    "pandas\n",
    "\n",
    "\n"
   ]
  },
  {
   "cell_type": "markdown",
   "metadata": {},
   "source": [
    "## END"
   ]
  },
  {
   "cell_type": "code",
   "execution_count": null,
   "metadata": {},
   "outputs": [],
   "source": []
  }
 ],
 "metadata": {
  "kernelspec": {
   "display_name": "Python 3",
   "language": "python",
   "name": "python3"
  },
  "language_info": {
   "codemirror_mode": {
    "name": "ipython",
    "version": 3
   },
   "file_extension": ".py",
   "mimetype": "text/x-python",
   "name": "python",
   "nbconvert_exporter": "python",
   "pygments_lexer": "ipython3",
   "version": "3.7.0"
  }
 },
 "nbformat": 4,
 "nbformat_minor": 2
}
