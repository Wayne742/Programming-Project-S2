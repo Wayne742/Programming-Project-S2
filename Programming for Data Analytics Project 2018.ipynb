{
 "cells": [
  {
   "cell_type": "markdown",
   "metadata": {},
   "source": [
    "# Programming for Data Analysis Project 2018."
   ]
  },
  {
   "cell_type": "markdown",
   "metadata": {},
   "source": [
    "# Introduction."
   ]
  },
  {
   "cell_type": "markdown",
   "metadata": {},
   "source": [
    "### Importing Libraries."
   ]
  },
  {
   "cell_type": "code",
   "execution_count": 1,
   "metadata": {},
   "outputs": [],
   "source": [
    "import numpy as np\n",
    "import pandas as pd\n",
    "import matplotlib.pyplot as plt\n",
    "import random"
   ]
  },
  {
   "cell_type": "markdown",
   "metadata": {
    "collapsed": true
   },
   "source": [
    "# 1. Choose a phenomenon.\n",
    "Choose a real world phenomenon that can be measured and for which you could collect at least one-hundred data points across at least four different variables."
   ]
  },
  {
   "cell_type": "markdown",
   "metadata": {},
   "source": [
    "### 1.1 What  & Why? "
   ]
  },
  {
   "cell_type": "markdown",
   "metadata": {},
   "source": [
    "### 1.2 The use of evidence."
   ]
  },
  {
   "cell_type": "markdown",
   "metadata": {
    "collapsed": true
   },
   "source": [
    "# 2. Investigation of variables.\n",
    "Investigate the types of variables involved, their likely distribution and their relationship with each other."
   ]
  },
  {
   "cell_type": "markdown",
   "metadata": {},
   "source": [
    "### 2.1 Beats Per MInute.\n",
    "The speed a player can play 16th notes.\n",
    "\n",
    "This variable is a non negative number. "
   ]
  },
  {
   "cell_type": "markdown",
   "metadata": {},
   "source": [
    "### 2.2 Average Daily Practice Time.\n",
    "The average time spent per day practicing the instrument.\n",
    "\n",
    "Variable is time in minutes and is a non negative number."
   ]
  },
  {
   "cell_type": "markdown",
   "metadata": {},
   "source": [
    "### 2.3 Technical Practice.\n",
    "How much time (in minutes) do players spend on focused technical practice only.\n",
    "\n",
    "Variable in time. A non negative number, in minutes.\n",
    "The is a high correlation between this variable and BPM."
   ]
  },
  {
   "cell_type": "markdown",
   "metadata": {},
   "source": [
    "### 2.4 Length of Time Playing.\n",
    "Number of years playing.\n",
    "Variable is a non negative number in years."
   ]
  },
  {
   "cell_type": "markdown",
   "metadata": {},
   "source": [
    "### 2.5 The Sample Dataset. "
   ]
  },
  {
   "cell_type": "code",
   "execution_count": 2,
   "metadata": {},
   "outputs": [],
   "source": [
    "# List of Guitar Players. Some famous, some not so famous!\n",
    "player = ['Guthrie Govan', 'Steve Vai', 'Jess Lewis', 'Al Joseph', 'Martin Miller', 'Jake Wilson', 'Jennifer Batten'\n",
    "          ,'Joe Satriani', 'Andy James', 'Me', 'Pat Sheil', 'Aidan Conlon', 'Declan Collins', 'Adrian Connaire', \n",
    "          'Phillip Joyce', 'John McNamee', 'Michael Kelly', 'Sean Dunne', 'Glenn Burke', 'Nick Morahan']"
   ]
  },
  {
   "cell_type": "code",
   "execution_count": 3,
   "metadata": {},
   "outputs": [],
   "source": [
    "# Series of values for 'bpmp' which stands for Beats Per Minute Players.\n",
    "bpmp = pd.Series([200, 200, 160, 180, 200, 160, 180, 170, 170, 110, 86, 144, 98, 90, 130, 72, 98, 80, 140, 138])"
   ]
  },
  {
   "cell_type": "code",
   "execution_count": 4,
   "metadata": {},
   "outputs": [],
   "source": [
    "# Series of values for 'tp'. This variable is Technical Practice. Time spent in minutes.\n",
    "tp = pd.Series([90, 90, 50, 60, 60, 50, 50, 60, 60, 15, 15, 20, 10, 10, 20, 10, 10, 10, 15, 30])"
   ]
  },
  {
   "cell_type": "code",
   "execution_count": 5,
   "metadata": {},
   "outputs": [],
   "source": [
    "# Series of values for 'daily'. This is the amount of time in minutes spent practicing each day.\n",
    "daily = pd.Series([300, 600, 240, 300, 300, 300, 180, 180, 180, 30, 90, 120, 70, 60, 60, 30, 30, 45, 60, 70])"
   ]
  },
  {
   "cell_type": "code",
   "execution_count": 6,
   "metadata": {},
   "outputs": [],
   "source": [
    "# Series of values for 'years'. The number of years playing the instrument.\n",
    "years = pd.Series([43, 45, 10, 10, 8, 9, 40, 48, 18, 30, 15, 26, 25, 34, 16, 4, 7, 8, 20, 8])"
   ]
  },
  {
   "cell_type": "code",
   "execution_count": 7,
   "metadata": {},
   "outputs": [],
   "source": [
    "# Create a dictonary called 'sample'. Contains all the list created above.\n",
    "sample = {'Players':player, 'BPM':bpmp, 'Technical Practice':tp, 'Daily Practice':daily, 'Years':years}"
   ]
  },
  {
   "cell_type": "code",
   "execution_count": 8,
   "metadata": {},
   "outputs": [],
   "source": [
    "# Created a DataFrame called 'baseline'. Populated it with the data in the dictonary called 'samples'.\n",
    "baseline = pd.DataFrame(sample)"
   ]
  },
  {
   "cell_type": "code",
   "execution_count": 9,
   "metadata": {},
   "outputs": [
    {
     "data": {
      "text/html": [
       "<div>\n",
       "<style scoped>\n",
       "    .dataframe tbody tr th:only-of-type {\n",
       "        vertical-align: middle;\n",
       "    }\n",
       "\n",
       "    .dataframe tbody tr th {\n",
       "        vertical-align: top;\n",
       "    }\n",
       "\n",
       "    .dataframe thead th {\n",
       "        text-align: right;\n",
       "    }\n",
       "</style>\n",
       "<table border=\"1\" class=\"dataframe\">\n",
       "  <thead>\n",
       "    <tr style=\"text-align: right;\">\n",
       "      <th></th>\n",
       "      <th>Players</th>\n",
       "      <th>BPM</th>\n",
       "      <th>Technical Practice</th>\n",
       "      <th>Daily Practice</th>\n",
       "      <th>Years</th>\n",
       "    </tr>\n",
       "  </thead>\n",
       "  <tbody>\n",
       "    <tr>\n",
       "      <th>0</th>\n",
       "      <td>Guthrie Govan</td>\n",
       "      <td>200</td>\n",
       "      <td>90</td>\n",
       "      <td>300</td>\n",
       "      <td>43</td>\n",
       "    </tr>\n",
       "    <tr>\n",
       "      <th>1</th>\n",
       "      <td>Steve Vai</td>\n",
       "      <td>200</td>\n",
       "      <td>90</td>\n",
       "      <td>600</td>\n",
       "      <td>45</td>\n",
       "    </tr>\n",
       "    <tr>\n",
       "      <th>2</th>\n",
       "      <td>Jess Lewis</td>\n",
       "      <td>160</td>\n",
       "      <td>50</td>\n",
       "      <td>240</td>\n",
       "      <td>10</td>\n",
       "    </tr>\n",
       "    <tr>\n",
       "      <th>3</th>\n",
       "      <td>Al Joseph</td>\n",
       "      <td>180</td>\n",
       "      <td>60</td>\n",
       "      <td>300</td>\n",
       "      <td>10</td>\n",
       "    </tr>\n",
       "    <tr>\n",
       "      <th>4</th>\n",
       "      <td>Martin Miller</td>\n",
       "      <td>200</td>\n",
       "      <td>60</td>\n",
       "      <td>300</td>\n",
       "      <td>8</td>\n",
       "    </tr>\n",
       "    <tr>\n",
       "      <th>5</th>\n",
       "      <td>Jake Wilson</td>\n",
       "      <td>160</td>\n",
       "      <td>50</td>\n",
       "      <td>300</td>\n",
       "      <td>9</td>\n",
       "    </tr>\n",
       "    <tr>\n",
       "      <th>6</th>\n",
       "      <td>Jennifer Batten</td>\n",
       "      <td>180</td>\n",
       "      <td>50</td>\n",
       "      <td>180</td>\n",
       "      <td>40</td>\n",
       "    </tr>\n",
       "    <tr>\n",
       "      <th>7</th>\n",
       "      <td>Joe Satriani</td>\n",
       "      <td>170</td>\n",
       "      <td>60</td>\n",
       "      <td>180</td>\n",
       "      <td>48</td>\n",
       "    </tr>\n",
       "    <tr>\n",
       "      <th>8</th>\n",
       "      <td>Andy James</td>\n",
       "      <td>170</td>\n",
       "      <td>60</td>\n",
       "      <td>180</td>\n",
       "      <td>18</td>\n",
       "    </tr>\n",
       "    <tr>\n",
       "      <th>9</th>\n",
       "      <td>Me</td>\n",
       "      <td>110</td>\n",
       "      <td>15</td>\n",
       "      <td>30</td>\n",
       "      <td>30</td>\n",
       "    </tr>\n",
       "    <tr>\n",
       "      <th>10</th>\n",
       "      <td>Pat Sheil</td>\n",
       "      <td>86</td>\n",
       "      <td>15</td>\n",
       "      <td>90</td>\n",
       "      <td>15</td>\n",
       "    </tr>\n",
       "    <tr>\n",
       "      <th>11</th>\n",
       "      <td>Aidan Conlon</td>\n",
       "      <td>144</td>\n",
       "      <td>20</td>\n",
       "      <td>120</td>\n",
       "      <td>26</td>\n",
       "    </tr>\n",
       "    <tr>\n",
       "      <th>12</th>\n",
       "      <td>Declan Collins</td>\n",
       "      <td>98</td>\n",
       "      <td>10</td>\n",
       "      <td>70</td>\n",
       "      <td>25</td>\n",
       "    </tr>\n",
       "    <tr>\n",
       "      <th>13</th>\n",
       "      <td>Adrian Connaire</td>\n",
       "      <td>90</td>\n",
       "      <td>10</td>\n",
       "      <td>60</td>\n",
       "      <td>34</td>\n",
       "    </tr>\n",
       "    <tr>\n",
       "      <th>14</th>\n",
       "      <td>Phillip Joyce</td>\n",
       "      <td>130</td>\n",
       "      <td>20</td>\n",
       "      <td>60</td>\n",
       "      <td>16</td>\n",
       "    </tr>\n",
       "    <tr>\n",
       "      <th>15</th>\n",
       "      <td>John McNamee</td>\n",
       "      <td>72</td>\n",
       "      <td>10</td>\n",
       "      <td>30</td>\n",
       "      <td>4</td>\n",
       "    </tr>\n",
       "    <tr>\n",
       "      <th>16</th>\n",
       "      <td>Michael Kelly</td>\n",
       "      <td>98</td>\n",
       "      <td>10</td>\n",
       "      <td>30</td>\n",
       "      <td>7</td>\n",
       "    </tr>\n",
       "    <tr>\n",
       "      <th>17</th>\n",
       "      <td>Sean Dunne</td>\n",
       "      <td>80</td>\n",
       "      <td>10</td>\n",
       "      <td>45</td>\n",
       "      <td>8</td>\n",
       "    </tr>\n",
       "    <tr>\n",
       "      <th>18</th>\n",
       "      <td>Glenn Burke</td>\n",
       "      <td>140</td>\n",
       "      <td>15</td>\n",
       "      <td>60</td>\n",
       "      <td>20</td>\n",
       "    </tr>\n",
       "    <tr>\n",
       "      <th>19</th>\n",
       "      <td>Nick Morahan</td>\n",
       "      <td>138</td>\n",
       "      <td>30</td>\n",
       "      <td>70</td>\n",
       "      <td>8</td>\n",
       "    </tr>\n",
       "  </tbody>\n",
       "</table>\n",
       "</div>"
      ],
      "text/plain": [
       "            Players  BPM  Technical Practice  Daily Practice  Years\n",
       "0     Guthrie Govan  200                  90             300     43\n",
       "1         Steve Vai  200                  90             600     45\n",
       "2        Jess Lewis  160                  50             240     10\n",
       "3         Al Joseph  180                  60             300     10\n",
       "4     Martin Miller  200                  60             300      8\n",
       "5       Jake Wilson  160                  50             300      9\n",
       "6   Jennifer Batten  180                  50             180     40\n",
       "7      Joe Satriani  170                  60             180     48\n",
       "8        Andy James  170                  60             180     18\n",
       "9                Me  110                  15              30     30\n",
       "10        Pat Sheil   86                  15              90     15\n",
       "11     Aidan Conlon  144                  20             120     26\n",
       "12   Declan Collins   98                  10              70     25\n",
       "13  Adrian Connaire   90                  10              60     34\n",
       "14    Phillip Joyce  130                  20              60     16\n",
       "15     John McNamee   72                  10              30      4\n",
       "16    Michael Kelly   98                  10              30      7\n",
       "17       Sean Dunne   80                  10              45      8\n",
       "18      Glenn Burke  140                  15              60     20\n",
       "19     Nick Morahan  138                  30              70      8"
      ]
     },
     "execution_count": 9,
     "metadata": {},
     "output_type": "execute_result"
    }
   ],
   "source": [
    "# Displaying the 'baseline' DataFrame.\n",
    "baseline"
   ]
  },
  {
   "cell_type": "code",
   "execution_count": 10,
   "metadata": {},
   "outputs": [
    {
     "data": {
      "text/html": [
       "<div>\n",
       "<style scoped>\n",
       "    .dataframe tbody tr th:only-of-type {\n",
       "        vertical-align: middle;\n",
       "    }\n",
       "\n",
       "    .dataframe tbody tr th {\n",
       "        vertical-align: top;\n",
       "    }\n",
       "\n",
       "    .dataframe thead th {\n",
       "        text-align: right;\n",
       "    }\n",
       "</style>\n",
       "<table border=\"1\" class=\"dataframe\">\n",
       "  <thead>\n",
       "    <tr style=\"text-align: right;\">\n",
       "      <th></th>\n",
       "      <th>BPM</th>\n",
       "      <th>Technical Practice</th>\n",
       "      <th>Daily Practice</th>\n",
       "      <th>Years</th>\n",
       "    </tr>\n",
       "  </thead>\n",
       "  <tbody>\n",
       "    <tr>\n",
       "      <th>count</th>\n",
       "      <td>20.000000</td>\n",
       "      <td>20.00000</td>\n",
       "      <td>20.000000</td>\n",
       "      <td>20.000000</td>\n",
       "    </tr>\n",
       "    <tr>\n",
       "      <th>mean</th>\n",
       "      <td>140.300000</td>\n",
       "      <td>36.75000</td>\n",
       "      <td>162.250000</td>\n",
       "      <td>21.200000</td>\n",
       "    </tr>\n",
       "    <tr>\n",
       "      <th>std</th>\n",
       "      <td>42.788464</td>\n",
       "      <td>27.10967</td>\n",
       "      <td>144.390507</td>\n",
       "      <td>14.307157</td>\n",
       "    </tr>\n",
       "    <tr>\n",
       "      <th>min</th>\n",
       "      <td>72.000000</td>\n",
       "      <td>10.00000</td>\n",
       "      <td>30.000000</td>\n",
       "      <td>4.000000</td>\n",
       "    </tr>\n",
       "    <tr>\n",
       "      <th>25%</th>\n",
       "      <td>98.000000</td>\n",
       "      <td>13.75000</td>\n",
       "      <td>60.000000</td>\n",
       "      <td>8.750000</td>\n",
       "    </tr>\n",
       "    <tr>\n",
       "      <th>50%</th>\n",
       "      <td>142.000000</td>\n",
       "      <td>25.00000</td>\n",
       "      <td>105.000000</td>\n",
       "      <td>17.000000</td>\n",
       "    </tr>\n",
       "    <tr>\n",
       "      <th>75%</th>\n",
       "      <td>172.500000</td>\n",
       "      <td>60.00000</td>\n",
       "      <td>255.000000</td>\n",
       "      <td>31.000000</td>\n",
       "    </tr>\n",
       "    <tr>\n",
       "      <th>max</th>\n",
       "      <td>200.000000</td>\n",
       "      <td>90.00000</td>\n",
       "      <td>600.000000</td>\n",
       "      <td>48.000000</td>\n",
       "    </tr>\n",
       "  </tbody>\n",
       "</table>\n",
       "</div>"
      ],
      "text/plain": [
       "              BPM  Technical Practice  Daily Practice      Years\n",
       "count   20.000000            20.00000       20.000000  20.000000\n",
       "mean   140.300000            36.75000      162.250000  21.200000\n",
       "std     42.788464            27.10967      144.390507  14.307157\n",
       "min     72.000000            10.00000       30.000000   4.000000\n",
       "25%     98.000000            13.75000       60.000000   8.750000\n",
       "50%    142.000000            25.00000      105.000000  17.000000\n",
       "75%    172.500000            60.00000      255.000000  31.000000\n",
       "max    200.000000            90.00000      600.000000  48.000000"
      ]
     },
     "execution_count": 10,
     "metadata": {},
     "output_type": "execute_result"
    }
   ],
   "source": [
    "# Run the pandas command 'describe' on the 'baseline' DataFrame.\n",
    "baseline.describe()"
   ]
  },
  {
   "cell_type": "markdown",
   "metadata": {},
   "source": [
    "#### What is Correlation.\n",
    "The correlation is a statistical measure of the strength of the relationship between two variables. It determines the degree to which two or more random vaiables move in tandem. For example a movement in one variable is reciprocated by a movement, either positive or negative, in another variable then the two variables are said to be correlated (keydifferences.com,2018).\n",
    "\n",
    "Variables can have either a Positive Correlation or a Negative Correlation. When a positive change in one variable results in a positive change in a second variable they are said to be Positively Correlated. When a change in one variable results in a movement in the opposite direction of the other variable they are said to be Negatively Correlated. Correlation values are between +1 and -1. A correlation close to +1 indicates a strong positive relationship and a correlation close to -1 indicates a strong negative relationship (keydifferences.com,2018).   "
   ]
  },
  {
   "cell_type": "code",
   "execution_count": 11,
   "metadata": {},
   "outputs": [
    {
     "data": {
      "text/plain": [
       "0.9128778225354373"
      ]
     },
     "execution_count": 11,
     "metadata": {},
     "output_type": "execute_result"
    }
   ],
   "source": [
    "baseline['BPM'].corr(baseline['Technical Practice'])"
   ]
  },
  {
   "cell_type": "code",
   "execution_count": 12,
   "metadata": {},
   "outputs": [
    {
     "data": {
      "text/plain": [
       "0.7996348049300531"
      ]
     },
     "execution_count": 12,
     "metadata": {},
     "output_type": "execute_result"
    }
   ],
   "source": [
    "baseline['BPM'].corr(baseline['Daily Practice'])"
   ]
  },
  {
   "cell_type": "code",
   "execution_count": 13,
   "metadata": {},
   "outputs": [
    {
     "data": {
      "text/plain": [
       "0.3795573454091754"
      ]
     },
     "execution_count": 13,
     "metadata": {},
     "output_type": "execute_result"
    }
   ],
   "source": [
    "baseline['BPM'].corr(baseline['Years'])"
   ]
  },
  {
   "cell_type": "code",
   "execution_count": 38,
   "metadata": {},
   "outputs": [
    {
     "data": {
      "text/html": [
       "<div>\n",
       "<style scoped>\n",
       "    .dataframe tbody tr th:only-of-type {\n",
       "        vertical-align: middle;\n",
       "    }\n",
       "\n",
       "    .dataframe tbody tr th {\n",
       "        vertical-align: top;\n",
       "    }\n",
       "\n",
       "    .dataframe thead th {\n",
       "        text-align: right;\n",
       "    }\n",
       "</style>\n",
       "<table border=\"1\" class=\"dataframe\">\n",
       "  <thead>\n",
       "    <tr style=\"text-align: right;\">\n",
       "      <th></th>\n",
       "      <th>BPM</th>\n",
       "      <th>Technical Practice</th>\n",
       "      <th>Daily Practice</th>\n",
       "      <th>Years</th>\n",
       "    </tr>\n",
       "  </thead>\n",
       "  <tbody>\n",
       "    <tr>\n",
       "      <th>BPM</th>\n",
       "      <td>1.000000</td>\n",
       "      <td>0.912878</td>\n",
       "      <td>0.799635</td>\n",
       "      <td>0.379557</td>\n",
       "    </tr>\n",
       "    <tr>\n",
       "      <th>Technical Practice</th>\n",
       "      <td>0.912878</td>\n",
       "      <td>1.000000</td>\n",
       "      <td>0.888711</td>\n",
       "      <td>0.429208</td>\n",
       "    </tr>\n",
       "    <tr>\n",
       "      <th>Daily Practice</th>\n",
       "      <td>0.799635</td>\n",
       "      <td>0.888711</td>\n",
       "      <td>1.000000</td>\n",
       "      <td>0.337728</td>\n",
       "    </tr>\n",
       "    <tr>\n",
       "      <th>Years</th>\n",
       "      <td>0.379557</td>\n",
       "      <td>0.429208</td>\n",
       "      <td>0.337728</td>\n",
       "      <td>1.000000</td>\n",
       "    </tr>\n",
       "  </tbody>\n",
       "</table>\n",
       "</div>"
      ],
      "text/plain": [
       "                         BPM  Technical Practice  Daily Practice     Years\n",
       "BPM                 1.000000            0.912878        0.799635  0.379557\n",
       "Technical Practice  0.912878            1.000000        0.888711  0.429208\n",
       "Daily Practice      0.799635            0.888711        1.000000  0.337728\n",
       "Years               0.379557            0.429208        0.337728  1.000000"
      ]
     },
     "execution_count": 38,
     "metadata": {},
     "output_type": "execute_result"
    }
   ],
   "source": [
    "baseline.corr()"
   ]
  },
  {
   "cell_type": "markdown",
   "metadata": {},
   "source": [
    "#### What is Covariance.\n",
    "The covariance is a statistical measure of a systematic relationship between two variables. A change in one variable is reciprocated by an equivalent change in the other variable. It ascertains the linear relationship between the variables. The covariance can be either positive or negative. Where the covariance is 0 there is no relationsip between the variables (keydifferences.com,2018). Closely related to covariance is correlation."
   ]
  },
  {
   "cell_type": "code",
   "execution_count": 14,
   "metadata": {},
   "outputs": [
    {
     "data": {
      "text/plain": [
       "1058.921052631579"
      ]
     },
     "execution_count": 14,
     "metadata": {},
     "output_type": "execute_result"
    }
   ],
   "source": [
    "baseline['BPM'].cov(baseline['Technical Practice'])"
   ]
  },
  {
   "cell_type": "code",
   "execution_count": 15,
   "metadata": {},
   "outputs": [
    {
     "data": {
      "text/plain": [
       "4940.3421052631575"
      ]
     },
     "execution_count": 15,
     "metadata": {},
     "output_type": "execute_result"
    }
   ],
   "source": [
    "baseline['BPM'].cov(baseline['Daily Practice'])"
   ]
  },
  {
   "cell_type": "code",
   "execution_count": 16,
   "metadata": {},
   "outputs": [
    {
     "data": {
      "text/plain": [
       "232.3578947368421"
      ]
     },
     "execution_count": 16,
     "metadata": {},
     "output_type": "execute_result"
    }
   ],
   "source": [
    "baseline['BPM'].cov(baseline['Years'])"
   ]
  },
  {
   "cell_type": "code",
   "execution_count": 46,
   "metadata": {},
   "outputs": [
    {
     "data": {
      "text/html": [
       "<div>\n",
       "<style scoped>\n",
       "    .dataframe tbody tr th:only-of-type {\n",
       "        vertical-align: middle;\n",
       "    }\n",
       "\n",
       "    .dataframe tbody tr th {\n",
       "        vertical-align: top;\n",
       "    }\n",
       "\n",
       "    .dataframe thead th {\n",
       "        text-align: right;\n",
       "    }\n",
       "</style>\n",
       "<table border=\"1\" class=\"dataframe\">\n",
       "  <thead>\n",
       "    <tr style=\"text-align: right;\">\n",
       "      <th></th>\n",
       "      <th>BPM</th>\n",
       "      <th>Technical Practice</th>\n",
       "      <th>Daily Practice</th>\n",
       "      <th>Years</th>\n",
       "    </tr>\n",
       "  </thead>\n",
       "  <tbody>\n",
       "    <tr>\n",
       "      <th>BPM</th>\n",
       "      <td>1830.852632</td>\n",
       "      <td>1058.921053</td>\n",
       "      <td>4940.342105</td>\n",
       "      <td>232.357895</td>\n",
       "    </tr>\n",
       "    <tr>\n",
       "      <th>Technical Practice</th>\n",
       "      <td>1058.921053</td>\n",
       "      <td>734.934211</td>\n",
       "      <td>3478.750000</td>\n",
       "      <td>166.473684</td>\n",
       "    </tr>\n",
       "    <tr>\n",
       "      <th>Daily Practice</th>\n",
       "      <td>4940.342105</td>\n",
       "      <td>3478.750000</td>\n",
       "      <td>20848.618421</td>\n",
       "      <td>697.684211</td>\n",
       "    </tr>\n",
       "    <tr>\n",
       "      <th>Years</th>\n",
       "      <td>232.357895</td>\n",
       "      <td>166.473684</td>\n",
       "      <td>697.684211</td>\n",
       "      <td>204.694737</td>\n",
       "    </tr>\n",
       "  </tbody>\n",
       "</table>\n",
       "</div>"
      ],
      "text/plain": [
       "                            BPM  Technical Practice  Daily Practice  \\\n",
       "BPM                 1830.852632         1058.921053     4940.342105   \n",
       "Technical Practice  1058.921053          734.934211     3478.750000   \n",
       "Daily Practice      4940.342105         3478.750000    20848.618421   \n",
       "Years                232.357895          166.473684      697.684211   \n",
       "\n",
       "                         Years  \n",
       "BPM                 232.357895  \n",
       "Technical Practice  166.473684  \n",
       "Daily Practice      697.684211  \n",
       "Years               204.694737  "
      ]
     },
     "execution_count": 46,
     "metadata": {},
     "output_type": "execute_result"
    }
   ],
   "source": [
    "baseline.cov()"
   ]
  },
  {
   "cell_type": "code",
   "execution_count": null,
   "metadata": {},
   "outputs": [],
   "source": []
  },
  {
   "cell_type": "code",
   "execution_count": null,
   "metadata": {},
   "outputs": [],
   "source": []
  },
  {
   "cell_type": "markdown",
   "metadata": {},
   "source": [
    "Add a graphic corr matrix. ideas here.\n",
    "https://stackoverflow.com/questions/29432629/correlation-matrix-using-pandas"
   ]
  },
  {
   "cell_type": "markdown",
   "metadata": {},
   "source": [
    "Add commentary on the correnaltion matrix, is this what I expected? \n",
    "\n",
    "This is the place for \"my thoughts\". "
   ]
  },
  {
   "cell_type": "markdown",
   "metadata": {},
   "source": [
    "### Mistake!\n",
    "One mistake I made when completing the DataFrame was outting the intergers into lists instead of Series. Using the list method like I did with the players names. When I tried to carry out any calculations on the DataFrame I kept getting errors. It took at lot of head scratching and trying diferent thing before I realised my mistake!!!"
   ]
  },
  {
   "cell_type": "markdown",
   "metadata": {},
   "source": [
    "# 3. Synthesise a data set.\n",
    "Synthesise / simulate a date set as closely matching their properties as possible."
   ]
  },
  {
   "cell_type": "markdown",
   "metadata": {},
   "source": [
    "#### Names\n",
    "Started by faking up 250 names, I didn't need to add in hte names but I felt it added an air of authenticity to the data set. For the first names I used 50 male and 50 female names, in the spirit of equality!"
   ]
  },
  {
   "cell_type": "code",
   "execution_count": 17,
   "metadata": {},
   "outputs": [],
   "source": [
    "# Created two lists. One of first names and one of second names. There are 100 names in each list.\n",
    "first_names = ['John', 'Mary', 'James', 'Patricia', 'Robert', 'Jennifer', 'Michael', 'Linda', 'William', \n",
    "               'Elizabeth', 'David', 'Barbara', 'Richard', 'Susan', 'Joseph', 'Jessica', 'Thomas', 'Sarah', \n",
    "               'Charles', 'Margaret', 'Christopher', 'Karen', 'Daniel', 'Nancy', 'Matthew', 'Lisa', 'Anthony',\n",
    "               'Betty', 'Donald', 'Dorothy', 'Mark', 'Sandra', 'Paul', 'Ashley', 'Steven', 'Kimberly', 'Andrew', \n",
    "               'Donna', 'Kenneth', 'Emily', 'George', 'Carol', 'Joshua', 'Michelle', 'Kevin', 'Amanda', 'Brian', \n",
    "               'Melissa', 'Edward', 'Deborah', 'Ronald', 'Stephanie', 'Timothy', 'Rebecca', 'Jason', 'Laura', \n",
    "               'Jeffrey', 'Helen', 'Ryan', 'Sharon', 'Jacob', 'Cynthia', 'Gary', 'Kathleen', 'Nicholas', 'Amy', \n",
    "               'Eric', 'Shirley', 'Stephen', 'Angela', 'Jonathan', 'Anna', 'Larry', 'Ruth', 'Justin', 'Brenda', \n",
    "               'Scott', 'Pamela', 'Brandon', 'Nicole', 'Frank', 'Katherine', 'Benjamin', 'Samantha', 'Gregory', \n",
    "               'Christine', 'Raymond', 'Catherine', 'Samuel', 'Virginia', 'Patrick', 'Debra', 'Alexander', 'Rachel',\n",
    "               'Jack', 'Janet', 'Dennis', 'Emma', 'Jerry', 'Carolyn']\n",
    "\n",
    "last_names = ['Smith', 'Jones', 'Taylor', 'Williams', 'Brown', 'Davies', 'Evans', 'Wilson', 'Thomas', 'Roberts', \n",
    "              'Johnson', 'Lewis', 'Walker', 'Robinson', 'Wood', 'Thompson', 'White', 'Watson', 'Jackson', 'Wright', \n",
    "              'Green', 'Harris', 'Cooper', 'King', 'Lee', 'Martin', 'Clarke', 'James', 'Morgan', 'Hughes', 'Edwards', \n",
    "              'Hill', 'Moore', 'Clark', 'Harrison', 'Bailey', 'Parker', 'Miller', 'Davis', 'Murphy', 'Price', 'Bell', \n",
    "              'Baker', 'Griffiths', 'Kelly', 'Simpson', 'Marshall', 'Collins', 'Bennett', 'Cox', 'Richardson', 'Fox', \n",
    "              'Gray', 'Rose', 'Chapman', 'Hunt', 'Robertson', 'Shaw', 'Reynolds', 'Lloyd', 'Ellis', 'Richards', \n",
    "              'Russell', 'Wilkinson', 'Khan', 'Graham', 'Stewart', 'Reid', 'Murray', 'Powell', 'Scott', 'Young', \n",
    "              'Morris', 'Hall', 'Ward', 'Turner', 'Carter', 'Phillips', 'Mitchell', 'Patel', 'Adams', 'Campbell', \n",
    "              'Anderson', 'Allen', 'Cook', 'Palmer', 'Holmes', 'Rogers', 'Stevens', 'Walsh', 'Hunter', 'Thomson', \n",
    "              'Matthews', 'Owen', 'Mason', 'Knight', 'Kennedy', 'Butler', 'Saunders', 'Cole']"
   ]
  },
  {
   "cell_type": "code",
   "execution_count": 18,
   "metadata": {},
   "outputs": [],
   "source": [
    "# Creating a list of full names. Randomly selected first names and surnames are joined to make the full names. \n",
    "names = [] # An empty list called names. \n",
    "\n",
    "for i in range(250): # A 'for' loop. This will loop 250 times.\n",
    "    full_name=random.choice(first_names)+\" \"+random.choice(last_names) # Using random.choice to randomly select names from both lists. \n",
    "    names.append(full_name) # Appends the randomly generated full names to the emply list created earlier."
   ]
  },
  {
   "cell_type": "code",
   "execution_count": 19,
   "metadata": {},
   "outputs": [
    {
     "data": {
      "text/plain": [
       "['Christine Lee',\n",
       " 'Steven Bennett',\n",
       " 'Jerry Harris',\n",
       " 'Justin Baker',\n",
       " 'Angela Chapman',\n",
       " 'Joshua Williams',\n",
       " 'Rachel Bailey',\n",
       " 'Margaret Martin',\n",
       " 'Samuel Wood',\n",
       " 'Nancy Watson',\n",
       " 'Larry King',\n",
       " 'Pamela Clarke',\n",
       " 'Jessica Hunter',\n",
       " 'Emily Morgan',\n",
       " 'Sandra Davies',\n",
       " 'Samantha Patel',\n",
       " 'Dennis Fox',\n",
       " 'Melissa Watson',\n",
       " 'Gary Walsh',\n",
       " 'Larry Stevens',\n",
       " 'Amanda Fox',\n",
       " 'David Russell',\n",
       " 'Samantha Rogers',\n",
       " 'Ryan Wood',\n",
       " 'Jonathan Griffiths',\n",
       " 'Jessica Bell',\n",
       " 'Michelle Parker',\n",
       " 'John Kelly',\n",
       " 'Patrick Lloyd',\n",
       " 'Nancy Reynolds',\n",
       " 'Jason Bennett',\n",
       " 'Margaret Khan',\n",
       " 'Daniel Richards',\n",
       " 'Angela Matthews',\n",
       " 'Dennis Butler',\n",
       " 'Ruth Rose',\n",
       " 'Patrick Saunders',\n",
       " 'Virginia Carter',\n",
       " 'Ronald Wood',\n",
       " 'Betty Kelly',\n",
       " 'Brandon Marshall',\n",
       " 'Benjamin Miller',\n",
       " 'Emily Collins',\n",
       " 'Larry Green',\n",
       " 'Samantha Carter',\n",
       " 'Deborah Chapman',\n",
       " 'Justin Robertson',\n",
       " 'Susan Ellis',\n",
       " 'Richard Bailey',\n",
       " 'Ruth Hughes',\n",
       " 'Brandon Harrison',\n",
       " 'Stephanie Collins',\n",
       " 'Jennifer Turner',\n",
       " 'Gary Russell',\n",
       " 'Sandra Green',\n",
       " 'Sarah White',\n",
       " 'Debra Walsh',\n",
       " 'Andrew Turner',\n",
       " 'Timothy Marshall',\n",
       " 'Daniel Murray',\n",
       " 'Nicole Hunter',\n",
       " 'Sandra Turner',\n",
       " 'Ruth Holmes',\n",
       " 'Jessica Harrison',\n",
       " 'Laura Stevens',\n",
       " 'Donna Gray',\n",
       " 'Ruth Brown',\n",
       " 'Amanda Rogers',\n",
       " 'Steven Jones',\n",
       " 'Donna Cox',\n",
       " 'George Owen',\n",
       " 'Lisa Robertson',\n",
       " 'Patrick Thompson',\n",
       " 'Richard Chapman',\n",
       " 'Jessica Thompson',\n",
       " 'Nicole Mason',\n",
       " 'Kathleen Wilkinson',\n",
       " 'Sarah Khan',\n",
       " 'Andrew Phillips',\n",
       " 'Jack Simpson',\n",
       " 'Jason Marshall',\n",
       " 'Pamela Thomson',\n",
       " 'Stephen Clarke',\n",
       " 'Anthony Reid',\n",
       " 'Jack Ward',\n",
       " 'Larry Butler',\n",
       " 'Dorothy Hall',\n",
       " 'Sharon White',\n",
       " 'Michael Holmes',\n",
       " 'Ashley Brown',\n",
       " 'Mary Jones',\n",
       " 'Anna Reynolds',\n",
       " 'Frank Kelly',\n",
       " 'Stephen Watson',\n",
       " 'Donna Parker',\n",
       " 'Jerry Marshall',\n",
       " 'Janet Patel',\n",
       " 'Ruth Lewis',\n",
       " 'Benjamin Rogers',\n",
       " 'Donna Moore',\n",
       " 'Matthew James',\n",
       " 'Dorothy Marshall',\n",
       " 'Jacob Rose',\n",
       " 'Patricia Clarke',\n",
       " 'Steven Scott',\n",
       " 'Dorothy Gray',\n",
       " 'Jennifer Cole',\n",
       " 'Charles Campbell',\n",
       " 'Ashley Walsh',\n",
       " 'Jonathan Bailey',\n",
       " 'Daniel Smith',\n",
       " 'Mark Gray',\n",
       " 'Edward Knight',\n",
       " 'Jeffrey Hall',\n",
       " 'Charles Graham',\n",
       " 'Patrick Jones',\n",
       " 'Katherine Saunders',\n",
       " 'George Wright',\n",
       " 'William Roberts',\n",
       " 'Jacob Bennett',\n",
       " 'Katherine Davis',\n",
       " 'Katherine Brown',\n",
       " 'Sarah Hunter',\n",
       " 'Ryan Davis',\n",
       " 'Karen Baker',\n",
       " 'Barbara Green',\n",
       " 'Pamela Phillips',\n",
       " 'Kenneth Phillips',\n",
       " 'Samuel Parker',\n",
       " 'Timothy Brown',\n",
       " 'Joseph Williams',\n",
       " 'Stephanie Moore',\n",
       " 'Jason Young',\n",
       " 'Ashley Mitchell',\n",
       " 'Daniel Gray',\n",
       " 'Sharon Powell',\n",
       " 'Raymond Wood',\n",
       " 'James Phillips',\n",
       " 'Jacob Davis',\n",
       " 'Benjamin Wilkinson',\n",
       " 'Betty Shaw',\n",
       " 'Donald Davis',\n",
       " 'Michelle Rose',\n",
       " 'Rachel Phillips',\n",
       " 'Janet Carter',\n",
       " 'Catherine Price',\n",
       " 'Nancy Simpson',\n",
       " 'Patrick Brown',\n",
       " 'Jonathan Roberts',\n",
       " 'Sandra Walker',\n",
       " 'Amanda Smith',\n",
       " 'Jason Shaw',\n",
       " 'David Williams',\n",
       " 'John Lewis',\n",
       " 'Rachel Carter',\n",
       " 'Ashley Baker',\n",
       " 'Shirley Morris',\n",
       " 'Jonathan Hunt',\n",
       " 'Matthew Collins',\n",
       " 'Ashley Walker',\n",
       " 'Jennifer Stevens',\n",
       " 'Michael Carter',\n",
       " 'Jessica Robinson',\n",
       " 'Joshua Davis',\n",
       " 'Debra Turner',\n",
       " 'Catherine Collins',\n",
       " 'Kathleen Jones',\n",
       " 'Angela Saunders',\n",
       " 'Kathleen Smith',\n",
       " 'David Harris',\n",
       " 'Donald Bell',\n",
       " 'Lisa Collins',\n",
       " 'Timothy Chapman',\n",
       " 'Thomas Kelly',\n",
       " 'Sandra Cole',\n",
       " 'Betty Thompson',\n",
       " 'Dennis Patel',\n",
       " 'Sharon Lloyd',\n",
       " 'Ryan Bailey',\n",
       " 'Stephen Rose',\n",
       " 'Ryan Lloyd',\n",
       " 'Jessica Edwards',\n",
       " 'Deborah Knight',\n",
       " 'Christine Brown',\n",
       " 'Margaret Edwards',\n",
       " 'Lisa King',\n",
       " 'George Collins',\n",
       " 'Frank Cook',\n",
       " 'Jeffrey White',\n",
       " 'Cynthia Cox',\n",
       " 'Ronald White',\n",
       " 'Kimberly Palmer',\n",
       " 'Kathleen Johnson',\n",
       " 'Kimberly Robertson',\n",
       " 'Emma Richardson',\n",
       " 'Jack Edwards',\n",
       " 'Richard Turner',\n",
       " 'Kathleen Russell',\n",
       " 'Cynthia Campbell',\n",
       " 'Patricia King',\n",
       " 'Brian Scott',\n",
       " 'William Hunt',\n",
       " 'Virginia Morgan',\n",
       " 'Jonathan Phillips',\n",
       " 'Kevin Phillips',\n",
       " 'Rachel Kennedy',\n",
       " 'Jessica King',\n",
       " 'Karen Johnson',\n",
       " 'Emily Kennedy',\n",
       " 'Ryan Reid',\n",
       " 'Sarah Harris',\n",
       " 'Kenneth Harris',\n",
       " 'Jeffrey Green',\n",
       " 'Jason Wilkinson',\n",
       " 'Jeffrey Thomson',\n",
       " 'Jennifer Jackson',\n",
       " 'Brandon Miller',\n",
       " 'Katherine Hall',\n",
       " 'Joseph Thomson',\n",
       " 'Jonathan Wood',\n",
       " 'Deborah Reynolds',\n",
       " 'Andrew Powell',\n",
       " 'Joshua Watson',\n",
       " 'Jonathan Parker',\n",
       " 'David Evans',\n",
       " 'Rebecca Patel',\n",
       " 'Jeffrey Evans',\n",
       " 'Frank Martin',\n",
       " 'Nicole Murphy',\n",
       " 'Alexander Watson',\n",
       " 'Donna Collins',\n",
       " 'Alexander Knight',\n",
       " 'Joshua Walsh',\n",
       " 'Nancy Griffiths',\n",
       " 'Sandra Robinson',\n",
       " 'Anna Holmes',\n",
       " 'Dennis Wilson',\n",
       " 'Sharon Mason',\n",
       " 'Emily Campbell',\n",
       " 'Nicole Lloyd',\n",
       " 'Samantha Patel',\n",
       " 'Kevin Turner',\n",
       " 'Brian Richards',\n",
       " 'Raymond Walker',\n",
       " 'Elizabeth White',\n",
       " 'Justin Young',\n",
       " 'Rachel Ward',\n",
       " 'Benjamin Lloyd',\n",
       " 'Jonathan Simpson',\n",
       " 'Paul Miller']"
      ]
     },
     "execution_count": 19,
     "metadata": {},
     "output_type": "execute_result"
    }
   ],
   "source": [
    "names"
   ]
  },
  {
   "cell_type": "markdown",
   "metadata": {},
   "source": [
    "#### Beats Per Minute."
   ]
  },
  {
   "cell_type": "code",
   "execution_count": 40,
   "metadata": {},
   "outputs": [],
   "source": [
    "np.random.seed(80) # Set the seed for the random generator to provide reproducability.\n",
    "bpm1 = pd.Series([np.random.randint(80,170,size=250)])"
   ]
  },
  {
   "cell_type": "code",
   "execution_count": 41,
   "metadata": {},
   "outputs": [
    {
     "data": {
      "text/plain": [
       "1"
      ]
     },
     "execution_count": 41,
     "metadata": {},
     "output_type": "execute_result"
    }
   ],
   "source": [
    "len(bpm1)"
   ]
  },
  {
   "cell_type": "code",
   "execution_count": 42,
   "metadata": {},
   "outputs": [
    {
     "data": {
      "text/plain": [
       "0    [127, 140, 118, 163, 90, 130, 83, 166, 103, 95...\n",
       "dtype: object"
      ]
     },
     "execution_count": 42,
     "metadata": {},
     "output_type": "execute_result"
    }
   ],
   "source": [
    "bpm1"
   ]
  },
  {
   "cell_type": "code",
   "execution_count": 23,
   "metadata": {},
   "outputs": [
    {
     "data": {
      "text/plain": [
       "<function matplotlib.pyplot.show(*args, **kw)>"
      ]
     },
     "execution_count": 23,
     "metadata": {},
     "output_type": "execute_result"
    },
    {
     "data": {
      "image/png": "[encoded data removed]",
      "text/plain": [
       "<Figure size 432x288 with 1 Axes>"
      ]
     },
     "metadata": {
      "needs_background": "light"
     },
     "output_type": "display_data"
    }
   ],
   "source": [
    "plt.hist(bpm1)\n",
    "plt.show"
   ]
  },
  {
   "cell_type": "code",
   "execution_count": 24,
   "metadata": {},
   "outputs": [
    {
     "data": {
      "text/plain": [
       "<function matplotlib.pyplot.show(*args, **kw)>"
      ]
     },
     "execution_count": 24,
     "metadata": {},
     "output_type": "execute_result"
    },
    {
     "data": {
      "image/png": "[encoded data removed]",
      "text/plain": [
       "<Figure size 432x288 with 1 Axes>"
      ]
     },
     "metadata": {
      "needs_background": "light"
     },
     "output_type": "display_data"
    }
   ],
   "source": [
    "plt.plot(bpm1)\n",
    "plt.axis([0, 260, 0, 180])\n",
    "plt.show"
   ]
  },
  {
   "cell_type": "code",
   "execution_count": 25,
   "metadata": {},
   "outputs": [],
   "source": [
    "mu, sigma = 122.5, 25.13 # mean and standard deviation\n",
    "s = np.random.normal(mu, sigma, 250)"
   ]
  },
  {
   "cell_type": "code",
   "execution_count": 26,
   "metadata": {},
   "outputs": [
    {
     "data": {
      "text/plain": [
       "<function matplotlib.pyplot.show(*args, **kw)>"
      ]
     },
     "execution_count": 26,
     "metadata": {},
     "output_type": "execute_result"
    },
    {
     "data": {
      "image/png": "[encoded data removed]",
      "text/plain": [
       "<Figure size 432x288 with 1 Axes>"
      ]
     },
     "metadata": {
      "needs_background": "light"
     },
     "output_type": "display_data"
    }
   ],
   "source": [
    "plt.plot(s)\n",
    "plt.show"
   ]
  },
  {
   "cell_type": "code",
   "execution_count": 27,
   "metadata": {},
   "outputs": [
    {
     "data": {
      "text/plain": [
       "125.472"
      ]
     },
     "execution_count": 27,
     "metadata": {},
     "output_type": "execute_result"
    }
   ],
   "source": [
    "np.mean(bpm1)"
   ]
  },
  {
   "cell_type": "code",
   "execution_count": 28,
   "metadata": {},
   "outputs": [
    {
     "data": {
      "text/plain": [
       "26.739207467686846"
      ]
     },
     "execution_count": 28,
     "metadata": {},
     "output_type": "execute_result"
    }
   ],
   "source": [
    "np.std(bpm1)"
   ]
  },
  {
   "cell_type": "code",
   "execution_count": 30,
   "metadata": {},
   "outputs": [],
   "source": [
    "guit = {'Names':names, 'BPM':bpm1}"
   ]
  },
  {
   "cell_type": "code",
   "execution_count": 31,
   "metadata": {},
   "outputs": [],
   "source": [
    "df5 = pd.DataFrame(guit)"
   ]
  },
  {
   "cell_type": "code",
   "execution_count": 32,
   "metadata": {},
   "outputs": [
    {
     "data": {
      "text/html": [
       "<div>\n",
       "<style scoped>\n",
       "    .dataframe tbody tr th:only-of-type {\n",
       "        vertical-align: middle;\n",
       "    }\n",
       "\n",
       "    .dataframe tbody tr th {\n",
       "        vertical-align: top;\n",
       "    }\n",
       "\n",
       "    .dataframe thead th {\n",
       "        text-align: right;\n",
       "    }\n",
       "</style>\n",
       "<table border=\"1\" class=\"dataframe\">\n",
       "  <thead>\n",
       "    <tr style=\"text-align: right;\">\n",
       "      <th></th>\n",
       "      <th>Names</th>\n",
       "      <th>BPM</th>\n",
       "    </tr>\n",
       "  </thead>\n",
       "  <tbody>\n",
       "    <tr>\n",
       "      <th>0</th>\n",
       "      <td>Christine Lee</td>\n",
       "      <td>127</td>\n",
       "    </tr>\n",
       "    <tr>\n",
       "      <th>1</th>\n",
       "      <td>Steven Bennett</td>\n",
       "      <td>140</td>\n",
       "    </tr>\n",
       "    <tr>\n",
       "      <th>2</th>\n",
       "      <td>Jerry Harris</td>\n",
       "      <td>118</td>\n",
       "    </tr>\n",
       "    <tr>\n",
       "      <th>3</th>\n",
       "      <td>Justin Baker</td>\n",
       "      <td>163</td>\n",
       "    </tr>\n",
       "    <tr>\n",
       "      <th>4</th>\n",
       "      <td>Angela Chapman</td>\n",
       "      <td>90</td>\n",
       "    </tr>\n",
       "    <tr>\n",
       "      <th>5</th>\n",
       "      <td>Joshua Williams</td>\n",
       "      <td>130</td>\n",
       "    </tr>\n",
       "    <tr>\n",
       "      <th>6</th>\n",
       "      <td>Rachel Bailey</td>\n",
       "      <td>83</td>\n",
       "    </tr>\n",
       "    <tr>\n",
       "      <th>7</th>\n",
       "      <td>Margaret Martin</td>\n",
       "      <td>166</td>\n",
       "    </tr>\n",
       "    <tr>\n",
       "      <th>8</th>\n",
       "      <td>Samuel Wood</td>\n",
       "      <td>103</td>\n",
       "    </tr>\n",
       "    <tr>\n",
       "      <th>9</th>\n",
       "      <td>Nancy Watson</td>\n",
       "      <td>95</td>\n",
       "    </tr>\n",
       "    <tr>\n",
       "      <th>10</th>\n",
       "      <td>Larry King</td>\n",
       "      <td>161</td>\n",
       "    </tr>\n",
       "    <tr>\n",
       "      <th>11</th>\n",
       "      <td>Pamela Clarke</td>\n",
       "      <td>85</td>\n",
       "    </tr>\n",
       "    <tr>\n",
       "      <th>12</th>\n",
       "      <td>Jessica Hunter</td>\n",
       "      <td>144</td>\n",
       "    </tr>\n",
       "    <tr>\n",
       "      <th>13</th>\n",
       "      <td>Emily Morgan</td>\n",
       "      <td>89</td>\n",
       "    </tr>\n",
       "    <tr>\n",
       "      <th>14</th>\n",
       "      <td>Sandra Davies</td>\n",
       "      <td>122</td>\n",
       "    </tr>\n",
       "    <tr>\n",
       "      <th>15</th>\n",
       "      <td>Samantha Patel</td>\n",
       "      <td>84</td>\n",
       "    </tr>\n",
       "    <tr>\n",
       "      <th>16</th>\n",
       "      <td>Dennis Fox</td>\n",
       "      <td>131</td>\n",
       "    </tr>\n",
       "    <tr>\n",
       "      <th>17</th>\n",
       "      <td>Melissa Watson</td>\n",
       "      <td>130</td>\n",
       "    </tr>\n",
       "    <tr>\n",
       "      <th>18</th>\n",
       "      <td>Gary Walsh</td>\n",
       "      <td>115</td>\n",
       "    </tr>\n",
       "    <tr>\n",
       "      <th>19</th>\n",
       "      <td>Larry Stevens</td>\n",
       "      <td>158</td>\n",
       "    </tr>\n",
       "    <tr>\n",
       "      <th>20</th>\n",
       "      <td>Amanda Fox</td>\n",
       "      <td>169</td>\n",
       "    </tr>\n",
       "    <tr>\n",
       "      <th>21</th>\n",
       "      <td>David Russell</td>\n",
       "      <td>88</td>\n",
       "    </tr>\n",
       "    <tr>\n",
       "      <th>22</th>\n",
       "      <td>Samantha Rogers</td>\n",
       "      <td>159</td>\n",
       "    </tr>\n",
       "    <tr>\n",
       "      <th>23</th>\n",
       "      <td>Ryan Wood</td>\n",
       "      <td>87</td>\n",
       "    </tr>\n",
       "    <tr>\n",
       "      <th>24</th>\n",
       "      <td>Jonathan Griffiths</td>\n",
       "      <td>149</td>\n",
       "    </tr>\n",
       "    <tr>\n",
       "      <th>25</th>\n",
       "      <td>Jessica Bell</td>\n",
       "      <td>136</td>\n",
       "    </tr>\n",
       "    <tr>\n",
       "      <th>26</th>\n",
       "      <td>Michelle Parker</td>\n",
       "      <td>95</td>\n",
       "    </tr>\n",
       "    <tr>\n",
       "      <th>27</th>\n",
       "      <td>John Kelly</td>\n",
       "      <td>83</td>\n",
       "    </tr>\n",
       "    <tr>\n",
       "      <th>28</th>\n",
       "      <td>Patrick Lloyd</td>\n",
       "      <td>119</td>\n",
       "    </tr>\n",
       "    <tr>\n",
       "      <th>29</th>\n",
       "      <td>Nancy Reynolds</td>\n",
       "      <td>131</td>\n",
       "    </tr>\n",
       "    <tr>\n",
       "      <th>...</th>\n",
       "      <td>...</td>\n",
       "      <td>...</td>\n",
       "    </tr>\n",
       "    <tr>\n",
       "      <th>220</th>\n",
       "      <td>Deborah Reynolds</td>\n",
       "      <td>126</td>\n",
       "    </tr>\n",
       "    <tr>\n",
       "      <th>221</th>\n",
       "      <td>Andrew Powell</td>\n",
       "      <td>133</td>\n",
       "    </tr>\n",
       "    <tr>\n",
       "      <th>222</th>\n",
       "      <td>Joshua Watson</td>\n",
       "      <td>80</td>\n",
       "    </tr>\n",
       "    <tr>\n",
       "      <th>223</th>\n",
       "      <td>Jonathan Parker</td>\n",
       "      <td>159</td>\n",
       "    </tr>\n",
       "    <tr>\n",
       "      <th>224</th>\n",
       "      <td>David Evans</td>\n",
       "      <td>147</td>\n",
       "    </tr>\n",
       "    <tr>\n",
       "      <th>225</th>\n",
       "      <td>Rebecca Patel</td>\n",
       "      <td>168</td>\n",
       "    </tr>\n",
       "    <tr>\n",
       "      <th>226</th>\n",
       "      <td>Jeffrey Evans</td>\n",
       "      <td>163</td>\n",
       "    </tr>\n",
       "    <tr>\n",
       "      <th>227</th>\n",
       "      <td>Frank Martin</td>\n",
       "      <td>160</td>\n",
       "    </tr>\n",
       "    <tr>\n",
       "      <th>228</th>\n",
       "      <td>Nicole Murphy</td>\n",
       "      <td>127</td>\n",
       "    </tr>\n",
       "    <tr>\n",
       "      <th>229</th>\n",
       "      <td>Alexander Watson</td>\n",
       "      <td>109</td>\n",
       "    </tr>\n",
       "    <tr>\n",
       "      <th>230</th>\n",
       "      <td>Donna Collins</td>\n",
       "      <td>168</td>\n",
       "    </tr>\n",
       "    <tr>\n",
       "      <th>231</th>\n",
       "      <td>Alexander Knight</td>\n",
       "      <td>125</td>\n",
       "    </tr>\n",
       "    <tr>\n",
       "      <th>232</th>\n",
       "      <td>Joshua Walsh</td>\n",
       "      <td>91</td>\n",
       "    </tr>\n",
       "    <tr>\n",
       "      <th>233</th>\n",
       "      <td>Nancy Griffiths</td>\n",
       "      <td>121</td>\n",
       "    </tr>\n",
       "    <tr>\n",
       "      <th>234</th>\n",
       "      <td>Sandra Robinson</td>\n",
       "      <td>127</td>\n",
       "    </tr>\n",
       "    <tr>\n",
       "      <th>235</th>\n",
       "      <td>Anna Holmes</td>\n",
       "      <td>109</td>\n",
       "    </tr>\n",
       "    <tr>\n",
       "      <th>236</th>\n",
       "      <td>Dennis Wilson</td>\n",
       "      <td>155</td>\n",
       "    </tr>\n",
       "    <tr>\n",
       "      <th>237</th>\n",
       "      <td>Sharon Mason</td>\n",
       "      <td>156</td>\n",
       "    </tr>\n",
       "    <tr>\n",
       "      <th>238</th>\n",
       "      <td>Emily Campbell</td>\n",
       "      <td>80</td>\n",
       "    </tr>\n",
       "    <tr>\n",
       "      <th>239</th>\n",
       "      <td>Nicole Lloyd</td>\n",
       "      <td>88</td>\n",
       "    </tr>\n",
       "    <tr>\n",
       "      <th>240</th>\n",
       "      <td>Samantha Patel</td>\n",
       "      <td>89</td>\n",
       "    </tr>\n",
       "    <tr>\n",
       "      <th>241</th>\n",
       "      <td>Kevin Turner</td>\n",
       "      <td>82</td>\n",
       "    </tr>\n",
       "    <tr>\n",
       "      <th>242</th>\n",
       "      <td>Brian Richards</td>\n",
       "      <td>153</td>\n",
       "    </tr>\n",
       "    <tr>\n",
       "      <th>243</th>\n",
       "      <td>Raymond Walker</td>\n",
       "      <td>153</td>\n",
       "    </tr>\n",
       "    <tr>\n",
       "      <th>244</th>\n",
       "      <td>Elizabeth White</td>\n",
       "      <td>143</td>\n",
       "    </tr>\n",
       "    <tr>\n",
       "      <th>245</th>\n",
       "      <td>Justin Young</td>\n",
       "      <td>115</td>\n",
       "    </tr>\n",
       "    <tr>\n",
       "      <th>246</th>\n",
       "      <td>Rachel Ward</td>\n",
       "      <td>149</td>\n",
       "    </tr>\n",
       "    <tr>\n",
       "      <th>247</th>\n",
       "      <td>Benjamin Lloyd</td>\n",
       "      <td>145</td>\n",
       "    </tr>\n",
       "    <tr>\n",
       "      <th>248</th>\n",
       "      <td>Jonathan Simpson</td>\n",
       "      <td>92</td>\n",
       "    </tr>\n",
       "    <tr>\n",
       "      <th>249</th>\n",
       "      <td>Paul Miller</td>\n",
       "      <td>136</td>\n",
       "    </tr>\n",
       "  </tbody>\n",
       "</table>\n",
       "<p>250 rows × 2 columns</p>\n",
       "</div>"
      ],
      "text/plain": [
       "                  Names  BPM\n",
       "0         Christine Lee  127\n",
       "1        Steven Bennett  140\n",
       "2          Jerry Harris  118\n",
       "3          Justin Baker  163\n",
       "4        Angela Chapman   90\n",
       "5       Joshua Williams  130\n",
       "6         Rachel Bailey   83\n",
       "7       Margaret Martin  166\n",
       "8           Samuel Wood  103\n",
       "9          Nancy Watson   95\n",
       "10           Larry King  161\n",
       "11        Pamela Clarke   85\n",
       "12       Jessica Hunter  144\n",
       "13         Emily Morgan   89\n",
       "14        Sandra Davies  122\n",
       "15       Samantha Patel   84\n",
       "16           Dennis Fox  131\n",
       "17       Melissa Watson  130\n",
       "18           Gary Walsh  115\n",
       "19        Larry Stevens  158\n",
       "20           Amanda Fox  169\n",
       "21        David Russell   88\n",
       "22      Samantha Rogers  159\n",
       "23            Ryan Wood   87\n",
       "24   Jonathan Griffiths  149\n",
       "25         Jessica Bell  136\n",
       "26      Michelle Parker   95\n",
       "27           John Kelly   83\n",
       "28        Patrick Lloyd  119\n",
       "29       Nancy Reynolds  131\n",
       "..                  ...  ...\n",
       "220    Deborah Reynolds  126\n",
       "221       Andrew Powell  133\n",
       "222       Joshua Watson   80\n",
       "223     Jonathan Parker  159\n",
       "224         David Evans  147\n",
       "225       Rebecca Patel  168\n",
       "226       Jeffrey Evans  163\n",
       "227        Frank Martin  160\n",
       "228       Nicole Murphy  127\n",
       "229    Alexander Watson  109\n",
       "230       Donna Collins  168\n",
       "231    Alexander Knight  125\n",
       "232        Joshua Walsh   91\n",
       "233     Nancy Griffiths  121\n",
       "234     Sandra Robinson  127\n",
       "235         Anna Holmes  109\n",
       "236       Dennis Wilson  155\n",
       "237        Sharon Mason  156\n",
       "238      Emily Campbell   80\n",
       "239        Nicole Lloyd   88\n",
       "240      Samantha Patel   89\n",
       "241        Kevin Turner   82\n",
       "242      Brian Richards  153\n",
       "243      Raymond Walker  153\n",
       "244     Elizabeth White  143\n",
       "245        Justin Young  115\n",
       "246         Rachel Ward  149\n",
       "247      Benjamin Lloyd  145\n",
       "248    Jonathan Simpson   92\n",
       "249         Paul Miller  136\n",
       "\n",
       "[250 rows x 2 columns]"
      ]
     },
     "execution_count": 32,
     "metadata": {},
     "output_type": "execute_result"
    }
   ],
   "source": [
    "df5"
   ]
  },
  {
   "cell_type": "markdown",
   "metadata": {},
   "source": [
    "## Data Frame."
   ]
  },
  {
   "cell_type": "markdown",
   "metadata": {},
   "source": [
    "# 4. Detail my research.\n",
    "Detail my research and implement the simulation in a Jupyter Notebook - the data itself can simply be displayed in an output cell within the notebook."
   ]
  },
  {
   "cell_type": "markdown",
   "metadata": {},
   "source": [
    "### Reflection & Lessons.\n",
    "Had some trouble creating the dataframe. Getting lists into it as well as joining or merging took some trial and error.\n",
    "\n",
    "Distribution of bpm, normal didn't look right. tried s different one to skew the bpm results."
   ]
  },
  {
   "cell_type": "markdown",
   "metadata": {},
   "source": [
    "# Notes.\n",
    "Cognitive bias - have I introduced bias into the data? How would I know? Will that make a difference to the data or the results?\n",
    "\n",
    "Can I use SK Learn?\n"
   ]
  },
  {
   "cell_type": "markdown",
   "metadata": {},
   "source": [
    "# References.\n",
    "\n",
    "Source for the list of first names. \n",
    "https://www.ssa.gov/oact/babynames/decades/century.html\n",
    "\n",
    "Source for the list of surnames.\n",
    "https://surname.sofeminine.co.uk/w/surnames/most-common-surnames-in-great-britain.html\n",
    "\n",
    "keydifferences.com https://keydifferences.com/difference-between-covariance-and-correlation.html\n",
    "\n",
    "Creating df from lists.\n",
    "https://cmdlinetips.com/2018/01/how-to-create-pandas-dataframe-from-multiple-lists/\n",
    "\n",
    "\n",
    "I used the documentation for all of the libraries several times during this project. Too many to list individually, or else the reference section would be longer than my project. By way of acknowledgement I have provided links to the documentation pages for the libraries I used. \n",
    "\n",
    "matplotlib.org https://matplotlib.org/index.html\n",
    "\n",
    "numpy.org http://www.numpy.org\n",
    "\n",
    "pandas\n",
    "\n",
    "\n"
   ]
  },
  {
   "cell_type": "markdown",
   "metadata": {},
   "source": [
    "## END"
   ]
  },
  {
   "cell_type": "code",
   "execution_count": null,
   "metadata": {},
   "outputs": [],
   "source": []
  }
 ],
 "metadata": {
  "kernelspec": {
   "display_name": "Python 3",
   "language": "python",
   "name": "python3"
  },
  "language_info": {
   "codemirror_mode": {
    "name": "ipython",
    "version": 3
   },
   "file_extension": ".py",
   "mimetype": "text/x-python",
   "name": "python",
   "nbconvert_exporter": "python",
   "pygments_lexer": "ipython3",
   "version": "3.7.0"
  }
 },
 "nbformat": 4,
 "nbformat_minor": 2
}
