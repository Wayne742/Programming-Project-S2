{
 "cells": [
  {
   "cell_type": "markdown",
   "metadata": {},
   "source": [
    "# Programming for Data Analysis Project 2018."
   ]
  },
  {
   "cell_type": "markdown",
   "metadata": {},
   "source": [
    "# Introduction."
   ]
  },
  {
   "cell_type": "markdown",
   "metadata": {},
   "source": [
    "### Importing Libraries."
   ]
  },
  {
   "cell_type": "code",
   "execution_count": 1,
   "metadata": {},
   "outputs": [],
   "source": [
    "import numpy as np\n",
    "import pandas as pd\n",
    "import matplotlib.pyplot as plt\n",
    "import random"
   ]
  },
  {
   "cell_type": "markdown",
   "metadata": {
    "collapsed": true
   },
   "source": [
    "# 1. Choose a phenomenon.\n",
    "Choose a real world phenomenon that can be measured and for which you could collect at least one-hundred data points across at least four different variables."
   ]
  },
  {
   "cell_type": "markdown",
   "metadata": {},
   "source": [
    "### 1.1 What  & Why? "
   ]
  },
  {
   "cell_type": "markdown",
   "metadata": {},
   "source": [
    "### 1.2 The use of evidence."
   ]
  },
  {
   "cell_type": "markdown",
   "metadata": {
    "collapsed": true
   },
   "source": [
    "# 2. Investigation of variables.\n",
    "Investigate the types of variables involved, their likely distribution and their relationship with each other."
   ]
  },
  {
   "cell_type": "markdown",
   "metadata": {},
   "source": [
    "### 2.1 Beats Per MInute.\n",
    "The speed a player can play 16th notes.\n",
    "\n",
    "This variable is a non negative number. "
   ]
  },
  {
   "cell_type": "markdown",
   "metadata": {},
   "source": [
    "### 2.2 Average Daily Practice Time.\n",
    "The average time spent per day practicing the instrument.\n",
    "\n",
    "Variable is time in minutes and is a non negative number."
   ]
  },
  {
   "cell_type": "markdown",
   "metadata": {},
   "source": [
    "### 2.3 Technical Practice.\n",
    "How much time (in minutes) do players spend on focused technical practice only.\n",
    "\n",
    "Variable in time. A non negative number, in minutes.\n",
    "The is a high correlation between this variable and BPM."
   ]
  },
  {
   "cell_type": "markdown",
   "metadata": {},
   "source": [
    "### 2.4 Length of Time Playing.\n",
    "Number of years playing.\n",
    "Variable is a non negative number in years."
   ]
  },
  {
   "cell_type": "markdown",
   "metadata": {},
   "source": [
    "### 2.5 The Sample Dataset. "
   ]
  },
  {
   "cell_type": "code",
   "execution_count": 2,
   "metadata": {},
   "outputs": [],
   "source": [
    "# List of Guitar Players. Some famous, some not so famous!\n",
    "player = ['Guthrie Govan', 'Steve Vai', 'Jess Lewis', 'Al Joseph', 'Martin Miller', 'Jake Wilson', 'Jennifer Batten'\n",
    "          ,'Joe Satriani', 'Andy James', 'Me', 'Pat Sheil', 'Aidan Conlon', 'Declan Collins', 'Adrian Connaire', \n",
    "          'Phillip Joyce', 'John McNamee', 'Michael Kelly', 'Sean Dunne', 'Glenn Burke', 'Nick Morahan']"
   ]
  },
  {
   "cell_type": "code",
   "execution_count": 3,
   "metadata": {},
   "outputs": [],
   "source": [
    "# Series of values for 'bpmp' which stands for Beats Per Minute Players.\n",
    "bpmp = pd.Series([200, 200, 160, 180, 200, 160, 180, 170, 170, 110, 86, 144, 98, 90, 130, 72, 98, 80, 140, 138])"
   ]
  },
  {
   "cell_type": "code",
   "execution_count": 4,
   "metadata": {},
   "outputs": [],
   "source": [
    "# Series of values for 'tp'. This variable is Technical Practice. Time spent in minutes.\n",
    "tp = pd.Series([90, 90, 50, 60, 60, 50, 50, 60, 60, 15, 15, 20, 10, 10, 20, 10, 10, 10, 15, 30])"
   ]
  },
  {
   "cell_type": "code",
   "execution_count": 5,
   "metadata": {},
   "outputs": [],
   "source": [
    "# Series of values for 'daily'. This is the amount of time in minutes spent practicing each day.\n",
    "daily = pd.Series([300, 600, 240, 300, 300, 300, 180, 180, 180, 30, 90, 120, 70, 60, 60, 30, 30, 45, 60, 70])"
   ]
  },
  {
   "cell_type": "code",
   "execution_count": 6,
   "metadata": {},
   "outputs": [],
   "source": [
    "# Series of values for 'years'. The number of years playing the instrument.\n",
    "years = pd.Series([43, 45, 10, 10, 8, 9, 40, 48, 18, 30, 15, 26, 25, 34, 16, 4, 7, 8, 20, 8])"
   ]
  },
  {
   "cell_type": "code",
   "execution_count": 7,
   "metadata": {},
   "outputs": [],
   "source": [
    "# Create a dictonary called 'sample'. Contains all the list created above.\n",
    "sample = {'Players':player, 'BPM':bpmp, 'Technical Practice':tp, 'Daily Practice':daily, 'Years':years}"
   ]
  },
  {
   "cell_type": "code",
   "execution_count": 8,
   "metadata": {},
   "outputs": [],
   "source": [
    "# Created a DataFrame called 'baseline'. Populated it with the data in the dictonary called 'samples'.\n",
    "baseline = pd.DataFrame(sample)"
   ]
  },
  {
   "cell_type": "code",
   "execution_count": 9,
   "metadata": {},
   "outputs": [
    {
     "data": {
      "text/html": [
       "<div>\n",
       "<style scoped>\n",
       "    .dataframe tbody tr th:only-of-type {\n",
       "        vertical-align: middle;\n",
       "    }\n",
       "\n",
       "    .dataframe tbody tr th {\n",
       "        vertical-align: top;\n",
       "    }\n",
       "\n",
       "    .dataframe thead th {\n",
       "        text-align: right;\n",
       "    }\n",
       "</style>\n",
       "<table border=\"1\" class=\"dataframe\">\n",
       "  <thead>\n",
       "    <tr style=\"text-align: right;\">\n",
       "      <th></th>\n",
       "      <th>Players</th>\n",
       "      <th>BPM</th>\n",
       "      <th>Technical Practice</th>\n",
       "      <th>Daily Practice</th>\n",
       "      <th>Years</th>\n",
       "    </tr>\n",
       "  </thead>\n",
       "  <tbody>\n",
       "    <tr>\n",
       "      <th>0</th>\n",
       "      <td>Guthrie Govan</td>\n",
       "      <td>200</td>\n",
       "      <td>90</td>\n",
       "      <td>300</td>\n",
       "      <td>43</td>\n",
       "    </tr>\n",
       "    <tr>\n",
       "      <th>1</th>\n",
       "      <td>Steve Vai</td>\n",
       "      <td>200</td>\n",
       "      <td>90</td>\n",
       "      <td>600</td>\n",
       "      <td>45</td>\n",
       "    </tr>\n",
       "    <tr>\n",
       "      <th>2</th>\n",
       "      <td>Jess Lewis</td>\n",
       "      <td>160</td>\n",
       "      <td>50</td>\n",
       "      <td>240</td>\n",
       "      <td>10</td>\n",
       "    </tr>\n",
       "    <tr>\n",
       "      <th>3</th>\n",
       "      <td>Al Joseph</td>\n",
       "      <td>180</td>\n",
       "      <td>60</td>\n",
       "      <td>300</td>\n",
       "      <td>10</td>\n",
       "    </tr>\n",
       "    <tr>\n",
       "      <th>4</th>\n",
       "      <td>Martin Miller</td>\n",
       "      <td>200</td>\n",
       "      <td>60</td>\n",
       "      <td>300</td>\n",
       "      <td>8</td>\n",
       "    </tr>\n",
       "    <tr>\n",
       "      <th>5</th>\n",
       "      <td>Jake Wilson</td>\n",
       "      <td>160</td>\n",
       "      <td>50</td>\n",
       "      <td>300</td>\n",
       "      <td>9</td>\n",
       "    </tr>\n",
       "    <tr>\n",
       "      <th>6</th>\n",
       "      <td>Jennifer Batten</td>\n",
       "      <td>180</td>\n",
       "      <td>50</td>\n",
       "      <td>180</td>\n",
       "      <td>40</td>\n",
       "    </tr>\n",
       "    <tr>\n",
       "      <th>7</th>\n",
       "      <td>Joe Satriani</td>\n",
       "      <td>170</td>\n",
       "      <td>60</td>\n",
       "      <td>180</td>\n",
       "      <td>48</td>\n",
       "    </tr>\n",
       "    <tr>\n",
       "      <th>8</th>\n",
       "      <td>Andy James</td>\n",
       "      <td>170</td>\n",
       "      <td>60</td>\n",
       "      <td>180</td>\n",
       "      <td>18</td>\n",
       "    </tr>\n",
       "    <tr>\n",
       "      <th>9</th>\n",
       "      <td>Me</td>\n",
       "      <td>110</td>\n",
       "      <td>15</td>\n",
       "      <td>30</td>\n",
       "      <td>30</td>\n",
       "    </tr>\n",
       "    <tr>\n",
       "      <th>10</th>\n",
       "      <td>Pat Sheil</td>\n",
       "      <td>86</td>\n",
       "      <td>15</td>\n",
       "      <td>90</td>\n",
       "      <td>15</td>\n",
       "    </tr>\n",
       "    <tr>\n",
       "      <th>11</th>\n",
       "      <td>Aidan Conlon</td>\n",
       "      <td>144</td>\n",
       "      <td>20</td>\n",
       "      <td>120</td>\n",
       "      <td>26</td>\n",
       "    </tr>\n",
       "    <tr>\n",
       "      <th>12</th>\n",
       "      <td>Declan Collins</td>\n",
       "      <td>98</td>\n",
       "      <td>10</td>\n",
       "      <td>70</td>\n",
       "      <td>25</td>\n",
       "    </tr>\n",
       "    <tr>\n",
       "      <th>13</th>\n",
       "      <td>Adrian Connaire</td>\n",
       "      <td>90</td>\n",
       "      <td>10</td>\n",
       "      <td>60</td>\n",
       "      <td>34</td>\n",
       "    </tr>\n",
       "    <tr>\n",
       "      <th>14</th>\n",
       "      <td>Phillip Joyce</td>\n",
       "      <td>130</td>\n",
       "      <td>20</td>\n",
       "      <td>60</td>\n",
       "      <td>16</td>\n",
       "    </tr>\n",
       "    <tr>\n",
       "      <th>15</th>\n",
       "      <td>John McNamee</td>\n",
       "      <td>72</td>\n",
       "      <td>10</td>\n",
       "      <td>30</td>\n",
       "      <td>4</td>\n",
       "    </tr>\n",
       "    <tr>\n",
       "      <th>16</th>\n",
       "      <td>Michael Kelly</td>\n",
       "      <td>98</td>\n",
       "      <td>10</td>\n",
       "      <td>30</td>\n",
       "      <td>7</td>\n",
       "    </tr>\n",
       "    <tr>\n",
       "      <th>17</th>\n",
       "      <td>Sean Dunne</td>\n",
       "      <td>80</td>\n",
       "      <td>10</td>\n",
       "      <td>45</td>\n",
       "      <td>8</td>\n",
       "    </tr>\n",
       "    <tr>\n",
       "      <th>18</th>\n",
       "      <td>Glenn Burke</td>\n",
       "      <td>140</td>\n",
       "      <td>15</td>\n",
       "      <td>60</td>\n",
       "      <td>20</td>\n",
       "    </tr>\n",
       "    <tr>\n",
       "      <th>19</th>\n",
       "      <td>Nick Morahan</td>\n",
       "      <td>138</td>\n",
       "      <td>30</td>\n",
       "      <td>70</td>\n",
       "      <td>8</td>\n",
       "    </tr>\n",
       "  </tbody>\n",
       "</table>\n",
       "</div>"
      ],
      "text/plain": [
       "            Players  BPM  Technical Practice  Daily Practice  Years\n",
       "0     Guthrie Govan  200                  90             300     43\n",
       "1         Steve Vai  200                  90             600     45\n",
       "2        Jess Lewis  160                  50             240     10\n",
       "3         Al Joseph  180                  60             300     10\n",
       "4     Martin Miller  200                  60             300      8\n",
       "5       Jake Wilson  160                  50             300      9\n",
       "6   Jennifer Batten  180                  50             180     40\n",
       "7      Joe Satriani  170                  60             180     48\n",
       "8        Andy James  170                  60             180     18\n",
       "9                Me  110                  15              30     30\n",
       "10        Pat Sheil   86                  15              90     15\n",
       "11     Aidan Conlon  144                  20             120     26\n",
       "12   Declan Collins   98                  10              70     25\n",
       "13  Adrian Connaire   90                  10              60     34\n",
       "14    Phillip Joyce  130                  20              60     16\n",
       "15     John McNamee   72                  10              30      4\n",
       "16    Michael Kelly   98                  10              30      7\n",
       "17       Sean Dunne   80                  10              45      8\n",
       "18      Glenn Burke  140                  15              60     20\n",
       "19     Nick Morahan  138                  30              70      8"
      ]
     },
     "execution_count": 9,
     "metadata": {},
     "output_type": "execute_result"
    }
   ],
   "source": [
    "# Displaying the 'baseline' DataFrame.\n",
    "baseline"
   ]
  },
  {
   "cell_type": "code",
   "execution_count": 10,
   "metadata": {},
   "outputs": [
    {
     "data": {
      "text/html": [
       "<div>\n",
       "<style scoped>\n",
       "    .dataframe tbody tr th:only-of-type {\n",
       "        vertical-align: middle;\n",
       "    }\n",
       "\n",
       "    .dataframe tbody tr th {\n",
       "        vertical-align: top;\n",
       "    }\n",
       "\n",
       "    .dataframe thead th {\n",
       "        text-align: right;\n",
       "    }\n",
       "</style>\n",
       "<table border=\"1\" class=\"dataframe\">\n",
       "  <thead>\n",
       "    <tr style=\"text-align: right;\">\n",
       "      <th></th>\n",
       "      <th>BPM</th>\n",
       "      <th>Technical Practice</th>\n",
       "      <th>Daily Practice</th>\n",
       "      <th>Years</th>\n",
       "    </tr>\n",
       "  </thead>\n",
       "  <tbody>\n",
       "    <tr>\n",
       "      <th>count</th>\n",
       "      <td>20.000000</td>\n",
       "      <td>20.00000</td>\n",
       "      <td>20.000000</td>\n",
       "      <td>20.000000</td>\n",
       "    </tr>\n",
       "    <tr>\n",
       "      <th>mean</th>\n",
       "      <td>140.300000</td>\n",
       "      <td>36.75000</td>\n",
       "      <td>162.250000</td>\n",
       "      <td>21.200000</td>\n",
       "    </tr>\n",
       "    <tr>\n",
       "      <th>std</th>\n",
       "      <td>42.788464</td>\n",
       "      <td>27.10967</td>\n",
       "      <td>144.390507</td>\n",
       "      <td>14.307157</td>\n",
       "    </tr>\n",
       "    <tr>\n",
       "      <th>min</th>\n",
       "      <td>72.000000</td>\n",
       "      <td>10.00000</td>\n",
       "      <td>30.000000</td>\n",
       "      <td>4.000000</td>\n",
       "    </tr>\n",
       "    <tr>\n",
       "      <th>25%</th>\n",
       "      <td>98.000000</td>\n",
       "      <td>13.75000</td>\n",
       "      <td>60.000000</td>\n",
       "      <td>8.750000</td>\n",
       "    </tr>\n",
       "    <tr>\n",
       "      <th>50%</th>\n",
       "      <td>142.000000</td>\n",
       "      <td>25.00000</td>\n",
       "      <td>105.000000</td>\n",
       "      <td>17.000000</td>\n",
       "    </tr>\n",
       "    <tr>\n",
       "      <th>75%</th>\n",
       "      <td>172.500000</td>\n",
       "      <td>60.00000</td>\n",
       "      <td>255.000000</td>\n",
       "      <td>31.000000</td>\n",
       "    </tr>\n",
       "    <tr>\n",
       "      <th>max</th>\n",
       "      <td>200.000000</td>\n",
       "      <td>90.00000</td>\n",
       "      <td>600.000000</td>\n",
       "      <td>48.000000</td>\n",
       "    </tr>\n",
       "  </tbody>\n",
       "</table>\n",
       "</div>"
      ],
      "text/plain": [
       "              BPM  Technical Practice  Daily Practice      Years\n",
       "count   20.000000            20.00000       20.000000  20.000000\n",
       "mean   140.300000            36.75000      162.250000  21.200000\n",
       "std     42.788464            27.10967      144.390507  14.307157\n",
       "min     72.000000            10.00000       30.000000   4.000000\n",
       "25%     98.000000            13.75000       60.000000   8.750000\n",
       "50%    142.000000            25.00000      105.000000  17.000000\n",
       "75%    172.500000            60.00000      255.000000  31.000000\n",
       "max    200.000000            90.00000      600.000000  48.000000"
      ]
     },
     "execution_count": 10,
     "metadata": {},
     "output_type": "execute_result"
    }
   ],
   "source": [
    "# Run the pandas command 'describe' on the 'baseline' DataFrame.\n",
    "baseline.describe()"
   ]
  },
  {
   "cell_type": "markdown",
   "metadata": {},
   "source": [
    "#### What is Correlation.\n",
    "The correlation is a statistical measure of the strength of the relationship between two variables. It determines the degree to which two or more random vaiables move in tandem. For example a movement in one variable is reciprocated by a movement, either positive or negative, in another variable then the two variables are said to be correlated (keydifferences.com,2018).\n",
    "\n",
    "Variables can have either a Positive Correlation or a Negative Correlation. When a positive change in one variable results in a positive change in a second variable they are said to be Positively Correlated. When a change in one variable results in a movement in the opposite direction of the other variable they are said to be Negatively Correlated. Correlation values are between +1 and -1. A correlation close to +1 indicates a strong positive relationship and a correlation close to -1 indicates a strong negative relationship (keydifferences.com,2018).   "
   ]
  },
  {
   "cell_type": "code",
   "execution_count": 11,
   "metadata": {},
   "outputs": [
    {
     "data": {
      "text/plain": [
       "0.9128778225354373"
      ]
     },
     "execution_count": 11,
     "metadata": {},
     "output_type": "execute_result"
    }
   ],
   "source": [
    "baseline['BPM'].corr(baseline['Technical Practice'])"
   ]
  },
  {
   "cell_type": "code",
   "execution_count": 12,
   "metadata": {},
   "outputs": [
    {
     "data": {
      "text/plain": [
       "0.7996348049300531"
      ]
     },
     "execution_count": 12,
     "metadata": {},
     "output_type": "execute_result"
    }
   ],
   "source": [
    "baseline['BPM'].corr(baseline['Daily Practice'])"
   ]
  },
  {
   "cell_type": "code",
   "execution_count": 13,
   "metadata": {},
   "outputs": [
    {
     "data": {
      "text/plain": [
       "0.3795573454091754"
      ]
     },
     "execution_count": 13,
     "metadata": {},
     "output_type": "execute_result"
    }
   ],
   "source": [
    "baseline['BPM'].corr(baseline['Years'])"
   ]
  },
  {
   "cell_type": "code",
   "execution_count": 14,
   "metadata": {},
   "outputs": [
    {
     "data": {
      "text/html": [
       "<div>\n",
       "<style scoped>\n",
       "    .dataframe tbody tr th:only-of-type {\n",
       "        vertical-align: middle;\n",
       "    }\n",
       "\n",
       "    .dataframe tbody tr th {\n",
       "        vertical-align: top;\n",
       "    }\n",
       "\n",
       "    .dataframe thead th {\n",
       "        text-align: right;\n",
       "    }\n",
       "</style>\n",
       "<table border=\"1\" class=\"dataframe\">\n",
       "  <thead>\n",
       "    <tr style=\"text-align: right;\">\n",
       "      <th></th>\n",
       "      <th>BPM</th>\n",
       "      <th>Technical Practice</th>\n",
       "      <th>Daily Practice</th>\n",
       "      <th>Years</th>\n",
       "    </tr>\n",
       "  </thead>\n",
       "  <tbody>\n",
       "    <tr>\n",
       "      <th>BPM</th>\n",
       "      <td>1.000000</td>\n",
       "      <td>0.912878</td>\n",
       "      <td>0.799635</td>\n",
       "      <td>0.379557</td>\n",
       "    </tr>\n",
       "    <tr>\n",
       "      <th>Technical Practice</th>\n",
       "      <td>0.912878</td>\n",
       "      <td>1.000000</td>\n",
       "      <td>0.888711</td>\n",
       "      <td>0.429208</td>\n",
       "    </tr>\n",
       "    <tr>\n",
       "      <th>Daily Practice</th>\n",
       "      <td>0.799635</td>\n",
       "      <td>0.888711</td>\n",
       "      <td>1.000000</td>\n",
       "      <td>0.337728</td>\n",
       "    </tr>\n",
       "    <tr>\n",
       "      <th>Years</th>\n",
       "      <td>0.379557</td>\n",
       "      <td>0.429208</td>\n",
       "      <td>0.337728</td>\n",
       "      <td>1.000000</td>\n",
       "    </tr>\n",
       "  </tbody>\n",
       "</table>\n",
       "</div>"
      ],
      "text/plain": [
       "                         BPM  Technical Practice  Daily Practice     Years\n",
       "BPM                 1.000000            0.912878        0.799635  0.379557\n",
       "Technical Practice  0.912878            1.000000        0.888711  0.429208\n",
       "Daily Practice      0.799635            0.888711        1.000000  0.337728\n",
       "Years               0.379557            0.429208        0.337728  1.000000"
      ]
     },
     "execution_count": 14,
     "metadata": {},
     "output_type": "execute_result"
    }
   ],
   "source": [
    "baseline.corr()"
   ]
  },
  {
   "cell_type": "markdown",
   "metadata": {},
   "source": [
    "#### What is Covariance.\n",
    "The covariance is a statistical measure of a systematic relationship between two variables. A change in one variable is reciprocated by an equivalent change in the other variable. It ascertains the linear relationship between the variables. The covariance can be either positive or negative. Where the covariance is 0 there is no relationsip between the variables (keydifferences.com,2018). Closely related to covariance is correlation."
   ]
  },
  {
   "cell_type": "code",
   "execution_count": 15,
   "metadata": {},
   "outputs": [
    {
     "data": {
      "text/plain": [
       "1058.921052631579"
      ]
     },
     "execution_count": 15,
     "metadata": {},
     "output_type": "execute_result"
    }
   ],
   "source": [
    "baseline['BPM'].cov(baseline['Technical Practice'])"
   ]
  },
  {
   "cell_type": "code",
   "execution_count": 16,
   "metadata": {},
   "outputs": [
    {
     "data": {
      "text/plain": [
       "4940.3421052631575"
      ]
     },
     "execution_count": 16,
     "metadata": {},
     "output_type": "execute_result"
    }
   ],
   "source": [
    "baseline['BPM'].cov(baseline['Daily Practice'])"
   ]
  },
  {
   "cell_type": "code",
   "execution_count": 17,
   "metadata": {},
   "outputs": [
    {
     "data": {
      "text/plain": [
       "232.3578947368421"
      ]
     },
     "execution_count": 17,
     "metadata": {},
     "output_type": "execute_result"
    }
   ],
   "source": [
    "baseline['BPM'].cov(baseline['Years'])"
   ]
  },
  {
   "cell_type": "code",
   "execution_count": 18,
   "metadata": {},
   "outputs": [
    {
     "data": {
      "text/html": [
       "<div>\n",
       "<style scoped>\n",
       "    .dataframe tbody tr th:only-of-type {\n",
       "        vertical-align: middle;\n",
       "    }\n",
       "\n",
       "    .dataframe tbody tr th {\n",
       "        vertical-align: top;\n",
       "    }\n",
       "\n",
       "    .dataframe thead th {\n",
       "        text-align: right;\n",
       "    }\n",
       "</style>\n",
       "<table border=\"1\" class=\"dataframe\">\n",
       "  <thead>\n",
       "    <tr style=\"text-align: right;\">\n",
       "      <th></th>\n",
       "      <th>BPM</th>\n",
       "      <th>Technical Practice</th>\n",
       "      <th>Daily Practice</th>\n",
       "      <th>Years</th>\n",
       "    </tr>\n",
       "  </thead>\n",
       "  <tbody>\n",
       "    <tr>\n",
       "      <th>BPM</th>\n",
       "      <td>1830.852632</td>\n",
       "      <td>1058.921053</td>\n",
       "      <td>4940.342105</td>\n",
       "      <td>232.357895</td>\n",
       "    </tr>\n",
       "    <tr>\n",
       "      <th>Technical Practice</th>\n",
       "      <td>1058.921053</td>\n",
       "      <td>734.934211</td>\n",
       "      <td>3478.750000</td>\n",
       "      <td>166.473684</td>\n",
       "    </tr>\n",
       "    <tr>\n",
       "      <th>Daily Practice</th>\n",
       "      <td>4940.342105</td>\n",
       "      <td>3478.750000</td>\n",
       "      <td>20848.618421</td>\n",
       "      <td>697.684211</td>\n",
       "    </tr>\n",
       "    <tr>\n",
       "      <th>Years</th>\n",
       "      <td>232.357895</td>\n",
       "      <td>166.473684</td>\n",
       "      <td>697.684211</td>\n",
       "      <td>204.694737</td>\n",
       "    </tr>\n",
       "  </tbody>\n",
       "</table>\n",
       "</div>"
      ],
      "text/plain": [
       "                            BPM  Technical Practice  Daily Practice  \\\n",
       "BPM                 1830.852632         1058.921053     4940.342105   \n",
       "Technical Practice  1058.921053          734.934211     3478.750000   \n",
       "Daily Practice      4940.342105         3478.750000    20848.618421   \n",
       "Years                232.357895          166.473684      697.684211   \n",
       "\n",
       "                         Years  \n",
       "BPM                 232.357895  \n",
       "Technical Practice  166.473684  \n",
       "Daily Practice      697.684211  \n",
       "Years               204.694737  "
      ]
     },
     "execution_count": 18,
     "metadata": {},
     "output_type": "execute_result"
    }
   ],
   "source": [
    "baseline.cov()"
   ]
  },
  {
   "cell_type": "code",
   "execution_count": null,
   "metadata": {},
   "outputs": [],
   "source": []
  },
  {
   "cell_type": "code",
   "execution_count": 132,
   "metadata": {},
   "outputs": [
    {
     "name": "stderr",
     "output_type": "stream",
     "text": [
      "/Applications/anaconda3/lib/python3.7/site-packages/ipykernel_launcher.py:16: RuntimeWarning: covariance is not symmetric positive-semidefinite.\n",
      "  app.launch_new_instance()\n"
     ]
    },
    {
     "data": {
      "text/plain": [
       "array([[ 63.89885896,   4.03507329,  42.21320833,   3.13455185],\n",
       "       [108.62741696,  45.86343389, 279.19825581,  30.08985592],\n",
       "       [163.34066816,  76.99352692, 395.06604996,  24.81721333],\n",
       "       [139.49923059,  51.73171093, 375.00818057,  33.48729382],\n",
       "       [151.22907676,  87.23897829, 498.06505711,  37.63484576],\n",
       "       [116.82801699,  16.37039074, 216.28626422,  18.44386717],\n",
       "       [106.02761203,   8.95386415, 158.8746077 ,  16.01099092],\n",
       "       [153.83040546,  64.14885174, 314.64433622,  25.25513501],\n",
       "       [136.63816032,  45.83719793, 273.52493924,  41.94678183],\n",
       "       [150.52021599,  65.41029278, 464.26687619,  31.08036785]])"
      ]
     },
     "execution_count": 132,
     "metadata": {},
     "output_type": "execute_result"
    }
   ],
   "source": [
    "np.random.seed(80)\n",
    "\n",
    "a1 = np.array([72, 200])\n",
    "b1 = np.array([10, 90])\n",
    "c1 = np.array([30, 600])\n",
    "d1 = np.array([4, 48])\n",
    "\n",
    "means = [a1.mean(), b1.mean(), c1.mean(), d1.mean()]  \n",
    "stds = [42.788 / 3, 27.109 / 3, 144.390 / 3, 14.307 / 3]\n",
    "\n",
    "covs = ([[1830.852, 1058.921, 4940.342,  232.357],\n",
    "         [1085.921, 734.934,  3478.750,  166.473],\n",
    "         [4940.342, 3748.750, 20848.618, 697.684],\n",
    "         [232.357,  166.473,  697.684,   204.694]])\n",
    "\n",
    "m = np.random.multivariate_normal(means, covs, 10)\n",
    "m"
   ]
  },
  {
   "cell_type": "markdown",
   "metadata": {},
   "source": [
    "Add a graphic corr matrix. ideas here.\n",
    "https://stackoverflow.com/questions/29432629/correlation-matrix-using-pandas\n",
    "\n",
    "Idea for display\n",
    "http://benalexkeen.com/correlation-in-python/"
   ]
  },
  {
   "cell_type": "markdown",
   "metadata": {},
   "source": [
    "Add commentary on the correnaltion matrix, is this what I expected? \n",
    "\n",
    "This is the place for \"my thoughts\". "
   ]
  },
  {
   "cell_type": "markdown",
   "metadata": {},
   "source": [
    "### Mistake!\n",
    "One mistake I made when completing the DataFrame was outting the intergers into lists instead of Series. Using the list method like I did with the players names. When I tried to carry out any calculations on the DataFrame I kept getting errors. It took at lot of head scratching and trying diferent thing before I realised my mistake!!!"
   ]
  },
  {
   "cell_type": "markdown",
   "metadata": {},
   "source": [
    "# 3. Synthesise a data set.\n",
    "Synthesise / simulate a date set as closely matching their properties as possible."
   ]
  },
  {
   "cell_type": "markdown",
   "metadata": {},
   "source": [
    "#### Names\n",
    "Started by faking up 250 names, I didn't need to add in hte names but I felt it added an air of authenticity to the data set. For the first names I used 50 male and 50 female names, in the spirit of equality!"
   ]
  },
  {
   "cell_type": "code",
   "execution_count": 19,
   "metadata": {},
   "outputs": [],
   "source": [
    "# Created two lists. One of first names and one of second names. There are 100 names in each list.\n",
    "first_names = ['John', 'Mary', 'James', 'Patricia', 'Robert', 'Jennifer', 'Michael', 'Linda', 'William', \n",
    "               'Elizabeth', 'David', 'Barbara', 'Richard', 'Susan', 'Joseph', 'Jessica', 'Thomas', 'Sarah', \n",
    "               'Charles', 'Margaret', 'Christopher', 'Karen', 'Daniel', 'Nancy', 'Matthew', 'Lisa', 'Anthony',\n",
    "               'Betty', 'Donald', 'Dorothy', 'Mark', 'Sandra', 'Paul', 'Ashley', 'Steven', 'Kimberly', 'Andrew', \n",
    "               'Donna', 'Kenneth', 'Emily', 'George', 'Carol', 'Joshua', 'Michelle', 'Kevin', 'Amanda', 'Brian', \n",
    "               'Melissa', 'Edward', 'Deborah', 'Ronald', 'Stephanie', 'Timothy', 'Rebecca', 'Jason', 'Laura', \n",
    "               'Jeffrey', 'Helen', 'Ryan', 'Sharon', 'Jacob', 'Cynthia', 'Gary', 'Kathleen', 'Nicholas', 'Amy', \n",
    "               'Eric', 'Shirley', 'Stephen', 'Angela', 'Jonathan', 'Anna', 'Larry', 'Ruth', 'Justin', 'Brenda', \n",
    "               'Scott', 'Pamela', 'Brandon', 'Nicole', 'Frank', 'Katherine', 'Benjamin', 'Samantha', 'Gregory', \n",
    "               'Christine', 'Raymond', 'Catherine', 'Samuel', 'Virginia', 'Patrick', 'Debra', 'Alexander', 'Rachel',\n",
    "               'Jack', 'Janet', 'Dennis', 'Emma', 'Jerry', 'Carolyn']\n",
    "\n",
    "last_names = ['Smith', 'Jones', 'Taylor', 'Williams', 'Brown', 'Davies', 'Evans', 'Wilson', 'Thomas', 'Roberts', \n",
    "              'Johnson', 'Lewis', 'Walker', 'Robinson', 'Wood', 'Thompson', 'White', 'Watson', 'Jackson', 'Wright', \n",
    "              'Green', 'Harris', 'Cooper', 'King', 'Lee', 'Martin', 'Clarke', 'James', 'Morgan', 'Hughes', 'Edwards', \n",
    "              'Hill', 'Moore', 'Clark', 'Harrison', 'Bailey', 'Parker', 'Miller', 'Davis', 'Murphy', 'Price', 'Bell', \n",
    "              'Baker', 'Griffiths', 'Kelly', 'Simpson', 'Marshall', 'Collins', 'Bennett', 'Cox', 'Richardson', 'Fox', \n",
    "              'Gray', 'Rose', 'Chapman', 'Hunt', 'Robertson', 'Shaw', 'Reynolds', 'Lloyd', 'Ellis', 'Richards', \n",
    "              'Russell', 'Wilkinson', 'Khan', 'Graham', 'Stewart', 'Reid', 'Murray', 'Powell', 'Scott', 'Young', \n",
    "              'Morris', 'Hall', 'Ward', 'Turner', 'Carter', 'Phillips', 'Mitchell', 'Patel', 'Adams', 'Campbell', \n",
    "              'Anderson', 'Allen', 'Cook', 'Palmer', 'Holmes', 'Rogers', 'Stevens', 'Walsh', 'Hunter', 'Thomson', \n",
    "              'Matthews', 'Owen', 'Mason', 'Knight', 'Kennedy', 'Butler', 'Saunders', 'Cole']"
   ]
  },
  {
   "cell_type": "code",
   "execution_count": 20,
   "metadata": {},
   "outputs": [],
   "source": [
    "# Creating a list of full names. Randomly selected first names and surnames are joined to make the full names. \n",
    "names = [] # An empty list called names. \n",
    "\n",
    "for i in range(250): # A 'for' loop. This will loop 250 times.\n",
    "    full_name=random.choice(first_names)+\" \"+random.choice(last_names) # Using random.choice to randomly select names from both lists. \n",
    "    names.append(full_name) # Appends the randomly generated full names to the emply list created earlier."
   ]
  },
  {
   "cell_type": "code",
   "execution_count": 21,
   "metadata": {},
   "outputs": [
    {
     "data": {
      "text/plain": [
       "['Dorothy Bennett',\n",
       " 'Christopher Chapman',\n",
       " 'David Murray',\n",
       " 'Michelle Baker',\n",
       " 'Lisa Gray',\n",
       " 'Ashley Campbell',\n",
       " 'Janet Lee',\n",
       " 'Jason Bailey',\n",
       " 'Emily Carter',\n",
       " 'Virginia White',\n",
       " 'Richard Stevens',\n",
       " 'Catherine Carter',\n",
       " 'Jacob Bailey',\n",
       " 'David Hunt',\n",
       " 'Nicholas Wilkinson',\n",
       " 'Frank Davies',\n",
       " 'Amanda Reid',\n",
       " 'Carolyn Turner',\n",
       " 'Joseph Bailey',\n",
       " 'Paul Lewis',\n",
       " 'Barbara Scott',\n",
       " 'Scott Matthews',\n",
       " 'Pamela Reynolds',\n",
       " 'Justin Lloyd',\n",
       " 'Brenda Price',\n",
       " 'Janet Wood',\n",
       " 'Kathleen Turner',\n",
       " 'Catherine Clarke',\n",
       " 'Paul Lewis',\n",
       " 'Ashley Cooper',\n",
       " 'Nancy Scott',\n",
       " 'Katherine Mitchell',\n",
       " 'Ashley Rogers',\n",
       " 'Patrick Hill',\n",
       " 'Samuel Turner',\n",
       " 'Robert Edwards',\n",
       " 'Karen Reid',\n",
       " 'Cynthia Campbell',\n",
       " 'David Khan',\n",
       " 'Jonathan Reid',\n",
       " 'George Reynolds',\n",
       " 'Sarah Parker',\n",
       " 'Jerry Palmer',\n",
       " 'Andrew Young',\n",
       " 'Samantha Taylor',\n",
       " 'Catherine Stewart',\n",
       " 'Katherine Lewis',\n",
       " 'Sarah Smith',\n",
       " 'Kevin Allen',\n",
       " 'Ryan Cook',\n",
       " 'Richard Hunt',\n",
       " 'Timothy Matthews',\n",
       " 'David Richardson',\n",
       " 'Dennis Richardson',\n",
       " 'Benjamin Carter',\n",
       " 'Sandra Davies',\n",
       " 'Samuel Griffiths',\n",
       " 'Catherine White',\n",
       " 'Janet Rose',\n",
       " 'Jack Walsh',\n",
       " 'Samantha Miller',\n",
       " 'Carolyn Knight',\n",
       " 'James Smith',\n",
       " 'Jerry King',\n",
       " 'Stephen Johnson',\n",
       " 'Cynthia Adams',\n",
       " 'Matthew Morgan',\n",
       " 'Gregory Rose',\n",
       " 'Jacob Ward',\n",
       " 'Frank Reid',\n",
       " 'Mark Hall',\n",
       " 'Margaret Wilson',\n",
       " 'Donald Bell',\n",
       " 'Shirley Wright',\n",
       " 'Nicole Phillips',\n",
       " 'Sarah Graham',\n",
       " 'Ruth Russell',\n",
       " 'Eric Lee',\n",
       " 'Jeffrey Harris',\n",
       " 'Stephanie Hughes',\n",
       " 'Alexander Morgan',\n",
       " 'James Parker',\n",
       " 'Timothy Fox',\n",
       " 'John Cox',\n",
       " 'Kathleen Adams',\n",
       " 'Jerry Edwards',\n",
       " 'Richard Wilkinson',\n",
       " 'Melissa Wright',\n",
       " 'Scott Robinson',\n",
       " 'Deborah White',\n",
       " 'Daniel Davies',\n",
       " 'Margaret Allen',\n",
       " 'David Adams',\n",
       " 'Steven Watson',\n",
       " 'Michael Campbell',\n",
       " 'Kevin Fox',\n",
       " 'Nancy Moore',\n",
       " 'Carolyn Shaw',\n",
       " 'Betty Wilson',\n",
       " 'Patricia Mason',\n",
       " 'Eric Clarke',\n",
       " 'Jennifer Hunter',\n",
       " 'Virginia Scott',\n",
       " 'Jason Smith',\n",
       " 'Mary Young',\n",
       " 'Ronald Hughes',\n",
       " 'Sharon Moore',\n",
       " 'Patricia Mason',\n",
       " 'Samantha Harrison',\n",
       " 'Jason Simpson',\n",
       " 'Timothy Mason',\n",
       " 'Helen Brown',\n",
       " 'Nicholas Campbell',\n",
       " 'Emma Collins',\n",
       " 'Jason Parker',\n",
       " 'Brenda Patel',\n",
       " 'Emily Robertson',\n",
       " 'Margaret Williams',\n",
       " 'Daniel Scott',\n",
       " 'Sharon Morris',\n",
       " 'David Walsh',\n",
       " 'Deborah Watson',\n",
       " 'Debra Harris',\n",
       " 'Timothy Powell',\n",
       " 'Nicholas Roberts',\n",
       " 'George Simpson',\n",
       " 'Richard Rose',\n",
       " 'Virginia Stewart',\n",
       " 'Raymond Bailey',\n",
       " 'Samuel Miller',\n",
       " 'Mark Davis',\n",
       " 'Nancy Edwards',\n",
       " 'Kimberly Adams',\n",
       " 'Brandon Richardson',\n",
       " 'Frank Hall',\n",
       " 'Anthony Rose',\n",
       " 'Jessica Anderson',\n",
       " 'Samuel James',\n",
       " 'Ashley Cole',\n",
       " 'Betty Morgan',\n",
       " 'Daniel Griffiths',\n",
       " 'Robert Brown',\n",
       " 'Jessica Bell',\n",
       " 'Christopher Murphy',\n",
       " 'Carolyn Davies',\n",
       " 'Michael Hunter',\n",
       " 'Gregory Rose',\n",
       " 'Jacob Morgan',\n",
       " 'Thomas Evans',\n",
       " 'Gregory Clark',\n",
       " 'Nancy Saunders',\n",
       " 'Michelle Harrison',\n",
       " 'Amy Butler',\n",
       " 'Paul Jones',\n",
       " 'Kathleen Hunt',\n",
       " 'Amy Rose',\n",
       " 'Mary Bell',\n",
       " 'Paul Thompson',\n",
       " 'Jerry Simpson',\n",
       " 'Nicole Stewart',\n",
       " 'Carol Mason',\n",
       " 'Mary Patel',\n",
       " 'Emma Butler',\n",
       " 'Scott Parker',\n",
       " 'Emily Price',\n",
       " 'Gregory James',\n",
       " 'Andrew Turner',\n",
       " 'Rachel Turner',\n",
       " 'Emma Richards',\n",
       " 'William Harris',\n",
       " 'Helen Thompson',\n",
       " 'Thomas Cooper',\n",
       " 'Debra Morris',\n",
       " 'Janet Harrison',\n",
       " 'Mark Stevens',\n",
       " 'Robert Hughes',\n",
       " 'Emma Powell',\n",
       " 'Jason Young',\n",
       " 'Cynthia Simpson',\n",
       " 'Cynthia Knight',\n",
       " 'Amy Murray',\n",
       " 'Kenneth Griffiths',\n",
       " 'Margaret Morgan',\n",
       " 'Sarah Palmer',\n",
       " 'Benjamin Roberts',\n",
       " 'Patrick Stewart',\n",
       " 'Shirley Robertson',\n",
       " 'Jerry Cook',\n",
       " 'Pamela Matthews',\n",
       " 'Mark Graham',\n",
       " 'Raymond Walsh',\n",
       " 'Nancy Martin',\n",
       " 'Stephen Adams',\n",
       " 'Stephen Hunt',\n",
       " 'Alexander Holmes',\n",
       " 'Katherine Bailey',\n",
       " 'Emma Owen',\n",
       " 'Alexander Parker',\n",
       " 'Gregory Bell',\n",
       " 'Charles Bennett',\n",
       " 'Pamela Anderson',\n",
       " 'Kimberly White',\n",
       " 'Margaret White',\n",
       " 'Katherine Lloyd',\n",
       " 'Timothy Jackson',\n",
       " 'Dorothy Williams',\n",
       " 'Scott Johnson',\n",
       " 'William Mitchell',\n",
       " 'John Stevens',\n",
       " 'Laura Saunders',\n",
       " 'Janet White',\n",
       " 'James Holmes',\n",
       " 'Jack Robertson',\n",
       " 'Anthony Robinson',\n",
       " 'Kenneth Ward',\n",
       " 'Cynthia Moore',\n",
       " 'Jacob Smith',\n",
       " 'Larry Matthews',\n",
       " 'Alexander Jones',\n",
       " 'Anthony Thomas',\n",
       " 'Lisa Reid',\n",
       " 'Barbara Allen',\n",
       " 'Christine Williams',\n",
       " 'Joshua Bell',\n",
       " 'Raymond Wilson',\n",
       " 'Sharon Carter',\n",
       " 'Nancy Khan',\n",
       " 'Jennifer Walker',\n",
       " 'Kimberly Cole',\n",
       " 'Stephen Knight',\n",
       " 'Stephanie Reynolds',\n",
       " 'Ashley Patel',\n",
       " 'Katherine Collins',\n",
       " 'Nicholas Jones',\n",
       " 'Jessica Mason',\n",
       " 'George Wilkinson',\n",
       " 'Emily Roberts',\n",
       " 'Brenda Powell',\n",
       " 'Timothy Edwards',\n",
       " 'Kenneth Bailey',\n",
       " 'Sarah Chapman',\n",
       " 'Frank Simpson',\n",
       " 'Jack Martin',\n",
       " 'Stephanie Jones',\n",
       " 'Susan Cole',\n",
       " 'Stephanie Walker',\n",
       " 'Matthew Robertson',\n",
       " 'Michael Price',\n",
       " 'Sandra Young',\n",
       " 'Justin Jones']"
      ]
     },
     "execution_count": 21,
     "metadata": {},
     "output_type": "execute_result"
    }
   ],
   "source": [
    "names"
   ]
  },
  {
   "cell_type": "markdown",
   "metadata": {},
   "source": [
    "#### Beats Per Minute."
   ]
  },
  {
   "cell_type": "code",
   "execution_count": 22,
   "metadata": {},
   "outputs": [],
   "source": [
    "np.random.seed(80) # Set the seed for the random generator to provide reproducability.\n",
    "bpm1 = pd.Series([np.random.randint(80,170,size=250)])"
   ]
  },
  {
   "cell_type": "code",
   "execution_count": 23,
   "metadata": {},
   "outputs": [
    {
     "data": {
      "text/plain": [
       "1"
      ]
     },
     "execution_count": 23,
     "metadata": {},
     "output_type": "execute_result"
    }
   ],
   "source": [
    "len(bpm1)"
   ]
  },
  {
   "cell_type": "code",
   "execution_count": 24,
   "metadata": {},
   "outputs": [
    {
     "data": {
      "text/plain": [
       "0    [127, 140, 118, 163, 90, 130, 83, 166, 103, 95...\n",
       "dtype: object"
      ]
     },
     "execution_count": 24,
     "metadata": {},
     "output_type": "execute_result"
    }
   ],
   "source": [
    "bpm1"
   ]
  },
  {
   "cell_type": "code",
   "execution_count": 25,
   "metadata": {},
   "outputs": [
    {
     "data": {
      "text/plain": [
       "<function matplotlib.pyplot.show(*args, **kw)>"
      ]
     },
     "execution_count": 25,
     "metadata": {},
     "output_type": "execute_result"
    },
    {
     "data": {
      "image/png": "[encoded data removed]",
      "text/plain": [
       "<Figure size 432x288 with 1 Axes>"
      ]
     },
     "metadata": {
      "needs_background": "light"
     },
     "output_type": "display_data"
    }
   ],
   "source": [
    "plt.hist(bpm1)\n",
    "plt.show"
   ]
  },
  {
   "cell_type": "code",
   "execution_count": 102,
   "metadata": {},
   "outputs": [
    {
     "ename": "ValueError",
     "evalue": "setting an array element with a sequence.",
     "output_type": "error",
     "traceback": [
      "\u001b[0;31m---------------------------------------------------------------------------\u001b[0m",
      "\u001b[0;31mValueError\u001b[0m                                Traceback (most recent call last)",
      "\u001b[0;32m<ipython-input-102-ba9cccec9681>\u001b[0m in \u001b[0;36m<module>\u001b[0;34m()\u001b[0m\n\u001b[0;32m----> 1\u001b[0;31m \u001b[0mplt\u001b[0m\u001b[0;34m.\u001b[0m\u001b[0mplot\u001b[0m\u001b[0;34m(\u001b[0m\u001b[0mbpm1\u001b[0m\u001b[0;34m)\u001b[0m\u001b[0;34m\u001b[0m\u001b[0m\n\u001b[0m\u001b[1;32m      2\u001b[0m \u001b[0mplt\u001b[0m\u001b[0;34m.\u001b[0m\u001b[0maxis\u001b[0m\u001b[0;34m(\u001b[0m\u001b[0;34m[\u001b[0m\u001b[0;36m0\u001b[0m\u001b[0;34m,\u001b[0m \u001b[0;36m260\u001b[0m\u001b[0;34m,\u001b[0m \u001b[0;36m0\u001b[0m\u001b[0;34m,\u001b[0m \u001b[0;36m180\u001b[0m\u001b[0;34m]\u001b[0m\u001b[0;34m)\u001b[0m\u001b[0;34m\u001b[0m\u001b[0m\n\u001b[1;32m      3\u001b[0m \u001b[0mplt\u001b[0m\u001b[0;34m.\u001b[0m\u001b[0mshow\u001b[0m\u001b[0;34m\u001b[0m\u001b[0m\n",
      "\u001b[0;32m/Applications/anaconda3/lib/python3.7/site-packages/matplotlib/pyplot.py\u001b[0m in \u001b[0;36mplot\u001b[0;34m(*args, **kwargs)\u001b[0m\n\u001b[1;32m   3361\u001b[0m                       mplDeprecation)\n\u001b[1;32m   3362\u001b[0m     \u001b[0;32mtry\u001b[0m\u001b[0;34m:\u001b[0m\u001b[0;34m\u001b[0m\u001b[0m\n\u001b[0;32m-> 3363\u001b[0;31m         \u001b[0mret\u001b[0m \u001b[0;34m=\u001b[0m \u001b[0max\u001b[0m\u001b[0;34m.\u001b[0m\u001b[0mplot\u001b[0m\u001b[0;34m(\u001b[0m\u001b[0;34m*\u001b[0m\u001b[0margs\u001b[0m\u001b[0;34m,\u001b[0m \u001b[0;34m**\u001b[0m\u001b[0mkwargs\u001b[0m\u001b[0;34m)\u001b[0m\u001b[0;34m\u001b[0m\u001b[0m\n\u001b[0m\u001b[1;32m   3364\u001b[0m     \u001b[0;32mfinally\u001b[0m\u001b[0;34m:\u001b[0m\u001b[0;34m\u001b[0m\u001b[0m\n\u001b[1;32m   3365\u001b[0m         \u001b[0max\u001b[0m\u001b[0;34m.\u001b[0m\u001b[0m_hold\u001b[0m \u001b[0;34m=\u001b[0m \u001b[0mwashold\u001b[0m\u001b[0;34m\u001b[0m\u001b[0m\n",
      "\u001b[0;32m/Applications/anaconda3/lib/python3.7/site-packages/matplotlib/__init__.py\u001b[0m in \u001b[0;36minner\u001b[0;34m(ax, *args, **kwargs)\u001b[0m\n\u001b[1;32m   1865\u001b[0m                         \u001b[0;34m\"the Matplotlib list!)\"\u001b[0m \u001b[0;34m%\u001b[0m \u001b[0;34m(\u001b[0m\u001b[0mlabel_namer\u001b[0m\u001b[0;34m,\u001b[0m \u001b[0mfunc\u001b[0m\u001b[0;34m.\u001b[0m\u001b[0m__name__\u001b[0m\u001b[0;34m)\u001b[0m\u001b[0;34m,\u001b[0m\u001b[0;34m\u001b[0m\u001b[0m\n\u001b[1;32m   1866\u001b[0m                         RuntimeWarning, stacklevel=2)\n\u001b[0;32m-> 1867\u001b[0;31m             \u001b[0;32mreturn\u001b[0m \u001b[0mfunc\u001b[0m\u001b[0;34m(\u001b[0m\u001b[0max\u001b[0m\u001b[0;34m,\u001b[0m \u001b[0;34m*\u001b[0m\u001b[0margs\u001b[0m\u001b[0;34m,\u001b[0m \u001b[0;34m**\u001b[0m\u001b[0mkwargs\u001b[0m\u001b[0;34m)\u001b[0m\u001b[0;34m\u001b[0m\u001b[0m\n\u001b[0m\u001b[1;32m   1868\u001b[0m \u001b[0;34m\u001b[0m\u001b[0m\n\u001b[1;32m   1869\u001b[0m         inner.__doc__ = _add_data_doc(inner.__doc__,\n",
      "\u001b[0;32m/Applications/anaconda3/lib/python3.7/site-packages/matplotlib/axes/_axes.py\u001b[0m in \u001b[0;36mplot\u001b[0;34m(self, *args, **kwargs)\u001b[0m\n\u001b[1;32m   1527\u001b[0m \u001b[0;34m\u001b[0m\u001b[0m\n\u001b[1;32m   1528\u001b[0m         \u001b[0;32mfor\u001b[0m \u001b[0mline\u001b[0m \u001b[0;32min\u001b[0m \u001b[0mself\u001b[0m\u001b[0;34m.\u001b[0m\u001b[0m_get_lines\u001b[0m\u001b[0;34m(\u001b[0m\u001b[0;34m*\u001b[0m\u001b[0margs\u001b[0m\u001b[0;34m,\u001b[0m \u001b[0;34m**\u001b[0m\u001b[0mkwargs\u001b[0m\u001b[0;34m)\u001b[0m\u001b[0;34m:\u001b[0m\u001b[0;34m\u001b[0m\u001b[0m\n\u001b[0;32m-> 1529\u001b[0;31m             \u001b[0mself\u001b[0m\u001b[0;34m.\u001b[0m\u001b[0madd_line\u001b[0m\u001b[0;34m(\u001b[0m\u001b[0mline\u001b[0m\u001b[0;34m)\u001b[0m\u001b[0;34m\u001b[0m\u001b[0m\n\u001b[0m\u001b[1;32m   1530\u001b[0m             \u001b[0mlines\u001b[0m\u001b[0;34m.\u001b[0m\u001b[0mappend\u001b[0m\u001b[0;34m(\u001b[0m\u001b[0mline\u001b[0m\u001b[0;34m)\u001b[0m\u001b[0;34m\u001b[0m\u001b[0m\n\u001b[1;32m   1531\u001b[0m \u001b[0;34m\u001b[0m\u001b[0m\n",
      "\u001b[0;32m/Applications/anaconda3/lib/python3.7/site-packages/matplotlib/axes/_base.py\u001b[0m in \u001b[0;36madd_line\u001b[0;34m(self, line)\u001b[0m\n\u001b[1;32m   1958\u001b[0m             \u001b[0mline\u001b[0m\u001b[0;34m.\u001b[0m\u001b[0mset_clip_path\u001b[0m\u001b[0;34m(\u001b[0m\u001b[0mself\u001b[0m\u001b[0;34m.\u001b[0m\u001b[0mpatch\u001b[0m\u001b[0;34m)\u001b[0m\u001b[0;34m\u001b[0m\u001b[0m\n\u001b[1;32m   1959\u001b[0m \u001b[0;34m\u001b[0m\u001b[0m\n\u001b[0;32m-> 1960\u001b[0;31m         \u001b[0mself\u001b[0m\u001b[0;34m.\u001b[0m\u001b[0m_update_line_limits\u001b[0m\u001b[0;34m(\u001b[0m\u001b[0mline\u001b[0m\u001b[0;34m)\u001b[0m\u001b[0;34m\u001b[0m\u001b[0m\n\u001b[0m\u001b[1;32m   1961\u001b[0m         \u001b[0;32mif\u001b[0m \u001b[0;32mnot\u001b[0m \u001b[0mline\u001b[0m\u001b[0;34m.\u001b[0m\u001b[0mget_label\u001b[0m\u001b[0;34m(\u001b[0m\u001b[0;34m)\u001b[0m\u001b[0;34m:\u001b[0m\u001b[0;34m\u001b[0m\u001b[0m\n\u001b[1;32m   1962\u001b[0m             \u001b[0mline\u001b[0m\u001b[0;34m.\u001b[0m\u001b[0mset_label\u001b[0m\u001b[0;34m(\u001b[0m\u001b[0;34m'_line%d'\u001b[0m \u001b[0;34m%\u001b[0m \u001b[0mlen\u001b[0m\u001b[0;34m(\u001b[0m\u001b[0mself\u001b[0m\u001b[0;34m.\u001b[0m\u001b[0mlines\u001b[0m\u001b[0;34m)\u001b[0m\u001b[0;34m)\u001b[0m\u001b[0;34m\u001b[0m\u001b[0m\n",
      "\u001b[0;32m/Applications/anaconda3/lib/python3.7/site-packages/matplotlib/axes/_base.py\u001b[0m in \u001b[0;36m_update_line_limits\u001b[0;34m(self, line)\u001b[0m\n\u001b[1;32m   1980\u001b[0m         \u001b[0mFigures\u001b[0m \u001b[0mout\u001b[0m \u001b[0mthe\u001b[0m \u001b[0mdata\u001b[0m \u001b[0mlimit\u001b[0m \u001b[0mof\u001b[0m \u001b[0mthe\u001b[0m \u001b[0mgiven\u001b[0m \u001b[0mline\u001b[0m\u001b[0;34m,\u001b[0m \u001b[0mupdating\u001b[0m \u001b[0mself\u001b[0m\u001b[0;34m.\u001b[0m\u001b[0mdataLim\u001b[0m\u001b[0;34m.\u001b[0m\u001b[0;34m\u001b[0m\u001b[0m\n\u001b[1;32m   1981\u001b[0m         \"\"\"\n\u001b[0;32m-> 1982\u001b[0;31m         \u001b[0mpath\u001b[0m \u001b[0;34m=\u001b[0m \u001b[0mline\u001b[0m\u001b[0;34m.\u001b[0m\u001b[0mget_path\u001b[0m\u001b[0;34m(\u001b[0m\u001b[0;34m)\u001b[0m\u001b[0;34m\u001b[0m\u001b[0m\n\u001b[0m\u001b[1;32m   1983\u001b[0m         \u001b[0;32mif\u001b[0m \u001b[0mpath\u001b[0m\u001b[0;34m.\u001b[0m\u001b[0mvertices\u001b[0m\u001b[0;34m.\u001b[0m\u001b[0msize\u001b[0m \u001b[0;34m==\u001b[0m \u001b[0;36m0\u001b[0m\u001b[0;34m:\u001b[0m\u001b[0;34m\u001b[0m\u001b[0m\n\u001b[1;32m   1984\u001b[0m             \u001b[0;32mreturn\u001b[0m\u001b[0;34m\u001b[0m\u001b[0m\n",
      "\u001b[0;32m/Applications/anaconda3/lib/python3.7/site-packages/matplotlib/lines.py\u001b[0m in \u001b[0;36mget_path\u001b[0;34m(self)\u001b[0m\n\u001b[1;32m    954\u001b[0m         \"\"\"\n\u001b[1;32m    955\u001b[0m         \u001b[0;32mif\u001b[0m \u001b[0mself\u001b[0m\u001b[0;34m.\u001b[0m\u001b[0m_invalidy\u001b[0m \u001b[0;32mor\u001b[0m \u001b[0mself\u001b[0m\u001b[0;34m.\u001b[0m\u001b[0m_invalidx\u001b[0m\u001b[0;34m:\u001b[0m\u001b[0;34m\u001b[0m\u001b[0m\n\u001b[0;32m--> 956\u001b[0;31m             \u001b[0mself\u001b[0m\u001b[0;34m.\u001b[0m\u001b[0mrecache\u001b[0m\u001b[0;34m(\u001b[0m\u001b[0;34m)\u001b[0m\u001b[0;34m\u001b[0m\u001b[0m\n\u001b[0m\u001b[1;32m    957\u001b[0m         \u001b[0;32mreturn\u001b[0m \u001b[0mself\u001b[0m\u001b[0;34m.\u001b[0m\u001b[0m_path\u001b[0m\u001b[0;34m\u001b[0m\u001b[0m\n\u001b[1;32m    958\u001b[0m \u001b[0;34m\u001b[0m\u001b[0m\n",
      "\u001b[0;32m/Applications/anaconda3/lib/python3.7/site-packages/matplotlib/lines.py\u001b[0m in \u001b[0;36mrecache\u001b[0;34m(self, always)\u001b[0m\n\u001b[1;32m    655\u001b[0m         \u001b[0;32mif\u001b[0m \u001b[0malways\u001b[0m \u001b[0;32mor\u001b[0m \u001b[0mself\u001b[0m\u001b[0;34m.\u001b[0m\u001b[0m_invalidy\u001b[0m\u001b[0;34m:\u001b[0m\u001b[0;34m\u001b[0m\u001b[0m\n\u001b[1;32m    656\u001b[0m             \u001b[0myconv\u001b[0m \u001b[0;34m=\u001b[0m \u001b[0mself\u001b[0m\u001b[0;34m.\u001b[0m\u001b[0mconvert_yunits\u001b[0m\u001b[0;34m(\u001b[0m\u001b[0mself\u001b[0m\u001b[0;34m.\u001b[0m\u001b[0m_yorig\u001b[0m\u001b[0;34m)\u001b[0m\u001b[0;34m\u001b[0m\u001b[0m\n\u001b[0;32m--> 657\u001b[0;31m             \u001b[0my\u001b[0m \u001b[0;34m=\u001b[0m \u001b[0m_to_unmasked_float_array\u001b[0m\u001b[0;34m(\u001b[0m\u001b[0myconv\u001b[0m\u001b[0;34m)\u001b[0m\u001b[0;34m.\u001b[0m\u001b[0mravel\u001b[0m\u001b[0;34m(\u001b[0m\u001b[0;34m)\u001b[0m\u001b[0;34m\u001b[0m\u001b[0m\n\u001b[0m\u001b[1;32m    658\u001b[0m         \u001b[0;32melse\u001b[0m\u001b[0;34m:\u001b[0m\u001b[0;34m\u001b[0m\u001b[0m\n\u001b[1;32m    659\u001b[0m             \u001b[0my\u001b[0m \u001b[0;34m=\u001b[0m \u001b[0mself\u001b[0m\u001b[0;34m.\u001b[0m\u001b[0m_y\u001b[0m\u001b[0;34m\u001b[0m\u001b[0m\n",
      "\u001b[0;32m/Applications/anaconda3/lib/python3.7/site-packages/matplotlib/cbook/__init__.py\u001b[0m in \u001b[0;36m_to_unmasked_float_array\u001b[0;34m(x)\u001b[0m\n\u001b[1;32m   2050\u001b[0m         \u001b[0;32mreturn\u001b[0m \u001b[0mnp\u001b[0m\u001b[0;34m.\u001b[0m\u001b[0mma\u001b[0m\u001b[0;34m.\u001b[0m\u001b[0masarray\u001b[0m\u001b[0;34m(\u001b[0m\u001b[0mx\u001b[0m\u001b[0;34m,\u001b[0m \u001b[0mfloat\u001b[0m\u001b[0;34m)\u001b[0m\u001b[0;34m.\u001b[0m\u001b[0mfilled\u001b[0m\u001b[0;34m(\u001b[0m\u001b[0mnp\u001b[0m\u001b[0;34m.\u001b[0m\u001b[0mnan\u001b[0m\u001b[0;34m)\u001b[0m\u001b[0;34m\u001b[0m\u001b[0m\n\u001b[1;32m   2051\u001b[0m     \u001b[0;32melse\u001b[0m\u001b[0;34m:\u001b[0m\u001b[0;34m\u001b[0m\u001b[0m\n\u001b[0;32m-> 2052\u001b[0;31m         \u001b[0;32mreturn\u001b[0m \u001b[0mnp\u001b[0m\u001b[0;34m.\u001b[0m\u001b[0masarray\u001b[0m\u001b[0;34m(\u001b[0m\u001b[0mx\u001b[0m\u001b[0;34m,\u001b[0m \u001b[0mfloat\u001b[0m\u001b[0;34m)\u001b[0m\u001b[0;34m\u001b[0m\u001b[0m\n\u001b[0m\u001b[1;32m   2053\u001b[0m \u001b[0;34m\u001b[0m\u001b[0m\n\u001b[1;32m   2054\u001b[0m \u001b[0;34m\u001b[0m\u001b[0m\n",
      "\u001b[0;32m/Applications/anaconda3/lib/python3.7/site-packages/numpy/core/numeric.py\u001b[0m in \u001b[0;36masarray\u001b[0;34m(a, dtype, order)\u001b[0m\n\u001b[1;32m    499\u001b[0m \u001b[0;34m\u001b[0m\u001b[0m\n\u001b[1;32m    500\u001b[0m     \"\"\"\n\u001b[0;32m--> 501\u001b[0;31m     \u001b[0;32mreturn\u001b[0m \u001b[0marray\u001b[0m\u001b[0;34m(\u001b[0m\u001b[0ma\u001b[0m\u001b[0;34m,\u001b[0m \u001b[0mdtype\u001b[0m\u001b[0;34m,\u001b[0m \u001b[0mcopy\u001b[0m\u001b[0;34m=\u001b[0m\u001b[0;32mFalse\u001b[0m\u001b[0;34m,\u001b[0m \u001b[0morder\u001b[0m\u001b[0;34m=\u001b[0m\u001b[0morder\u001b[0m\u001b[0;34m)\u001b[0m\u001b[0;34m\u001b[0m\u001b[0m\n\u001b[0m\u001b[1;32m    502\u001b[0m \u001b[0;34m\u001b[0m\u001b[0m\n\u001b[1;32m    503\u001b[0m \u001b[0;34m\u001b[0m\u001b[0m\n",
      "\u001b[0;31mValueError\u001b[0m: setting an array element with a sequence."
     ]
    },
    {
     "data": {
      "image/png": "[encoded data removed]",
      "text/plain": [
       "<Figure size 432x288 with 1 Axes>"
      ]
     },
     "metadata": {
      "needs_background": "light"
     },
     "output_type": "display_data"
    }
   ],
   "source": [
    "plt.plot(bpm1)\n",
    "plt.axis([0, 260, 0, 180])\n",
    "plt.show"
   ]
  },
  {
   "cell_type": "code",
   "execution_count": null,
   "metadata": {},
   "outputs": [],
   "source": [
    "mu, sigma = 122.5, 25.13 # mean and standard deviation\n",
    "s = np.random.normal(mu, sigma, 250)"
   ]
  },
  {
   "cell_type": "code",
   "execution_count": null,
   "metadata": {},
   "outputs": [],
   "source": [
    "plt.plot(s)\n",
    "plt.show"
   ]
  },
  {
   "cell_type": "code",
   "execution_count": null,
   "metadata": {},
   "outputs": [],
   "source": [
    "np.mean(bpm1)"
   ]
  },
  {
   "cell_type": "code",
   "execution_count": null,
   "metadata": {},
   "outputs": [],
   "source": [
    "np.std(bpm1)"
   ]
  },
  {
   "cell_type": "code",
   "execution_count": null,
   "metadata": {},
   "outputs": [],
   "source": [
    "guit = {'Names':names, 'BPM':bpm1}"
   ]
  },
  {
   "cell_type": "code",
   "execution_count": null,
   "metadata": {},
   "outputs": [],
   "source": [
    "df5 = pd.DataFrame(guit)"
   ]
  },
  {
   "cell_type": "code",
   "execution_count": null,
   "metadata": {},
   "outputs": [],
   "source": [
    "df5"
   ]
  },
  {
   "cell_type": "markdown",
   "metadata": {},
   "source": [
    "## Data Frame."
   ]
  },
  {
   "cell_type": "markdown",
   "metadata": {},
   "source": [
    "# 4. Detail my research.\n",
    "Detail my research and implement the simulation in a Jupyter Notebook - the data itself can simply be displayed in an output cell within the notebook."
   ]
  },
  {
   "cell_type": "markdown",
   "metadata": {},
   "source": [
    "### Reflection & Lessons.\n",
    "Had some trouble creating the dataframe. Getting lists into it as well as joining or merging took some trial and error.\n",
    "\n",
    "Distribution of bpm, normal didn't look right. tried s different one to skew the bpm results."
   ]
  },
  {
   "cell_type": "markdown",
   "metadata": {},
   "source": [
    "# Notes.\n",
    "Cognitive bias - have I introduced bias into the data? How would I know? Will that make a difference to the data or the results?\n",
    "\n",
    "Can I use SK Learn?\n"
   ]
  },
  {
   "cell_type": "markdown",
   "metadata": {},
   "source": [
    "# References.\n",
    "\n",
    "Source for the list of first names. \n",
    "https://www.ssa.gov/oact/babynames/decades/century.html\n",
    "\n",
    "Source for the list of surnames.\n",
    "https://surname.sofeminine.co.uk/w/surnames/most-common-surnames-in-great-britain.html\n",
    "\n",
    "keydifferences.com https://keydifferences.com/difference-between-covariance-and-correlation.html\n",
    "\n",
    "Creating df from lists.\n",
    "https://cmdlinetips.com/2018/01/how-to-create-pandas-dataframe-from-multiple-lists/\n",
    "\n",
    "Generating randon correlated variables.\n",
    "https://stackoverflow.com/questions/18683821/generating-random-correlated-x-and-y-points-using-numpy\n",
    "\n",
    "I used the documentation for all of the libraries several times during this project. Too many to list individually, or else the reference section would be longer than my project. By way of acknowledgement I have provided links to the documentation pages for the libraries I used. \n",
    "\n",
    "matplotlib.org https://matplotlib.org/index.html\n",
    "\n",
    "numpy.org http://www.numpy.org\n",
    "\n",
    "pandas\n",
    "\n",
    "\n"
   ]
  },
  {
   "cell_type": "markdown",
   "metadata": {},
   "source": [
    "## END"
   ]
  },
  {
   "cell_type": "code",
   "execution_count": null,
   "metadata": {},
   "outputs": [],
   "source": []
  }
 ],
 "metadata": {
  "kernelspec": {
   "display_name": "Python 3",
   "language": "python",
   "name": "python3"
  },
  "language_info": {
   "codemirror_mode": {
    "name": "ipython",
    "version": 3
   },
   "file_extension": ".py",
   "mimetype": "text/x-python",
   "name": "python",
   "nbconvert_exporter": "python",
   "pygments_lexer": "ipython3",
   "version": "3.7.0"
  }
 },
 "nbformat": 4,
 "nbformat_minor": 2
}
