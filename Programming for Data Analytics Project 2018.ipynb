{
 "cells": [
  {
   "cell_type": "markdown",
   "metadata": {},
   "source": [
    "# Programming for Data Analysis Project 2018."
   ]
  },
  {
   "cell_type": "markdown",
   "metadata": {},
   "source": [
    "# Introduction."
   ]
  },
  {
   "cell_type": "markdown",
   "metadata": {},
   "source": [
    "### Importing Libraries."
   ]
  },
  {
   "cell_type": "code",
   "execution_count": 1,
   "metadata": {},
   "outputs": [],
   "source": [
    "import numpy as np\n",
    "import pandas as pd\n",
    "import matplotlib.pyplot as plt\n",
    "import random"
   ]
  },
  {
   "cell_type": "markdown",
   "metadata": {
    "collapsed": true
   },
   "source": [
    "# 1. Choose a phenomenon.\n",
    "Choose a real world phenomenon that can be measured and for which you could collect at least one-hundred data points across at least four different variables."
   ]
  },
  {
   "cell_type": "markdown",
   "metadata": {},
   "source": [
    "### 1.1 What  & Why? "
   ]
  },
  {
   "cell_type": "markdown",
   "metadata": {},
   "source": [
    "### 1.2 The use of evidence."
   ]
  },
  {
   "cell_type": "markdown",
   "metadata": {
    "collapsed": true
   },
   "source": [
    "# 2. Investigation of variables.\n",
    "Investigate the types of variables involved, their likely distribution and their relationship with each other."
   ]
  },
  {
   "cell_type": "markdown",
   "metadata": {},
   "source": [
    "### 2.1 Beats Per MInute.\n",
    "The speed a player can play 16th notes.\n",
    "\n",
    "This variable is a non negative number. "
   ]
  },
  {
   "cell_type": "markdown",
   "metadata": {},
   "source": [
    "### 2.2 Average Daily Practice Time.\n",
    "The average time spent per day practicing the instrument.\n",
    "\n",
    "Variable is time in minutes and is a non negative number."
   ]
  },
  {
   "cell_type": "markdown",
   "metadata": {},
   "source": [
    "### 2.3 Technical Practice.\n",
    "How much time (in minutes) do players spend on focused technical practice only.\n",
    "\n",
    "Variable in time. A non negative number, in minutes.\n",
    "The is a high correlation between this variable and BPM."
   ]
  },
  {
   "cell_type": "markdown",
   "metadata": {},
   "source": [
    "### 2.4 Length of Time Playing.\n",
    "Number of years playing.\n",
    "Variable is a non negative number in years."
   ]
  },
  {
   "cell_type": "markdown",
   "metadata": {},
   "source": [
    "### 2.5 The Sample Dataset. "
   ]
  },
  {
   "cell_type": "code",
   "execution_count": 13,
   "metadata": {},
   "outputs": [],
   "source": [
    "player = ['Guthrie Govan', 'Steve Vai', 'Jess Lewis', 'Al Joseph', 'Martin Miller', 'Jake Wilson', 'Jennifer Batten'\n",
    "          ,'Joe Satriani', 'Andy James', 'Me', 'Pat Sheil', 'Aidan Conlon', 'Declan Collins', 'Adrian Connaire', \n",
    "          'Phillip Joyce', 'John McNamee', 'Michael Kelly', 'Sean Dunne', 'Glenn Burke', 'Nick Morahan']"
   ]
  },
  {
   "cell_type": "code",
   "execution_count": 14,
   "metadata": {},
   "outputs": [],
   "source": [
    "bpmp = ['200', '200', '160', '180', '200', '160', '180'\n",
    "       , '170', '170', '110', '86', '144', '98', '90', '130'\n",
    "       , '72', '98', '80', '140', '138']"
   ]
  },
  {
   "cell_type": "code",
   "execution_count": 15,
   "metadata": {},
   "outputs": [],
   "source": [
    "tp = ['90', '90', '50', '60', '60', '50', '50', '60', '60'\n",
    "     , '15', '15', '20', '10', '10', '20', '10', '10', '10'\n",
    "     , '15', '30']"
   ]
  },
  {
   "cell_type": "code",
   "execution_count": 16,
   "metadata": {},
   "outputs": [],
   "source": [
    "daily = ['300', '600', '240', '300', '300', '300', '180'\n",
    "        , '180', '180', '30', '90', '120', '70'\n",
    "        , '60', '60', '30', '30', '45', '60', '70']"
   ]
  },
  {
   "cell_type": "code",
   "execution_count": 17,
   "metadata": {},
   "outputs": [],
   "source": [
    "years = ['43', '45', '10', '10', '8', '9', '40', '48', '18'\n",
    "        , '30', '15', '26', '25', '34', '16', '4', '7', '8', '20', '8']"
   ]
  },
  {
   "cell_type": "code",
   "execution_count": 18,
   "metadata": {},
   "outputs": [
    {
     "data": {
      "text/plain": [
       "20"
      ]
     },
     "execution_count": 18,
     "metadata": {},
     "output_type": "execute_result"
    }
   ],
   "source": [
    "len(years)"
   ]
  },
  {
   "cell_type": "markdown",
   "metadata": {},
   "source": [
    "#### What is Correlation.\n",
    "The correlation is a statistical measure of the strength of the relationship between two variables. It determines the degree to which two or more random vaiables move in tandem. For example a movement in one variable is reciprocated by a movement, either positive or negative, in another variable then the two variables are said to be correlated (keydifferences.com,2018).\n",
    "\n",
    "Variables can have either a Positive Correlation or a Negative Correlation. When a positive change in one variable results in a positive change in a second variable they are said to be Positively Correlated. When a change in one variable results in a movement in the opposite direction of the other variable they are said to be Negatively Correlated. Correlation values are between +1 and -1. A correlation close to +1 indicates a strong positive relationship and a correlation close to -1 indicates a strong negative relationship (keydifferences.com,2018).   "
   ]
  },
  {
   "cell_type": "markdown",
   "metadata": {},
   "source": [
    "#### What is Covariance.\n",
    "The covariance is a statistical measure of a systematic relationship between two variables. A change in one variable is reciprocated by an equivalent change in the other variable. It ascertains the linear relationship between the variables. The covariance can be either positive or negative. Where the covariance is 0 there is no relationsip between the variables (keydifferences.com,2018). Closely related to covariance is correlation."
   ]
  },
  {
   "cell_type": "markdown",
   "metadata": {},
   "source": [
    "# 3. Synthesise a data set.\n",
    "Synthesise / simulate a date set as closely matching their properties as possible."
   ]
  },
  {
   "cell_type": "markdown",
   "metadata": {},
   "source": [
    "#### Names\n",
    "Started by faking up 250 names, I didn't need to add in hte names but I felt it added an air of authenticity to the data set. For the first names I used 50 male and 50 female names, in the spirit of equality!"
   ]
  },
  {
   "cell_type": "code",
   "execution_count": null,
   "metadata": {},
   "outputs": [],
   "source": [
    "# Created two lists. One of first names and one of second names. There are 100 names in each list.\n",
    "first_names = ['John', 'Mary', 'James', 'Patricia', 'Robert', 'Jennifer', 'Michael', 'Linda', 'William', \n",
    "               'Elizabeth', 'David', 'Barbara', 'Richard', 'Susan', 'Joseph', 'Jessica', 'Thomas', 'Sarah', \n",
    "               'Charles', 'Margaret', 'Christopher', 'Karen', 'Daniel', 'Nancy', 'Matthew', 'Lisa', 'Anthony',\n",
    "               'Betty', 'Donald', 'Dorothy', 'Mark', 'Sandra', 'Paul', 'Ashley', 'Steven', 'Kimberly', 'Andrew', \n",
    "               'Donna', 'Kenneth', 'Emily', 'George', 'Carol', 'Joshua', 'Michelle', 'Kevin', 'Amanda', 'Brian', \n",
    "               'Melissa', 'Edward', 'Deborah', 'Ronald', 'Stephanie', 'Timothy', 'Rebecca', 'Jason', 'Laura', \n",
    "               'Jeffrey', 'Helen', 'Ryan', 'Sharon', 'Jacob', 'Cynthia', 'Gary', 'Kathleen', 'Nicholas', 'Amy', \n",
    "               'Eric', 'Shirley', 'Stephen', 'Angela', 'Jonathan', 'Anna', 'Larry', 'Ruth', 'Justin', 'Brenda', \n",
    "               'Scott', 'Pamela', 'Brandon', 'Nicole', 'Frank', 'Katherine', 'Benjamin', 'Samantha', 'Gregory', \n",
    "               'Christine', 'Raymond', 'Catherine', 'Samuel', 'Virginia', 'Patrick', 'Debra', 'Alexander', 'Rachel',\n",
    "               'Jack', 'Janet', 'Dennis', 'Emma', 'Jerry', 'Carolyn']\n",
    "\n",
    "last_names = ['Smith', 'Jones', 'Taylor', 'Williams', 'Brown', 'Davies', 'Evans', 'Wilson', 'Thomas', 'Roberts', \n",
    "              'Johnson', 'Lewis', 'Walker', 'Robinson', 'Wood', 'Thompson', 'White', 'Watson', 'Jackson', 'Wright', \n",
    "              'Green', 'Harris', 'Cooper', 'King', 'Lee', 'Martin', 'Clarke', 'James', 'Morgan', 'Hughes', 'Edwards', \n",
    "              'Hill', 'Moore', 'Clark', 'Harrison', 'Bailey', 'Parker', 'Miller', 'Davis', 'Murphy', 'Price', 'Bell', \n",
    "              'Baker', 'Griffiths', 'Kelly', 'Simpson', 'Marshall', 'Collins', 'Bennett', 'Cox', 'Richardson', 'Fox', \n",
    "              'Gray', 'Rose', 'Chapman', 'Hunt', 'Robertson', 'Shaw', 'Reynolds', 'Lloyd', 'Ellis', 'Richards', \n",
    "              'Russell', 'Wilkinson', 'Khan', 'Graham', 'Stewart', 'Reid', 'Murray', 'Powell', 'Scott', 'Young', \n",
    "              'Morris', 'Hall', 'Ward', 'Turner', 'Carter', 'Phillips', 'Mitchell', 'Patel', 'Adams', 'Campbell', \n",
    "              'Anderson', 'Allen', 'Cook', 'Palmer', 'Holmes', 'Rogers', 'Stevens', 'Walsh', 'Hunter', 'Thomson', \n",
    "              'Matthews', 'Owen', 'Mason', 'Knight', 'Kennedy', 'Butler', 'Saunders', 'Cole']"
   ]
  },
  {
   "cell_type": "code",
   "execution_count": null,
   "metadata": {},
   "outputs": [],
   "source": [
    "# Creating a list of full names. Randomly selected first names and surnames are joined to make the full names. \n",
    "names = [] # An empty list called names. \n",
    "\n",
    "for i in range(250): # A 'for' loop. This will loop 250 times.\n",
    "    full_name=random.choice(first_names)+\" \"+random.choice(last_names) # Using random.choice to randomly select names from both lists. \n",
    "    names.append(full_name) # Appends the randomly generated full names to the emply list created earlier."
   ]
  },
  {
   "cell_type": "code",
   "execution_count": null,
   "metadata": {},
   "outputs": [],
   "source": [
    "names"
   ]
  },
  {
   "cell_type": "markdown",
   "metadata": {},
   "source": [
    "#### Beats Per Minute."
   ]
  },
  {
   "cell_type": "code",
   "execution_count": null,
   "metadata": {},
   "outputs": [],
   "source": [
    "np.random.seed(80) # Set the seed for the random generator to provide reproducability.\n",
    "bpm1 = np.random.randint(80,170,size=250)"
   ]
  },
  {
   "cell_type": "code",
   "execution_count": null,
   "metadata": {},
   "outputs": [],
   "source": [
    "len(bpm1)"
   ]
  },
  {
   "cell_type": "code",
   "execution_count": null,
   "metadata": {},
   "outputs": [],
   "source": [
    "bpm1"
   ]
  },
  {
   "cell_type": "code",
   "execution_count": null,
   "metadata": {},
   "outputs": [],
   "source": [
    "plt.hist(bpm1)\n",
    "plt.show"
   ]
  },
  {
   "cell_type": "code",
   "execution_count": null,
   "metadata": {},
   "outputs": [],
   "source": [
    "plt.plot(bpm1)\n",
    "plt.axis([0, 260, 0, 180])\n",
    "plt.show"
   ]
  },
  {
   "cell_type": "code",
   "execution_count": null,
   "metadata": {},
   "outputs": [],
   "source": [
    "mu, sigma = 122.5, 25.13 # mean and standard deviation\n",
    "s = np.random.normal(mu, sigma, 250)"
   ]
  },
  {
   "cell_type": "code",
   "execution_count": null,
   "metadata": {},
   "outputs": [],
   "source": [
    "plt.plot(s)\n",
    "plt.show"
   ]
  },
  {
   "cell_type": "code",
   "execution_count": null,
   "metadata": {},
   "outputs": [],
   "source": [
    "np.mean(bpm1)"
   ]
  },
  {
   "cell_type": "code",
   "execution_count": null,
   "metadata": {},
   "outputs": [],
   "source": [
    "np.std(bpm1)"
   ]
  },
  {
   "cell_type": "code",
   "execution_count": null,
   "metadata": {},
   "outputs": [],
   "source": [
    "bpm1.tolist()"
   ]
  },
  {
   "cell_type": "code",
   "execution_count": null,
   "metadata": {},
   "outputs": [],
   "source": [
    "guit = {'Names':names, 'BPM':bpm1}"
   ]
  },
  {
   "cell_type": "code",
   "execution_count": null,
   "metadata": {},
   "outputs": [],
   "source": [
    "df5 = pd.DataFrame(guit)"
   ]
  },
  {
   "cell_type": "code",
   "execution_count": null,
   "metadata": {},
   "outputs": [],
   "source": [
    "df5"
   ]
  },
  {
   "cell_type": "markdown",
   "metadata": {},
   "source": [
    "## Data Frame."
   ]
  },
  {
   "cell_type": "markdown",
   "metadata": {},
   "source": [
    "# 4. Detail my research.\n",
    "Detail my research and implement the simulation in a Jupyter Notebook - the data itself can simply be displayed in an output cell within the notebook."
   ]
  },
  {
   "cell_type": "markdown",
   "metadata": {},
   "source": [
    "### Reflection & Lessons.\n",
    "Had some trouble creating the dataframe. Getting lists into it as well as joining or merging took some trial and error.\n",
    "\n",
    "Distribution of bpm, normal didn't look right. tried s different one to skew the bpm results."
   ]
  },
  {
   "cell_type": "markdown",
   "metadata": {},
   "source": [
    "# Notes.\n",
    "Cognitive bias - have I introduced bias into the data? How would I know? Will that make a difference to the data or the results?\n",
    "\n",
    "Can I use SK Learn?\n"
   ]
  },
  {
   "cell_type": "markdown",
   "metadata": {},
   "source": [
    "# References.\n",
    "\n",
    "Source for the list of first names. \n",
    "https://www.ssa.gov/oact/babynames/decades/century.html\n",
    "\n",
    "Source for the list of surnames.\n",
    "https://surname.sofeminine.co.uk/w/surnames/most-common-surnames-in-great-britain.html\n",
    "\n",
    "keydifferences.com https://keydifferences.com/difference-between-covariance-and-correlation.html\n",
    "\n",
    "Creating df from lists.\n",
    "https://cmdlinetips.com/2018/01/how-to-create-pandas-dataframe-from-multiple-lists/\n",
    "\n",
    "\n",
    "I used the documentation for all of the libraries several times during this project. Too many to list individually, or else the reference section would be longer than my project. By way of acknowledgement I have provided links to the documentation pages for the libraries I used. \n",
    "\n",
    "matplotlib.org https://matplotlib.org/index.html\n",
    "\n",
    "numpy.org http://www.numpy.org\n",
    "\n",
    "pandas\n",
    "\n",
    "\n"
   ]
  },
  {
   "cell_type": "markdown",
   "metadata": {},
   "source": [
    "## END"
   ]
  },
  {
   "cell_type": "code",
   "execution_count": null,
   "metadata": {},
   "outputs": [],
   "source": [
    "names1 = ['Jane', 'Pat', 'Anne', 'John']\n",
    "years = ['1973', '1974', '1976', '1977']"
   ]
  },
  {
   "cell_type": "code",
   "execution_count": null,
   "metadata": {},
   "outputs": [],
   "source": [
    "p = {'Names':names1, 'Years':years}\n",
    "p"
   ]
  },
  {
   "cell_type": "code",
   "execution_count": null,
   "metadata": {},
   "outputs": [],
   "source": [
    "df = pd.DataFrame(p)\n",
    "df"
   ]
  },
  {
   "cell_type": "code",
   "execution_count": null,
   "metadata": {},
   "outputs": [],
   "source": [
    "d = {'one' : [1., 2., 3., 4.],\n",
    "     'two' : [4., 3., 2., 1.]}\n",
    "pd.DataFrame(d)"
   ]
  },
  {
   "cell_type": "code",
   "execution_count": null,
   "metadata": {},
   "outputs": [],
   "source": [
    "family = {'names1' : ['Mary', 'Wayne', 'Eoin', 'Eimear'],\n",
    "              'yob' : ['1973', '1974', '2007', '2009'],\n",
    "             'Born' : ['Bsloe', 'Gal', 'Bsloe', 'Bsloe']}\n",
    "pd.DataFrame(family)"
   ]
  },
  {
   "cell_type": "code",
   "execution_count": null,
   "metadata": {},
   "outputs": [],
   "source": []
  }
 ],
 "metadata": {
  "kernelspec": {
   "display_name": "Python 3",
   "language": "python",
   "name": "python3"
  },
  "language_info": {
   "codemirror_mode": {
    "name": "ipython",
    "version": 3
   },
   "file_extension": ".py",
   "mimetype": "text/x-python",
   "name": "python",
   "nbconvert_exporter": "python",
   "pygments_lexer": "ipython3",
   "version": "3.7.0"
  }
 },
 "nbformat": 4,
 "nbformat_minor": 2
}
